{
 "cells": [
  {
   "cell_type": "markdown",
   "id": "33f9d7a5",
   "metadata": {},
   "source": [
    "# Cấu trúc lặp for trong python"
   ]
  },
  {
   "attachments": {
    "image.png": {
     "image/png": "[encoded data removed]"
    }
   },
   "cell_type": "markdown",
   "id": "f64c9eae",
   "metadata": {},
   "source": [
    "## Review: Vẽ kim tự tháp\n",
    "![image.png](attachment:image.png)"
   ]
  },
  {
   "cell_type": "code",
   "execution_count": 7,
   "id": "ffcb1603",
   "metadata": {},
   "outputs": [
    {
     "name": "stdout",
     "output_type": "stream",
     "text": [
      "Nhap vao so luong tam giac deu: 5\n"
     ]
    }
   ],
   "source": [
    "import turtle\n",
    "t=turtle.Turtle()\n",
    "\n",
    "tg=int(input('Nhap vao so luong tam giac deu: '))\n",
    "b=10\n",
    "count=1 #bien dem tam giac\n",
    "\n",
    "while count<=tg:\n",
    "    t.circle(b,steps=3) #hoac t.circle(10*count,steps=3)\n",
    "    b+=10\n",
    "    count+=1\n",
    "\n",
    "turtle.done()"
   ]
  },
  {
   "cell_type": "markdown",
   "id": "35ef7a35",
   "metadata": {},
   "source": [
    "## for kết hợp với hàm range()"
   ]
  },
  {
   "cell_type": "markdown",
   "id": "80e01298",
   "metadata": {},
   "source": [
    "### Trường hợp 1 tham số"
   ]
  },
  {
   "cell_type": "markdown",
   "id": "e4344e2d",
   "metadata": {},
   "source": [
    "#In ra cac so tu nhien tu 1 => 10"
   ]
  },
  {
   "cell_type": "code",
   "execution_count": 9,
   "id": "80399553",
   "metadata": {},
   "outputs": [
    {
     "name": "stdout",
     "output_type": "stream",
     "text": [
      "1\n",
      "2\n",
      "3\n",
      "4\n",
      "5\n",
      "6\n",
      "7\n",
      "8\n",
      "9\n",
      "10\n"
     ]
    }
   ],
   "source": [
    "#while loop\n",
    "\n",
    "count=1\n",
    "while count<11:\n",
    "    print(count)\n",
    "    count+=1"
   ]
  },
  {
   "cell_type": "code",
   "execution_count": 20,
   "id": "9f4f6646",
   "metadata": {},
   "outputs": [
    {
     "name": "stdout",
     "output_type": "stream",
     "text": [
      "0\n",
      "1\n",
      "2\n",
      "3\n",
      "4\n",
      "5\n",
      "6\n",
      "7\n",
      "8\n",
      "9\n",
      "10\n"
     ]
    }
   ],
   "source": [
    "#for loop\n",
    "\n",
    "for i in range(11):\n",
    "    print(i)"
   ]
  },
  {
   "cell_type": "markdown",
   "id": "c4b95cff",
   "metadata": {},
   "source": [
    "## Vi du: In ra cac so tu nhien tu 0 den 100"
   ]
  },
  {
   "cell_type": "code",
   "execution_count": 19,
   "id": "38bdc502",
   "metadata": {},
   "outputs": [
    {
     "name": "stdout",
     "output_type": "stream",
     "text": [
      "0\n",
      "1\n",
      "2\n",
      "3\n",
      "4\n",
      "5\n",
      "6\n",
      "7\n",
      "8\n",
      "9\n",
      "10\n",
      "11\n",
      "12\n",
      "13\n",
      "14\n",
      "15\n",
      "16\n",
      "17\n",
      "18\n",
      "19\n",
      "20\n",
      "21\n",
      "22\n",
      "23\n",
      "24\n",
      "25\n",
      "26\n",
      "27\n",
      "28\n",
      "29\n",
      "30\n",
      "31\n",
      "32\n",
      "33\n",
      "34\n",
      "35\n",
      "36\n",
      "37\n",
      "38\n",
      "39\n",
      "40\n",
      "41\n",
      "42\n",
      "43\n",
      "44\n",
      "45\n",
      "46\n",
      "47\n",
      "48\n",
      "49\n",
      "50\n",
      "51\n",
      "52\n",
      "53\n",
      "54\n",
      "55\n",
      "56\n",
      "57\n",
      "58\n",
      "59\n",
      "60\n",
      "61\n",
      "62\n",
      "63\n",
      "64\n",
      "65\n",
      "66\n",
      "67\n",
      "68\n",
      "69\n",
      "70\n",
      "71\n",
      "72\n",
      "73\n",
      "74\n",
      "75\n",
      "76\n",
      "77\n",
      "78\n",
      "79\n",
      "80\n",
      "81\n",
      "82\n",
      "83\n",
      "84\n",
      "85\n",
      "86\n",
      "87\n",
      "88\n",
      "89\n",
      "90\n",
      "91\n",
      "92\n",
      "93\n",
      "94\n",
      "95\n",
      "96\n",
      "97\n",
      "98\n",
      "99\n",
      "100\n"
     ]
    }
   ],
   "source": [
    "for i in range(101):\n",
    "    print(i)"
   ]
  },
  {
   "cell_type": "markdown",
   "id": "b4eb03ed",
   "metadata": {},
   "source": [
    "### Ví dụ: In các số lẻ từ 0 đến 100"
   ]
  },
  {
   "cell_type": "code",
   "execution_count": 21,
   "id": "f73caa14",
   "metadata": {},
   "outputs": [
    {
     "name": "stdout",
     "output_type": "stream",
     "text": [
      "1\n",
      "3\n",
      "5\n",
      "7\n",
      "9\n",
      "11\n",
      "13\n",
      "15\n",
      "17\n",
      "19\n",
      "21\n",
      "23\n",
      "25\n",
      "27\n",
      "29\n",
      "31\n",
      "33\n",
      "35\n",
      "37\n",
      "39\n",
      "41\n",
      "43\n",
      "45\n",
      "47\n",
      "49\n",
      "51\n",
      "53\n",
      "55\n",
      "57\n",
      "59\n",
      "61\n",
      "63\n",
      "65\n",
      "67\n",
      "69\n",
      "71\n",
      "73\n",
      "75\n",
      "77\n",
      "79\n",
      "81\n",
      "83\n",
      "85\n",
      "87\n",
      "89\n",
      "91\n",
      "93\n",
      "95\n",
      "97\n",
      "99\n"
     ]
    }
   ],
   "source": [
    "for i in range(101):\n",
    "    if i%2:\n",
    "        print(i)"
   ]
  },
  {
   "cell_type": "markdown",
   "id": "5b4c7f1c",
   "metadata": {},
   "source": [
    "### Trường hợp 2 tham số"
   ]
  },
  {
   "cell_type": "code",
   "execution_count": 22,
   "id": "ab369d26",
   "metadata": {},
   "outputs": [
    {
     "name": "stdout",
     "output_type": "stream",
     "text": [
      "5\n",
      "6\n",
      "7\n",
      "8\n",
      "9\n",
      "10\n"
     ]
    }
   ],
   "source": [
    "for i in range (5,11):\n",
    "    print(i)"
   ]
  },
  {
   "cell_type": "markdown",
   "id": "06853353",
   "metadata": {},
   "source": [
    "### Ví dụ: In các số chia hết cho 7 từ a đến b"
   ]
  },
  {
   "cell_type": "code",
   "execution_count": 25,
   "id": "7b21bcdf",
   "metadata": {},
   "outputs": [
    {
     "name": "stdout",
     "output_type": "stream",
     "text": [
      "Input a: 3\n",
      "Input b: 14\n",
      "7\n",
      "14\n"
     ]
    }
   ],
   "source": [
    "a=int(input('Input a: '))\n",
    "b=int(input('Input b: '))\n",
    "\n",
    "for i in range(a,b+1): #b+1: lay gia tri den b; neu de b thi se lay gia tri den b-1\n",
    "    if not i%7:\n",
    "        print(i)"
   ]
  },
  {
   "cell_type": "markdown",
   "id": "5f784920",
   "metadata": {},
   "source": [
    "### Trường hợp 3 tham số"
   ]
  },
  {
   "cell_type": "code",
   "execution_count": 28,
   "id": "f6b32018",
   "metadata": {
    "scrolled": true
   },
   "outputs": [
    {
     "name": "stdout",
     "output_type": "stream",
     "text": [
      "10\n",
      "6\n",
      "2\n"
     ]
    }
   ],
   "source": [
    "for i in range(10,0,-4): #tham so thu 3: mac dinh gia tri nhay, la buoc nhay\n",
    "    print(i)"
   ]
  },
  {
   "cell_type": "markdown",
   "id": "e11b0f00",
   "metadata": {},
   "source": [
    "#range(start-optional, end-optional, step-optional)"
   ]
  },
  {
   "cell_type": "markdown",
   "id": "a4c0fc85",
   "metadata": {},
   "source": [
    "### Ví dụ: Biểu diễn cấp số cộng"
   ]
  },
  {
   "cell_type": "markdown",
   "id": "b14e7ca3",
   "metadata": {},
   "source": [
    "#Nhap vao so hang dau va cong sai cua cap so cong, sau do in ra 10 so hang dau tien cua cap so cong do"
   ]
  },
  {
   "cell_type": "code",
   "execution_count": 1,
   "id": "9e9a5cbf",
   "metadata": {
    "scrolled": true
   },
   "outputs": [
    {
     "name": "stdout",
     "output_type": "stream",
     "text": [
      "Input n: 4\n",
      "Input cong sai: 2\n",
      "4\n",
      "6\n",
      "8\n",
      "10\n",
      "12\n",
      "14\n",
      "16\n",
      "18\n",
      "20\n",
      "22\n"
     ]
    }
   ],
   "source": [
    "n=int(input('Input n: '))\n",
    "d=int(input('Input cong sai: '))\n",
    "\n",
    "for i in range(n, n+9*d+1, d):\n",
    "    print(i)"
   ]
  },
  {
   "cell_type": "markdown",
   "id": "69d93a5d",
   "metadata": {},
   "source": [
    "#Nhap vao so hang dau va cong sai cua cap so cong, sau do in ra a so hang dau tien cua cap so cong do"
   ]
  },
  {
   "cell_type": "code",
   "execution_count": 4,
   "id": "fd6c27a1",
   "metadata": {},
   "outputs": [
    {
     "name": "stdout",
     "output_type": "stream",
     "text": [
      "Input n: 4\n",
      "Input cong sai: 2\n",
      "Input so lan in: 9\n",
      "4\n",
      "6\n",
      "8\n",
      "10\n",
      "12\n",
      "14\n",
      "16\n",
      "18\n",
      "20\n"
     ]
    }
   ],
   "source": [
    "n=int(input('Input n: '))\n",
    "d=int(input('Input cong sai: '))\n",
    "a=int(input('Input so lan in: '))\n",
    "\n",
    "for i in range(n, n+(a-1)*d+1, d):\n",
    "    print(i)"
   ]
  },
  {
   "cell_type": "markdown",
   "id": "a2a61887",
   "metadata": {},
   "source": [
    "## lặp qua một chuỗi"
   ]
  },
  {
   "cell_type": "code",
   "execution_count": 6,
   "id": "e495f392",
   "metadata": {
    "scrolled": true
   },
   "outputs": [
    {
     "name": "stdout",
     "output_type": "stream",
     "text": [
      "Index: 0, value: H\n",
      "Index: 1, value: e\n",
      "Index: 2, value: l\n",
      "Index: 3, value: l\n",
      "Index: 4, value: o\n",
      "Index: 5, value:  \n",
      "Index: 6, value: P\n",
      "Index: 7, value: y\n",
      "Index: 8, value: t\n",
      "Index: 9, value: h\n",
      "Index: 10, value: o\n",
      "Index: 11, value: n\n",
      "Index: 12, value:  \n",
      "Index: 13, value: F\n",
      "Index: 14, value: u\n",
      "Index: 15, value: n\n",
      "Index: 16, value: d\n",
      "Index: 17, value: a\n",
      "Index: 18, value: m\n",
      "Index: 19, value: e\n",
      "Index: 20, value: n\n",
      "Index: 21, value: t\n",
      "Index: 22, value: a\n",
      "Index: 23, value: l\n"
     ]
    }
   ],
   "source": [
    "string='Hello Python Fundamental'\n",
    "for i in range(len(string)):\n",
    "    print(f'Index: {i}, value: {string[i]}')"
   ]
  },
  {
   "cell_type": "code",
   "execution_count": 7,
   "id": "a3ddb56f",
   "metadata": {},
   "outputs": [
    {
     "name": "stdout",
     "output_type": "stream",
     "text": [
      "H\n",
      "e\n",
      "l\n",
      "l\n",
      "o\n",
      " \n",
      "P\n",
      "y\n",
      "t\n",
      "h\n",
      "o\n",
      "n\n",
      " \n",
      "F\n",
      "u\n",
      "n\n",
      "d\n",
      "a\n",
      "m\n",
      "e\n",
      "n\n",
      "t\n",
      "a\n",
      "l\n"
     ]
    }
   ],
   "source": [
    "string='Hello Python Fundamental'\n",
    "for c in string:\n",
    "    print(c)"
   ]
  },
  {
   "cell_type": "markdown",
   "id": "a4013631",
   "metadata": {},
   "source": [
    "### Ví dụ: Đếm số lượng nguyên âm trong chuỗi"
   ]
  },
  {
   "cell_type": "code",
   "execution_count": 13,
   "id": "319bfb92",
   "metadata": {},
   "outputs": [
    {
     "name": "stdout",
     "output_type": "stream",
     "text": [
      "So nguyen am trong chuoi:  7\n"
     ]
    }
   ],
   "source": [
    "string='hello python fundamental'\n",
    "count=0\n",
    "\n",
    "for c in string:\n",
    "    if c=='a' or c=='o' or c=='e' or c=='u' or c=='i':\n",
    "        count+=1\n",
    "print(f'So nguyen am trong chuoi: ',count)"
   ]
  },
  {
   "cell_type": "markdown",
   "id": "49bf78d3",
   "metadata": {},
   "source": [
    "## Lặp qua một danh sách chuỗi"
   ]
  },
  {
   "cell_type": "code",
   "execution_count": 15,
   "id": "0a5874cf",
   "metadata": {},
   "outputs": [
    {
     "name": "stdout",
     "output_type": "stream",
     "text": [
      "Long\n",
      "Nhan\n",
      "Hung\n"
     ]
    }
   ],
   "source": [
    "names=['Long','Nhan','Hung']\n",
    "for i in range(len(names)):\n",
    "    print(names[i])"
   ]
  },
  {
   "cell_type": "markdown",
   "id": "be1b5ba5",
   "metadata": {},
   "source": [
    "### Ví dụ: Tìm chuỗi dài nhất"
   ]
  },
  {
   "cell_type": "code",
   "execution_count": null,
   "id": "d6e7ef2c",
   "metadata": {},
   "outputs": [],
   "source": []
  },
  {
   "cell_type": "markdown",
   "id": "69fa4d9f",
   "metadata": {},
   "source": [
    "## Vòng lặp lồng nhau"
   ]
  },
  {
   "cell_type": "code",
   "execution_count": 17,
   "id": "864bc218",
   "metadata": {},
   "outputs": [
    {
     "name": "stdout",
     "output_type": "stream",
     "text": [
      "2 4 6 8 10 12 14 16 18 20 \n",
      "3 6 9 12 15 18 21 24 27 30 \n",
      "4 8 12 16 20 24 28 32 36 40 \n",
      "5 10 15 20 25 30 35 40 45 50 \n",
      "6 12 18 24 30 36 42 48 54 60 \n",
      "7 14 21 28 35 42 49 56 63 70 \n",
      "8 16 24 32 40 48 56 64 72 80 \n",
      "9 18 27 36 45 54 63 72 81 90 \n"
     ]
    }
   ],
   "source": [
    "for i in range(2,10):\n",
    "    for j in range(1,11):\n",
    "        print(i*j, end=' ')\n",
    "    print()"
   ]
  }
 ],
 "metadata": {
  "kernelspec": {
   "display_name": "Python 3 (ipykernel)",
   "language": "python",
   "name": "python3"
  },
  "language_info": {
   "codemirror_mode": {
    "name": "ipython",
    "version": 3
   },
   "file_extension": ".py",
   "mimetype": "text/x-python",
   "name": "python",
   "nbconvert_exporter": "python",
   "pygments_lexer": "ipython3",
   "version": "3.10.7"
  }
 },
 "nbformat": 4,
 "nbformat_minor": 5
}
