{
 "cells": [
  {
   "cell_type": "markdown",
   "id": "43b593b8",
   "metadata": {},
   "source": [
    "'''' Bài 16: https://v1study.com/python-bai-tap-bai-tap-phan-class.html?fbclid=IwAR3utVZw8D9w3sS2vhAgcBQ_YC3y99KXyQbJCixJRb1sOg_e28nThjY-F5E\n",
    "\n"
   ]
  },
  {
   "cell_type": "code",
   "execution_count": 18,
   "id": "6d157002",
   "metadata": {
    "scrolled": true
   },
   "outputs": [
    {
     "name": "stdout",
     "output_type": "stream",
     "text": [
      "i = 0\n",
      "Turn on\n",
      "Light on\n",
      "Turn off\n",
      "-------------\n",
      "i = 1\n",
      "Turn on\n",
      "Light on\n",
      "Turn off\n",
      "-------------\n",
      "i = 2\n",
      "Turn on\n",
      "Light on\n",
      "Turn off\n",
      "-------------\n",
      "i = 3\n",
      "Turn on\n",
      "Light on\n",
      "Turn off\n",
      "-------------\n",
      "i = 4\n",
      "Turn on\n",
      "Light on\n",
      "Turn off\n",
      "-------------\n",
      "i = 5\n",
      "Turn on\n",
      "Light off\n",
      "Turn off\n",
      "-------------\n",
      "i = 6\n",
      "Turn on\n",
      "Light off\n",
      "Turn off\n",
      "-------------\n",
      "i = 7\n",
      "Turn on\n",
      "Light off\n",
      "Turn off\n",
      "-------------\n",
      "i = 8\n",
      "Turn on\n",
      "Light off\n",
      "Turn off\n",
      "-------------\n",
      "i = 9\n",
      "Turn on\n",
      "Light off\n",
      "Turn off\n",
      "-------------\n",
      "Remaining energy in flashlamp battery: -10\n"
     ]
    }
   ],
   "source": [
    "class Battery:\n",
    "    def __init__(self):\n",
    "        self.energy = 10\n",
    "        \n",
    "    def set_energy(self,energy):\n",
    "        self.energy = energy #truyen lai nang luong moi vao battery\n",
    "    \n",
    "    def get_energy(self):\n",
    "        return self.energy\n",
    "        \n",
    "    def decrease_energy(self):\n",
    "        self.energy -= 2\n",
    "\n",
    "class FlashLamp:\n",
    "    def __init__(self):\n",
    "        self.status = False\n",
    "        self.battery = None #chua co gia tri: set gia tri rong = None\n",
    "        \n",
    "    def set_battery(self,b):\n",
    "        self.battery = b #den da duoc lap cuc pin b\n",
    "        \n",
    "    def get_battery_info(self):\n",
    "        return self.battery.get_energy() #lay cuc pin ra de check nang luong\n",
    "        \n",
    "    def turn_on(self):\n",
    "        self.status = True\n",
    "        print('Turn on')\n",
    "        self.battery.decrease_energy() #giam nang luong pin khi bat den\n",
    "        if self.get_battery_info() < 0:\n",
    "            print('Light off')\n",
    "        else:\n",
    "            print('Light on')\n",
    "    \n",
    "    def turn_off(self):\n",
    "        self_status = False\n",
    "        print('Turn off')\n",
    "           \n",
    "class TestFlashLamp:\n",
    "    def main(self):\n",
    "        battery = Battery()\n",
    "        flash_lamp = FlashLamp()\n",
    "        flash_lamp.set_battery(battery) #gan pin vao den\n",
    "        \n",
    "        for i in range(10): #bat tat den 10 lan\n",
    "            print(f'i = {i}')\n",
    "            flash_lamp.turn_on()\n",
    "            flash_lamp.turn_off()\n",
    "            print('-------------')\n",
    "        print(f'Remaining energy in flashlamp battery: {flash_lamp.get_battery_info()}')\n",
    "        \n",
    "TestFlashLamp().main()"
   ]
  },
  {
   "cell_type": "markdown",
   "id": "4397fa2b",
   "metadata": {},
   "source": [
    "# [Thực hành] Xây dựng lớp hình tròn và vẽ\n",
    "\n",
    "Xây dựng lớp hình tròn với thuộc tính là bán kính, tọa độ của tâm hình tròn. Các phương thức vẽ hình tròn, tính chu vi, diện tích hình tròn."
   ]
  },
  {
   "cell_type": "code",
   "execution_count": 8,
   "id": "7a73892f",
   "metadata": {},
   "outputs": [],
   "source": [
    "import turtle\n",
    "import math\n",
    "\n",
    "class Circle:\n",
    "\n",
    "    def __init__(self, r, x, y):\n",
    "        \"\"\"\n",
    "        Hàm khởi tạo có tham số\n",
    "        :param r: Bán kính\n",
    "        :param x: Hoành độ x của tâm hình tròn\n",
    "        :param y: Tung độ y của tâm hình tròn\n",
    "        \"\"\"\n",
    "        self.r = r\n",
    "        self.x = x\n",
    "        self.y = y\n",
    "\n",
    "    def draw(self):\n",
    "        \"\"\"Phương thức vẽ đường tròn\"\"\"\n",
    "        t = turtle.Turtle()\n",
    "        t.hideturtle()\n",
    "        t.penup()\n",
    "        t.goto(self.x, self.y)\n",
    "        t.pendown()\n",
    "        t.circle(self.r)\n",
    "        turtle.done()\n",
    "\n",
    "    def area(self):\n",
    "        '''Phương thức tính diện tích hình tròn'''\n",
    "        return math.pi * self.r ** 2\n",
    "\n",
    "    def perimeter(self):\n",
    "        \"\"\"Phương thức tính chu vi đường tròn \"\"\"\n",
    "        return 2 * math.pi * self.r"
   ]
  },
  {
   "cell_type": "code",
   "execution_count": 9,
   "id": "2df09d38",
   "metadata": {
    "scrolled": true
   },
   "outputs": [
    {
     "name": "stdout",
     "output_type": "stream",
     "text": [
      "S =  31415.926535897932\n",
      "C =  628.3185307179587\n"
     ]
    }
   ],
   "source": [
    "c = Circle(100, -200, 0)\n",
    "c.draw()\n",
    "print(\"S = \", c.area())\n",
    "print(\"C = \", c.perimeter())"
   ]
  },
  {
   "cell_type": "markdown",
   "id": "fb386b3c",
   "metadata": {},
   "source": [
    "# [Thực hành] Python program to build flashcard using class in Python\n",
    "\n",
    "Xây dựng lớp flashcard đơn giản. Khi chạy chương trình sẽ hiển thị 1 từ tiếng Việt, yêu cầu người dùng phải nhập vào từ tương ứng trong tiếng Anh. Chương trình sẽ tự đánh giá câu trả lời của người dùng đúng hoặc sai."
   ]
  },
  {
   "cell_type": "code",
   "execution_count": 13,
   "id": "47bba3ff",
   "metadata": {},
   "outputs": [],
   "source": [
    "import random\n",
    "\n",
    "class flashcard:\n",
    "    def __init__(self):\n",
    "\n",
    "        self.animals = {'Con ong': 'bee',\n",
    "                        'Con thỏ': 'rabbit',\n",
    "                        'Con cua': 'crab',\n",
    "                        'Con mèo': 'cat',\n",
    "                        'Con ngựa': 'horse',\n",
    "                        'Con khỉ': 'monkey',\n",
    "                        'Con lừa': 'donkey'}\n",
    "        \n",
    "    def quiz(self):\n",
    "        while True:\n",
    "\n",
    "            vietnamese, english = random.choice(list(self.animals.items()))\n",
    "\n",
    "            print(\"Tiếng Anh của '{}' là: \".format(vietnamese))\n",
    "            user_answer = input()\n",
    "\n",
    "            if user_answer.lower() == english:\n",
    "                print(\"Đúng\")\n",
    "            else:\n",
    "                print(\"Sai\")\n",
    "\n",
    "            option = int(input(\"Nhập 0 để tiếp tục : \"))\n",
    "            if option:\n",
    "                break\n",
    "        print(\"Kết thúc\")"
   ]
  },
  {
   "cell_type": "code",
   "execution_count": null,
   "id": "ca90f176",
   "metadata": {},
   "outputs": [
    {
     "name": "stdout",
     "output_type": "stream",
     "text": [
      "Tiếng Anh của 'Con mèo' là: \n",
      "Cat\n",
      "Đúng\n",
      "Nhập 0 để tiếp tục : 0\n",
      "Tiếng Anh của 'Con khỉ' là: \n",
      "monkey\n",
      "Đúng\n",
      "Nhập 0 để tiếp tục : 0\n",
      "Tiếng Anh của 'Con khỉ' là: \n",
      "monkey\n",
      "Đúng\n",
      "Nhập 0 để tiếp tục : 0\n",
      "Tiếng Anh của 'Con lừa' là: \n",
      "donki\n",
      "Sai\n"
     ]
    }
   ],
   "source": [
    "fc = flashcard()\n",
    "fc.quiz()"
   ]
  }
 ],
 "metadata": {
  "kernelspec": {
   "display_name": "Python 3 (ipykernel)",
   "language": "python",
   "name": "python3"
  },
  "language_info": {
   "codemirror_mode": {
    "name": "ipython",
    "version": 3
   },
   "file_extension": ".py",
   "mimetype": "text/x-python",
   "name": "python",
   "nbconvert_exporter": "python",
   "pygments_lexer": "ipython3",
   "version": "3.10.7"
  }
 },
 "nbformat": 4,
 "nbformat_minor": 5
}
