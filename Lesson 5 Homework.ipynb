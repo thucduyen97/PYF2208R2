{
 "cells": [
  {
   "cell_type": "markdown",
   "id": "20d18086",
   "metadata": {},
   "source": [
    "## BAI TAP CHUYEN DOI NHIET DO"
   ]
  },
  {
   "cell_type": "code",
   "execution_count": null,
   "id": "3ab49cf7",
   "metadata": {},
   "outputs": [],
   "source": [
    "doC=int(input('Nhap do C: '))\n",
    "doF=(9*(int(doC)))"
   ]
  }
 ],
 "metadata": {
  "kernelspec": {
   "display_name": "Python 3 (ipykernel)",
   "language": "python",
   "name": "python3"
  },
  "language_info": {
   "codemirror_mode": {
    "name": "ipython",
    "version": 3
   },
   "file_extension": ".py",
   "mimetype": "text/x-python",
   "name": "python",
   "nbconvert_exporter": "python",
   "pygments_lexer": "ipython3",
   "version": "3.10.7"
  }
 },
 "nbformat": 4,
 "nbformat_minor": 5
}
