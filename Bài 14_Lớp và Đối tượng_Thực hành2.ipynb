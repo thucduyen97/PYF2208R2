{
 "cells": [
  {
   "cell_type": "markdown",
   "id": "fb99e90a",
   "metadata": {},
   "source": [
    "\"\"\"\n",
    "Viết class NhanVien gồm các thuộc tính:\n",
    "+ Tên\n",
    "+ Tuổi\n",
    "+ Địa chỉ\n",
    "+ Tiền lương\n",
    "+ Tổng số giờ làm\n",
    "\n",
    "Và các phương thức:\n",
    "- Phương thức tạo\n",
    "- input_info() : Nhập các thông tin cho nhân viên từ bàn phím\n",
    "- print_info() : In ra tất cả các thông tin của nhân viên\n",
    "- tinh_thuong(): Tính toán và trả về số tiền thưởng của nhân viên theo công thức sau:\n",
    "Nếu tổng số giờ làm của nhân viên >=200 thì thưởng = lương * 20%\n",
    "Nếu tổng số giờ làm của nhân viên <200 và >=100 thì thưởng = lương * 10%\n",
    "Nếu tổng số giờ làm của nhân viên <100 thì thưởng = 0\n",
    "\"\"\""
   ]
  },
  {
   "cell_type": "code",
   "execution_count": 48,
   "id": "3cf0f41d",
   "metadata": {},
   "outputs": [],
   "source": [
    "class NhanVien:\n",
    "    def __init__(self):\n",
    "        self.ten = ''\n",
    "        self.tuoi = 18\n",
    "        self.diachi = ''\n",
    "        self.tienluong = ''\n",
    "        self.tonggiolam = ''\n",
    "    \n",
    "    def input_info(self):\n",
    "        self.ten = input('Nhap ten: ')\n",
    "        self.tuoi = int(input('Nhap tuoi: '))\n",
    "        self.diachi = input('Nhap dia chi: ')\n",
    "        self.tienluong = int(input('Nhap tien luong: '))\n",
    "        self.tonggiolam = float(input('Nhap tong gio lam: '))\n",
    "        \n",
    "    def tinh_thuong(self):\n",
    "        tien_thuong = 0\n",
    "        if self.tonggiolam >= 200:\n",
    "            tien_thuong = 0.02 * self.tienluong\n",
    "        elif self.tonggiolam >= 100:\n",
    "            tien_thuong = 0.01 * self.tienluong\n",
    "        return tien_thuong\n",
    "    \n",
    "    def print_info(self):\n",
    "        print('---------------------------')\n",
    "        print(f'Ten nhan vien: {self.ten}')\n",
    "        print(f'Tuoi nhan vien: {self.tuoi}')\n",
    "        print(f'Dia chi nhan vien: {self.diachi}')\n",
    "        print(f'Tien luong nhan vien: {self.tienluong}')\n",
    "        print(f'Tong gio lam nhan vien: {self.tonggiolam}')\n",
    "        print(f'Tien thuong nhan vien: {self.tinh_thuong()}')\n",
    "        print('---------------------------')"
   ]
  },
  {
   "cell_type": "code",
   "execution_count": 49,
   "id": "830d7535",
   "metadata": {
    "scrolled": false
   },
   "outputs": [
    {
     "name": "stdout",
     "output_type": "stream",
     "text": [
      "Nhap ten: Duyen\n",
      "Nhap tuoi: 25\n",
      "Nhap dia chi: Da Nang\n",
      "Nhap tien luong: 15000\n",
      "Nhap tong gio lam: 400\n",
      "---------------------------\n",
      "Ten nhan vien: Duyen\n",
      "Tuoi nhan vien: 25\n",
      "Dia chi nhan vien: Da Nang\n",
      "Tien luong nhan vien: 15000\n",
      "Tong gio lam nhan vien: 400.0\n",
      "Tien thuong nhan vien: 300.0\n",
      "---------------------------\n"
     ]
    }
   ],
   "source": [
    "a = NhanVien()\n",
    " \n",
    "a.input_info()\n",
    "a.print_info()"
   ]
  },
  {
   "cell_type": "markdown",
   "id": "0f51d6ca",
   "metadata": {},
   "source": [
    "\"\"\"\n",
    "Tạo class có tên SoHoc gồm có các thuộc tính và phương thức sau:\n",
    "+ Thuộc tính: number1, number2\n",
    "+ Phương thức:\n",
    "- Phương thức tạo __init()__\n",
    "- Các phương thức get, set cho tất cả các thuộc tính\n",
    "- input_info(): dùng để nhập 2 số number1, number2\n",
    "- print_info(): dùng để hiển thị number1, number2\n",
    "- addition(): dùng để cộng number1, number2\n",
    "- subtract(): trừ number1, number2\n",
    "- multi(): dùng để nhân number1, number2\n",
    "- division(): dùng để chia number1, number2.\n",
    "\n",
    "Sau khi tạo class, khởi tạo một object SoHoc và in ra kết quả tính toán từ các hàm thực hiện phép tính\n",
    "\"\"\""
   ]
  },
  {
   "cell_type": "code",
   "execution_count": 84,
   "id": "6c21df02",
   "metadata": {},
   "outputs": [],
   "source": [
    "class SoHoc:\n",
    "    def __init__(self):\n",
    "        self.number1 = ''\n",
    "        self.number2 = ''\n",
    "    \n",
    "    def input_info(self):\n",
    "        self.number1 = int(input('Input number1: '))\n",
    "        self.number2 = int(input('Input number2: '))\n",
    "        \n",
    "    def print_info(self):\n",
    "        print('---------------------------')\n",
    "        print(f'Number 1 is: {self.number1}')\n",
    "        print(f'Number 2 is: {self.number2}')\n",
    "        print('---------------------------')\n",
    "        \n",
    "    def addition(self):\n",
    "        cong = 0\n",
    "        cong = self.number1 + self.number2\n",
    "        return f'Tong 2 so la: {cong}'\n",
    "    \n",
    "    def subtract(self):\n",
    "        tru = 0\n",
    "        tru = self.number1 - self.number2\n",
    "        return f'Hieu 2 so la: {tru}'\n",
    "    \n",
    "    def multi(self):\n",
    "        nhan = 0\n",
    "        nhan = self.number1 * self.number2\n",
    "        return f'Tich 2 so la: {nhan}'\n",
    "    \n",
    "    def division(self):\n",
    "        chia = 0\n",
    "        chia = self.number1 / self.number2\n",
    "        return f'Thuong 2 so la: {chia}'"
   ]
  },
  {
   "cell_type": "code",
   "execution_count": 85,
   "id": "9d6371a8",
   "metadata": {
    "scrolled": true
   },
   "outputs": [
    {
     "name": "stdout",
     "output_type": "stream",
     "text": [
      "Input number1: 8\n",
      "Input number2: 4\n",
      "---------------------------\n",
      "Number 1 is: 8\n",
      "Number 2 is: 4\n",
      "---------------------------\n",
      "Tong 2 so la: 12\n",
      "Hieu 2 so la: 4\n",
      "Tich 2 so la: 32\n",
      "Thuong 2 so la: 2.0\n"
     ]
    }
   ],
   "source": [
    "a = SoHoc()\n",
    " \n",
    "a.input_info()\n",
    "a.print_info()\n",
    "print(a.addition())\n",
    "print(a.subtract())\n",
    "print(a.multi())\n",
    "print(a.division())"
   ]
  },
  {
   "cell_type": "code",
   "execution_count": 86,
   "id": "cbe20e6f",
   "metadata": {},
   "outputs": [],
   "source": [
    "#ThayLong\n",
    "\n",
    "class SoHoc:\n",
    "    def __init__(self):\n",
    "        self.number1 = ''\n",
    "        self.number2 = ''\n",
    "    \n",
    "    def input_info(self):\n",
    "        self.number1 = int(input('Input number1: '))\n",
    "        self.number2 = int(input('Input number2: '))\n",
    "        \n",
    "    def print_info(self):\n",
    "        print('---------------------------')\n",
    "        print(f'Number 1 is: {self.number1}')\n",
    "        print(f'Number 2 is: {self.number2}')\n",
    "        print('---------------------------')\n",
    "        \n",
    "    def addition(self):\n",
    "        return self.number1 + self.number2\n",
    "    \n",
    "    def subtract(self):\n",
    "        return self.number1 - self.number2\n",
    "    \n",
    "    def multi(self):\n",
    "        return self.number1 * self.number2\n",
    "    \n",
    "    def division(self):\n",
    "        return self.number1 / self.number2"
   ]
  },
  {
   "cell_type": "code",
   "execution_count": 90,
   "id": "a44e1487",
   "metadata": {
    "scrolled": true
   },
   "outputs": [
    {
     "name": "stdout",
     "output_type": "stream",
     "text": [
      "Input number1: 8\n",
      "Input number2: 4\n",
      "---------------------------\n",
      "Number 1 is: 8\n",
      "Number 2 is: 4\n",
      "---------------------------\n",
      "Tong 2 so la: 12\n",
      "Hieu 2 so la: 4\n",
      "Tich 2 so la: 32\n",
      "Thuong 2 so la: 2.0\n"
     ]
    }
   ],
   "source": [
    "a = SoHoc()\n",
    "a.input_info()\n",
    "a.print_info()\n",
    "print(f'Tong 2 so la: {a.addition()}')\n",
    "print(f'Hieu 2 so la: {a.subtract()}')\n",
    "print(f'Tich 2 so la: {a.multi()}')\n",
    "print(f'Thuong 2 so la: {a.division()}')"
   ]
  },
  {
   "cell_type": "markdown",
   "id": "10626e45",
   "metadata": {},
   "source": [
    "# [Thực hành] Xây dựng lớp hình tròn và vẽ\n",
    "\n",
    "Xây dựng lớp hình tròn với thuộc tính là bán kính, tọa độ của tâm hình tròn. Các phương thức vẽ hình tròn, tính chu vi, diện tích hình tròn."
   ]
  },
  {
   "cell_type": "code",
   "execution_count": null,
   "id": "a0d3662e",
   "metadata": {},
   "outputs": [],
   "source": [
    "import turtle\n",
    "import math\n",
    "\n",
    "class Circle:\n",
    "\n",
    "    def __init__(self, r, x, y):\n",
    "        \"\"\"\n",
    "        Hàm khởi tạo có tham số\n",
    "        :param r: Bán kính\n",
    "        :param x: Hoành độ x của tâm hình tròn\n",
    "        :param y: Tung độ y của tâm hình tròn\n",
    "        \"\"\"\n",
    "        self.r = r\n",
    "        self.x = x\n",
    "        self.y = y\n",
    "\n",
    "    def draw(self):\n",
    "    #Phương thức vẽ đường tròn\n",
    "        t = turtle.Turtle()\n",
    "        t.hideturtle()\n",
    "        t.penup()\n",
    "        t.goto(self.x, self.y)\n",
    "        t.pendown()\n",
    "        t.circle(self.r)\n",
    "        turtle.done()\n",
    "\n",
    "    def area(self): #Phương thức tính diện tích hình tròn\n",
    "        return math.pi * self.r ** 2\n",
    "\n",
    "    def perimeter(self): #Phương thức tính chu vi đường tròn\n",
    "        return 2 * math.pi * self.r"
   ]
  },
  {
   "cell_type": "code",
   "execution_count": null,
   "id": "476b0c49",
   "metadata": {},
   "outputs": [],
   "source": [
    "c = Circle(100, -200, 0)\n",
    "c.draw()\n",
    "c.area()\n",
    "c.perimeter()\n",
    "print(\"S = \", c.area())\n",
    "print(\"C = \", c.perimeter())"
   ]
  }
 ],
 "metadata": {
  "kernelspec": {
   "display_name": "Python 3 (ipykernel)",
   "language": "python",
   "name": "python3"
  },
  "language_info": {
   "codemirror_mode": {
    "name": "ipython",
    "version": 3
   },
   "file_extension": ".py",
   "mimetype": "text/x-python",
   "name": "python",
   "nbconvert_exporter": "python",
   "pygments_lexer": "ipython3",
   "version": "3.10.7"
  }
 },
 "nbformat": 4,
 "nbformat_minor": 5
}
