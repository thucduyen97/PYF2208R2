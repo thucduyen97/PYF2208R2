{
 "cells": [
  {
   "cell_type": "markdown",
   "id": "39f6a89b",
   "metadata": {},
   "source": [
    "## Ứng dụng chuyển đổi tiền tệ"
   ]
  },
  {
   "cell_type": "code",
   "execution_count": 2,
   "id": "8ba4b612",
   "metadata": {},
   "outputs": [
    {
     "name": "stdout",
     "output_type": "stream",
     "text": [
      "Nhap USD: 30\n",
      "Nhap ti gia: 23000\n",
      "690000.0\n"
     ]
    }
   ],
   "source": [
    "USD=float(input('Nhap USD: '))\n",
    "ti_gia=float(input('Nhap ti gia: '))\n",
    "VND=USD*ti_gia\n",
    "print (VND)"
   ]
  },
  {
   "cell_type": "code",
   "execution_count": null,
   "id": "4592a54a",
   "metadata": {},
   "outputs": [],
   "source": []
  }
 ],
 "metadata": {
  "kernelspec": {
   "display_name": "Python 3 (ipykernel)",
   "language": "python",
   "name": "python3"
  },
  "language_info": {
   "codemirror_mode": {
    "name": "ipython",
    "version": 3
   },
   "file_extension": ".py",
   "mimetype": "text/x-python",
   "name": "python",
   "nbconvert_exporter": "python",
   "pygments_lexer": "ipython3",
   "version": "3.10.7"
  }
 },
 "nbformat": 4,
 "nbformat_minor": 5
}
