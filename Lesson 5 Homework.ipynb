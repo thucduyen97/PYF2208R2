{
 "cells": [
  {
   "cell_type": "markdown",
   "id": "384a7b34",
   "metadata": {},
   "source": [
    "## BAI TAP CHUYEN DOI NHIET DO"
   ]
  },
  {
   "cell_type": "code",
   "execution_count": 3,
   "id": "00b602ad",
   "metadata": {},
   "outputs": [
    {
     "name": "stdout",
     "output_type": "stream",
     "text": [
      "Nhap do C: 6\n",
      "Temperature in Fahrenheit is:  42.8\n"
     ]
    }
   ],
   "source": [
    "doC=int(input('Nhap do C: '))\n",
    "doF=(9*(int(doC))/5)+32\n",
    "print('Temperature in Fahrenheit is: ',doF)"
   ]
  },
  {
   "cell_type": "code",
   "execution_count": null,
   "id": "8dc8b752",
   "metadata": {},
   "outputs": [],
   "source": []
  }
 ],
 "metadata": {
  "kernelspec": {
   "display_name": "Python 3 (ipykernel)",
   "language": "python",
   "name": "python3"
  },
  "language_info": {
   "codemirror_mode": {
    "name": "ipython",
    "version": 3
   },
   "file_extension": ".py",
   "mimetype": "text/x-python",
   "name": "python",
   "nbconvert_exporter": "python",
   "pygments_lexer": "ipython3",
   "version": "3.10.7"
  }
 },
 "nbformat": 4,
 "nbformat_minor": 5
}
