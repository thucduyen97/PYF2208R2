{
 "cells": [
  {
   "cell_type": "markdown",
   "id": "dc718fde",
   "metadata": {},
   "source": [
    "# TÌM HIỂU THƯ VIỆN TURTLE\n",
    "1. Sử dụng lệnh PIP\n",
    "2. Thư viện Turtle\n",
    "3. Điều khiển chuyển động trong turle\n",
    "4. Điều khiển nét bút trong turtle"
   ]
  },
  {
   "cell_type": "markdown",
   "id": "df7065ed",
   "metadata": {},
   "source": [
    "## LỆNH PIP\n",
    "PIP là một trình quản lý gói cho Python, cho phép cài đặt và\n",
    "quản lý các thư viện và dependency mà không được phân\n",
    "phối như một phần của thư viện chuẩn của Python.\n",
    "> pip command"
   ]
  },
  {
   "cell_type": "markdown",
   "id": "f33877e9",
   "metadata": {},
   "source": [
    "Để kiểm tra pip đang chạy trên máy tính, chúng ta có thể sử dụng command:"
   ]
  },
  {
   "cell_type": "code",
   "execution_count": 2,
   "id": "176a259c",
   "metadata": {},
   "outputs": [
    {
     "name": "stdout",
     "output_type": "stream",
     "text": [
      "pip 22.2.2 from /Library/Frameworks/Python.framework/Versions/3.10/lib/python3.10/site-packages/pip (python 3.10)\r\n"
     ]
    }
   ],
   "source": [
    "! pip3 --version"
   ]
  },
  {
   "cell_type": "code",
   "execution_count": 4,
   "id": "83fc6602",
   "metadata": {},
   "outputs": [
    {
     "name": "stdout",
     "output_type": "stream",
     "text": [
      "Collecting turtle\n",
      "  Downloading turtle-0.0.2.tar.gz (11 kB)\n",
      "  Preparing metadata (setup.py) ... \u001b[?25lerror\n",
      "  \u001b[1;31merror\u001b[0m: \u001b[1msubprocess-exited-with-error\u001b[0m\n",
      "  \n",
      "  \u001b[31m×\u001b[0m \u001b[32mpython setup.py egg_info\u001b[0m did not run successfully.\n",
      "  \u001b[31m│\u001b[0m exit code: \u001b[1;36m1\u001b[0m\n",
      "  \u001b[31m╰─>\u001b[0m \u001b[31m[7 lines of output]\u001b[0m\n",
      "  \u001b[31m   \u001b[0m Traceback (most recent call last):\n",
      "  \u001b[31m   \u001b[0m   File \"<string>\", line 2, in <module>\n",
      "  \u001b[31m   \u001b[0m   File \"<pip-setuptools-caller>\", line 34, in <module>\n",
      "  \u001b[31m   \u001b[0m   File \"/private/var/folders/35/ykjyz2zs4ps_jfncg7c457680000gn/T/pip-install-rsuh4vc6/turtle_4befc463aedc47b5a91f0d727f3f8b75/setup.py\", line 40\n",
      "  \u001b[31m   \u001b[0m     except ValueError, ve:\n",
      "  \u001b[31m   \u001b[0m            ^^^^^^^^^^^^^^\n",
      "  \u001b[31m   \u001b[0m SyntaxError: multiple exception types must be parenthesized\n",
      "  \u001b[31m   \u001b[0m \u001b[31m[end of output]\u001b[0m\n",
      "  \n",
      "  \u001b[1;35mnote\u001b[0m: This error originates from a subprocess, and is likely not a problem with pip.\n",
      "\u001b[1;31merror\u001b[0m: \u001b[1mmetadata-generation-failed\u001b[0m\n",
      "\n",
      "\u001b[31m×\u001b[0m Encountered error while generating package metadata.\n",
      "\u001b[31m╰─>\u001b[0m See above for output.\n",
      "\n",
      "\u001b[1;35mnote\u001b[0m: This is an issue with the package mentioned above, not pip.\n",
      "\u001b[1;36mhint\u001b[0m: See above for details.\n",
      "\u001b[?25h"
     ]
    }
   ],
   "source": [
    "! pip3 install turtle"
   ]
  },
  {
   "cell_type": "markdown",
   "id": "5de29f0c",
   "metadata": {},
   "source": [
    "# THƯ VIỆN TURLTE\n",
    "- Turtle graphic là một chương trình con có sẵn trong python khi bạn đã cài Python lên máy\n",
    "- Turtle được xem như một cây bút vẽ, di chuyển đến đâu là vẽ hình đến đó"
   ]
  },
  {
   "cell_type": "markdown",
   "id": "41610170",
   "metadata": {},
   "source": [
    "### Cài đặt thư viện turtle với pip"
   ]
  },
  {
   "cell_type": "code",
   "execution_count": 5,
   "id": "269755c7",
   "metadata": {},
   "outputs": [
    {
     "ename": "ModuleNotFoundError",
     "evalue": "No module named 'turlte'",
     "output_type": "error",
     "traceback": [
      "\u001b[0;31m---------------------------------------------------------------------------\u001b[0m",
      "\u001b[0;31mModuleNotFoundError\u001b[0m                       Traceback (most recent call last)",
      "Input \u001b[0;32mIn [5]\u001b[0m, in \u001b[0;36m<cell line: 1>\u001b[0;34m()\u001b[0m\n\u001b[0;32m----> 1\u001b[0m \u001b[38;5;28;01mimport\u001b[39;00m \u001b[38;5;21;01mturlte\u001b[39;00m\n",
      "\u001b[0;31mModuleNotFoundError\u001b[0m: No module named 'turlte'"
     ]
    }
   ],
   "source": []
  },
  {
   "cell_type": "code",
   "execution_count": null,
   "id": "28256d23",
   "metadata": {},
   "outputs": [],
   "source": []
  },
  {
   "cell_type": "markdown",
   "id": "327a8a11",
   "metadata": {},
   "source": [
    "### Sử dụng turtle"
   ]
  },
  {
   "cell_type": "markdown",
   "id": "10e0be43",
   "metadata": {},
   "source": [
    "Bước 1: Import module turle\n"
   ]
  },
  {
   "cell_type": "code",
   "execution_count": 7,
   "id": "781d6b32",
   "metadata": {},
   "outputs": [],
   "source": [
    "import turtle"
   ]
  },
  {
   "cell_type": "markdown",
   "id": "d20f3f3f",
   "metadata": {},
   "source": [
    "Bước 2: Tạo đối tượng turle"
   ]
  },
  {
   "cell_type": "code",
   "execution_count": 8,
   "id": "9d62ff7d",
   "metadata": {},
   "outputs": [],
   "source": [
    "pen = turtle.Turtle()"
   ]
  },
  {
   "cell_type": "markdown",
   "id": "62a000c8",
   "metadata": {},
   "source": [
    "Bước 3: Vẽ bằng các phương thức của turtle"
   ]
  },
  {
   "cell_type": "code",
   "execution_count": 10,
   "id": "b772347e",
   "metadata": {},
   "outputs": [],
   "source": [
    "pen.forward(50)"
   ]
  },
  {
   "cell_type": "code",
   "execution_count": null,
   "id": "7d4948b5",
   "metadata": {},
   "outputs": [],
   "source": []
  },
  {
   "cell_type": "markdown",
   "id": "8e0f4830",
   "metadata": {},
   "source": [
    "Bước 4: Hoàn thành vẽ"
   ]
  },
  {
   "cell_type": "code",
   "execution_count": 14,
   "id": "8e4a076e",
   "metadata": {},
   "outputs": [
    {
     "ename": "Terminator",
     "evalue": "",
     "output_type": "error",
     "traceback": [
      "\u001b[0;31m---------------------------------------------------------------------------\u001b[0m",
      "\u001b[0;31mTerminator\u001b[0m                                Traceback (most recent call last)",
      "Input \u001b[0;32mIn [14]\u001b[0m, in \u001b[0;36m<cell line: 1>\u001b[0;34m()\u001b[0m\n\u001b[0;32m----> 1\u001b[0m \u001b[43mturtle\u001b[49m\u001b[38;5;241;43m.\u001b[39;49m\u001b[43mdone\u001b[49m\u001b[43m(\u001b[49m\u001b[43m)\u001b[49m\n",
      "File \u001b[0;32m<string>:5\u001b[0m, in \u001b[0;36mmainloop\u001b[0;34m()\u001b[0m\n",
      "\u001b[0;31mTerminator\u001b[0m: "
     ]
    }
   ],
   "source": [
    "turtle.done()"
   ]
  },
  {
   "cell_type": "markdown",
   "id": "850cff26",
   "metadata": {},
   "source": [
    "### Thực hành: Vẽ hình vuông"
   ]
  },
  {
   "cell_type": "code",
   "execution_count": 1,
   "id": "7e69bd76",
   "metadata": {},
   "outputs": [],
   "source": [
    "import turtle\n",
    "pen = turtle.Turtle()\n",
    "pen.forward(100)\n",
    "pen.left(90)\n",
    "pen.forward(100)\n",
    "pen.left(90)\n",
    "pen.forward(100)\n",
    "pen.left(90)\n",
    "pen.forward(100)\n",
    "turtle.done()"
   ]
  },
  {
   "cell_type": "markdown",
   "id": "5887d86b",
   "metadata": {},
   "source": [
    "### Thực hành: Vẽ hình tam giác đều"
   ]
  },
  {
   "cell_type": "code",
   "execution_count": 3,
   "id": "4bbbad3a",
   "metadata": {},
   "outputs": [],
   "source": [
    "import turtle\n",
    "pen = turtle.Turtle()\n",
    "pen.forward(150)\n",
    "pen.left(120)\n",
    "pen.forward(150)\n",
    "pen.left(120)\n",
    "pen.forward(150)\n",
    "pen.left(120)\n",
    "turtle.done()"
   ]
  },
  {
   "cell_type": "markdown",
   "id": "286e4627",
   "metadata": {},
   "source": [
    "### Các lệnh điều khiển nét bút"
   ]
  },
  {
   "cell_type": "code",
   "execution_count": 8,
   "id": "f41c480b",
   "metadata": {},
   "outputs": [],
   "source": [
    "import turtle\n",
    "pen = turtle.Turtle()\n",
    "#"
   ]
  },
  {
   "cell_type": "markdown",
   "id": "172501b8",
   "metadata": {},
   "source": [
    "Thay đổi kích thước của bút"
   ]
  },
  {
   "cell_type": "code",
   "execution_count": 12,
   "id": "7fb9025f",
   "metadata": {},
   "outputs": [],
   "source": [
    "pen.pensize(10)\n",
    "pen.right(10)\n",
    "pen.backward(20)"
   ]
  },
  {
   "cell_type": "code",
   "execution_count": null,
   "id": "1810bfd4",
   "metadata": {},
   "outputs": [],
   "source": []
  },
  {
   "cell_type": "markdown",
   "id": "a2f89a48",
   "metadata": {},
   "source": [
    "Nhấc bút lên"
   ]
  },
  {
   "cell_type": "code",
   "execution_count": 13,
   "id": "e5ea9ef7",
   "metadata": {},
   "outputs": [],
   "source": [
    "pen.penup()\n",
    "pen.forward(50)"
   ]
  },
  {
   "cell_type": "code",
   "execution_count": null,
   "id": "009ac5b4",
   "metadata": {},
   "outputs": [],
   "source": []
  },
  {
   "cell_type": "markdown",
   "id": "249ee9cd",
   "metadata": {},
   "source": [
    "Đặt bút xuống"
   ]
  },
  {
   "cell_type": "code",
   "execution_count": 16,
   "id": "cbb2b715",
   "metadata": {},
   "outputs": [],
   "source": [
    "pen.pendown()\n",
    "pen.right(100)\n",
    "pen.backward(70)"
   ]
  },
  {
   "cell_type": "markdown",
   "id": "9a4a4e08",
   "metadata": {},
   "source": [
    "### Điều chỉnh màu sắc trong turtle"
   ]
  },
  {
   "cell_type": "markdown",
   "id": "767c4808",
   "metadata": {},
   "source": [
    "Thay đổi màu rùa"
   ]
  },
  {
   "cell_type": "code",
   "execution_count": 17,
   "id": "e8e0a962",
   "metadata": {},
   "outputs": [],
   "source": [
    "pen.color(\"orange\")\n",
    "pen.right(100)\n",
    "pen.backward(70)"
   ]
  },
  {
   "cell_type": "markdown",
   "id": "e587faf1",
   "metadata": {},
   "source": [
    "Thay đổi màu bút"
   ]
  },
  {
   "cell_type": "code",
   "execution_count": 18,
   "id": "4227ed0a",
   "metadata": {},
   "outputs": [],
   "source": [
    "pen.fillcolor(\"yellow\")\n",
    "pen.right(50)"
   ]
  },
  {
   "cell_type": "markdown",
   "id": "9f9b669a",
   "metadata": {},
   "source": [
    "Thay đổi tốc độ"
   ]
  },
  {
   "cell_type": "code",
   "execution_count": 21,
   "id": "4f7bcc7b",
   "metadata": {},
   "outputs": [],
   "source": [
    "pen.speed(100)\n",
    "pen.right(100)\n",
    "pen.forward(100)"
   ]
  },
  {
   "cell_type": "code",
   "execution_count": 22,
   "id": "6294ece9",
   "metadata": {},
   "outputs": [],
   "source": [
    "turtle.done()"
   ]
  }
 ],
 "metadata": {
  "kernelspec": {
   "display_name": "Python 3 (ipykernel)",
   "language": "python",
   "name": "python3"
  },
  "language_info": {
   "codemirror_mode": {
    "name": "ipython",
    "version": 3
   },
   "file_extension": ".py",
   "mimetype": "text/x-python",
   "name": "python",
   "nbconvert_exporter": "python",
   "pygments_lexer": "ipython3",
   "version": "3.10.7"
  }
 },
 "nbformat": 4,
 "nbformat_minor": 5
}
