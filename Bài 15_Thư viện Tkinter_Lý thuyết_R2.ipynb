{
 "cells": [
  {
   "cell_type": "markdown",
   "id": "7637b45d",
   "metadata": {},
   "source": [
    "# Tkinter"
   ]
  },
  {
   "cell_type": "markdown",
   "id": "aef48c70",
   "metadata": {},
   "source": [
    "## Tkinter là gì?\n",
    "Tkinter là thư viện GUI tiêu chuẩn cho Python."
   ]
  },
  {
   "cell_type": "markdown",
   "id": "a555c9c5",
   "metadata": {},
   "source": [
    "## Các bước tạo ứng dụng Tkinter\n",
    "**Bước 1:** Import Tkinter module\n",
    "\n",
    "**Bước 2:** Tạo ra cửa số chính cho ứng dụng \n",
    "\n",
    "**Bước 3:** Thêm một số widget cho ứng dụng\n",
    "\n",
    "**Bước 4:** Tạo vòng lặp sự kiện chính để các hành động có thể diễn ra trên màn hình máy tính của người dùng\n"
   ]
  },
  {
   "cell_type": "markdown",
   "id": "f5a0f4e8",
   "metadata": {},
   "source": [
    "## Import Tkinter \n",
    "\n",
    "Cú pháp:\n",
    "\n",
    "`from tkinter import *`\n",
    "\n",
    "<b> Thêm thư viện: </b>"
   ]
  },
  {
   "cell_type": "code",
   "execution_count": 18,
   "id": "28a5f795",
   "metadata": {},
   "outputs": [],
   "source": [
    "from tkinter import *"
   ]
  },
  {
   "cell_type": "markdown",
   "id": "27f1704a",
   "metadata": {},
   "source": [
    "## Tạo ra cửa số cho ứng dụng\n",
    "\n",
    "Cú pháp:\n",
    "\n",
    "`<tên đối tượng> = Tk()`\n",
    "\n",
    "Đổi tiêu đề cửa số:\n",
    "\n",
    "`<tên đối tượng>.title(\"Tiêu đề mới\")`\n",
    "\n",
    "##### Lưu ý: ta cần thêm hàm `<tên đối tượng>.mainloop()` để cửa sổ hoạt động\n",
    "\n",
    "<b>Hãy khởi tạo một cửa sổ:</b>"
   ]
  },
  {
   "cell_type": "code",
   "execution_count": 19,
   "id": "3063eaa3",
   "metadata": {},
   "outputs": [
    {
     "data": {
      "text/plain": [
       "''"
      ]
     },
     "execution_count": 19,
     "metadata": {},
     "output_type": "execute_result"
    }
   ],
   "source": [
    "window = Tk()\n",
    "window.title('Simple Calculator') #ham tao title cho window"
   ]
  },
  {
   "cell_type": "markdown",
   "id": "6a7f27d7",
   "metadata": {},
   "source": [
    "## Thêm widget cho ứng dụng\n",
    "\n",
    "\n",
    "Widget là những đối tượng/ thành phần sẽ hiển thị và hoạt động trên cửa số\n",
    "\n",
    "Có rất nhiều loại Widget như: nút nhấn (button), nhãn/tên khung (label), khung nhập dữ liệu (Entry),..."
   ]
  },
  {
   "cell_type": "code",
   "execution_count": null,
   "id": "396c5f84",
   "metadata": {},
   "outputs": [],
   "source": []
  },
  {
   "cell_type": "markdown",
   "id": "50cf878f",
   "metadata": {},
   "source": [
    "## label\n",
    "\n",
    "Cú pháp:\n",
    "\n",
    "`<tên đối tượng> = Label(<cửa số>,text = <nội dung>)`"
   ]
  },
  {
   "cell_type": "code",
   "execution_count": 20,
   "id": "6826b7e0",
   "metadata": {},
   "outputs": [],
   "source": [
    "number1_lbl = Label(window, text = 'Number 1')\n",
    "number2_lbl = Label(window, text = 'Number 2')\n",
    "result_lbl = Label(window, text = 'Result: ')"
   ]
  },
  {
   "cell_type": "markdown",
   "id": "fbf4ab01",
   "metadata": {},
   "source": [
    "## entry\n",
    "\n",
    "Cú pháp:\n",
    "\n",
    "`<tên đối tượng> = Entry(<cửa số>)`\n"
   ]
  },
  {
   "cell_type": "code",
   "execution_count": 21,
   "id": "a8dea346",
   "metadata": {},
   "outputs": [],
   "source": [
    "number1 = Entry(window)\n",
    "number2 = Entry(window) #de nhap bien so number1, number2"
   ]
  },
  {
   "cell_type": "markdown",
   "id": "220d3157",
   "metadata": {},
   "source": [
    "## button\n",
    "\n",
    "Cú pháp:\n",
    "\n",
    "`<tên đối tượng> = Button(<cửa số>,text = <nội dung>)`"
   ]
  },
  {
   "cell_type": "code",
   "execution_count": 22,
   "id": "4376bd13",
   "metadata": {},
   "outputs": [],
   "source": [
    "add_btn = Button(window, text = 'Add 2 numbers!')"
   ]
  },
  {
   "cell_type": "code",
   "execution_count": 23,
   "id": "25a32abd",
   "metadata": {},
   "outputs": [],
   "source": [
    "number1_lbl.grid(column = 0 , row = 0)\n",
    "number2_lbl.grid(column = 0 , row = 1)\n",
    "number1.grid(column = 1 , row = 0)\n",
    "number2.grid(column = 1 , row = 1)\n",
    "add_btn.grid(column = 0 , row = 2)\n",
    "result_lbl.grid(column = 0 , row = 3)\n",
    "\n",
    "window.mainloop()"
   ]
  },
  {
   "cell_type": "markdown",
   "id": "8bd06b13",
   "metadata": {},
   "source": [
    "## combobox"
   ]
  },
  {
   "cell_type": "code",
   "execution_count": null,
   "id": "74694770",
   "metadata": {},
   "outputs": [],
   "source": []
  },
  {
   "cell_type": "markdown",
   "id": "f5203893",
   "metadata": {},
   "source": [
    "## text"
   ]
  },
  {
   "cell_type": "code",
   "execution_count": null,
   "id": "f822f455",
   "metadata": {},
   "outputs": [],
   "source": []
  },
  {
   "cell_type": "markdown",
   "id": "7b58544c",
   "metadata": {},
   "source": [
    "## messagebox"
   ]
  },
  {
   "cell_type": "code",
   "execution_count": null,
   "id": "d721e682",
   "metadata": {},
   "outputs": [],
   "source": []
  },
  {
   "cell_type": "markdown",
   "id": "eebac94e",
   "metadata": {},
   "source": [
    "## checkbutton"
   ]
  },
  {
   "cell_type": "code",
   "execution_count": null,
   "id": "1e534acb",
   "metadata": {},
   "outputs": [],
   "source": []
  },
  {
   "cell_type": "code",
   "execution_count": 1,
   "id": "15c85ab6",
   "metadata": {
    "scrolled": true
   },
   "outputs": [
    {
     "name": "stdout",
     "output_type": "stream",
     "text": [
      "User Info!!!\n",
      "Full name: Duyen\n",
      "Address: Da Nang\n",
      "Email: duyennguyen\n",
      "-----------------------\n"
     ]
    }
   ],
   "source": [
    "from tkinter import *\n",
    "from tkinter import messagebox #gui thong bao user trong khi chay ham\n",
    "\n",
    "window = Tk()\n",
    "window.title('Registration')\n",
    "\n",
    "registration_lbl = Label(window, text = 'Registration form')\n",
    "fullname_lbl = Label(window, text = 'Full name')\n",
    "address_lbl = Label(window, text = 'Address')\n",
    "email_lbl = Label(window, text = 'Email')\n",
    "\n",
    "fullname = Entry(window)\n",
    "address = Entry(window)\n",
    "email = Entry(window)\n",
    "\n",
    "def get_info():\n",
    "    print('User Info!!!') #khai bao hanh dong\n",
    "    print(f'Full name: {fullname.get()}')\n",
    "    print(f'Address: {address.get()}')\n",
    "    print(f'Email: {email.get()}')\n",
    "    print('-----------------------')\n",
    "    messagebox.showinfo('User info',f'Fullname: {fullname.get()}')\n",
    "\n",
    "register_btn = Button(window, text ='Register', command = get_info) #khi click Register, Python se tu dong goi ham get_info)\n",
    "\n",
    "\n",
    "registration_lbl.grid(row = 0, column = 0, columnspan = 2)\n",
    "fullname_lbl.grid(row = 1, column = 0)\n",
    "address_lbl.grid(row = 2, column = 0)\n",
    "email_lbl.grid(row = 3, column = 0)\n",
    "fullname.grid(row = 1, column = 1)\n",
    "address.grid(row = 2, column = 1)\n",
    "email.grid(row = 3, column = 1)\n",
    "register_btn.grid(row = 4, column = 0)\n",
    "\n",
    "window.mainloop()"
   ]
  },
  {
   "cell_type": "markdown",
   "id": "eaee03d8",
   "metadata": {},
   "source": []
  },
  {
   "cell_type": "markdown",
   "id": "1442d831",
   "metadata": {},
   "source": [
    "## pack\n",
    "\n",
    "Lệnh `pack()` sẽ giúp sắp xếp các đối tượng theo thứ tự nhất định"
   ]
  },
  {
   "cell_type": "code",
   "execution_count": null,
   "id": "b40694b2",
   "metadata": {},
   "outputs": [],
   "source": [
    "from tkinter import *\n",
    "window = Tk()\n",
    "window.title('Registration')\n",
    "\n",
    "registration_lbl = Label(window, text = 'Registration form')\n",
    "fullname_lbl = Label(window, text = 'Full name')\n",
    "address_lbl = Label(window, text = 'Address')\n",
    "email_lbl = Label(window, text = 'Email')\n",
    "\n",
    "fullname = Entry(window)\n",
    "address = Entry(window)\n",
    "email = Entry(window)\n",
    "\n",
    "register_btn = Button(window, text ='Register')\n",
    "\n",
    "registration_lbl.pack()\n",
    "fullname_lbl.pack()\n",
    "fullname.pack()\n",
    "address_lbl.pack()\n",
    "address.pack()\n",
    "email_lbl.pack()\n",
    "email.pack()\n",
    "register_btn.pack()\n",
    "\n",
    "window.mainloop()"
   ]
  },
  {
   "cell_type": "markdown",
   "id": "f6c03e55",
   "metadata": {},
   "source": [
    "## grid\n",
    "Lệnh `grid()` sẽ giúp sắp xếp các đối tượng theo một bảng"
   ]
  },
  {
   "cell_type": "code",
   "execution_count": 2,
   "id": "ab342241",
   "metadata": {},
   "outputs": [],
   "source": [
    "from tkinter import *\n",
    "window = Tk()\n",
    "window.title('Registration')\n",
    "\n",
    "registration_lbl = Label(window, text = 'Registration form')\n",
    "fullname_lbl = Label(window, text = 'Full name')\n",
    "address_lbl = Label(window, text = 'Address')\n",
    "email_lbl = Label(window, text = 'Email')\n",
    "\n",
    "fullname = Entry(window)\n",
    "address = Entry(window)\n",
    "email = Entry(window)\n",
    "\n",
    "register_btn = Button(window, text ='Register')\n",
    "\n",
    "registration_lbl.grid(row = 0, column = 0, columnspan = 2)\n",
    "fullname_lbl.grid(row = 1, column = 0)\n",
    "address_lbl.grid(row = 2, column = 0)\n",
    "email_lbl.grid(row = 3, column = 0)\n",
    "fullname.grid(row = 1, column = 1)\n",
    "address.grid(row = 2, column = 1)\n",
    "email.grid(row = 3, column = 1)\n",
    "register_btn.grid(row = 4, column = 0)\n",
    "\n",
    "window.mainloop()"
   ]
  },
  {
   "cell_type": "markdown",
   "id": "7f274cd4",
   "metadata": {},
   "source": [
    "## place\n",
    "\n",
    "Lệnh `place()` sắp xếp các widget bằng cách đặt chúng vào một vị trí cụ thể trong widget chính."
   ]
  },
  {
   "cell_type": "code",
   "execution_count": 1,
   "id": "06633249",
   "metadata": {},
   "outputs": [],
   "source": [
    "from tkinter import *\n",
    "window = Tk()\n",
    "window.title('Registration')\n",
    "\n",
    "registration_lbl = Label(window, text = 'Registration form')\n",
    "fullname_lbl = Label(window, text = 'Full name')\n",
    "address_lbl = Label(window, text = 'Address')\n",
    "email_lbl = Label(window, text = 'Email')\n",
    "\n",
    "fullname = Entry(window)\n",
    "address = Entry(window)\n",
    "email = Entry(window)\n",
    "\n",
    "\n",
    "register_btn = Button(window, text ='Register')\n",
    "\n",
    "registration_lbl.place(x = 180, y = 25)\n",
    "fullname_lbl.place(x = 100, y = 50)\n",
    "fullname.place(x = 200, y = 50)\n",
    "address_lbl.place(x = 100, y = 70)\n",
    "address.place(x = 200, y = 70)\n",
    "email_lbl.place(x = 100, y = 90)\n",
    "email.place(x = 200, y = 90)\n",
    "register_btn.place(x = 180, y = 130)\n",
    "\n",
    "window.mainloop()"
   ]
  }
 ],
 "metadata": {
  "kernelspec": {
   "display_name": "Python 3 (ipykernel)",
   "language": "python",
   "name": "python3"
  },
  "language_info": {
   "codemirror_mode": {
    "name": "ipython",
    "version": 3
   },
   "file_extension": ".py",
   "mimetype": "text/x-python",
   "name": "python",
   "nbconvert_exporter": "python",
   "pygments_lexer": "ipython3",
   "version": "3.10.7"
  }
 },
 "nbformat": 4,
 "nbformat_minor": 5
}
