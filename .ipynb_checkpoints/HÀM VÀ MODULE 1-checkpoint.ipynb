{
 "cells": [
  {
   "cell_type": "markdown",
   "id": "c845cbfd",
   "metadata": {},
   "source": [
    "##\n",
    "\n",
    "Trong Python, cơ bản có hai phạm vi hoạt động chủ yếu của một biến: Biến toàn cục (global), biến cục bộ (local)\n",
    " \n",
    "Biến toàn cục (Global Variable) là biến được khai báo ngoài phạm vi của hàm \n",
    "=> có thể được sử dụng mọi nơi, \n",
    "=> có thể được truy cập bên trong hoặc bên ngoài hàm"
   ]
  },
  {
   "cell_type": "code",
   "execution_count": 2,
   "id": "daa1af42",
   "metadata": {},
   "outputs": [
    {
     "name": "stdout",
     "output_type": "stream",
     "text": [
      "Trong hàm: Hàm và Module 1\n",
      "Ngoài hàm: Hàm và Module 1\n"
     ]
    }
   ],
   "source": [
    "#Ví dụ: Biến toàn cục\n",
    "\n",
    "x=\"Hàm và Module 1\"\n",
    " \n",
    "def foo():\n",
    "    print(\"Trong hàm:\", x)\n",
    "foo()\n",
    "print(\"Ngoài hàm:\", x)"
   ]
  },
  {
   "cell_type": "markdown",
   "id": "b5d72a24",
   "metadata": {},
   "source": [
    "Khi sử dụng biến toàn cục bên trong một hàm thì bạn KHÔNG ĐƯỢC THAY ĐỔI GIÁ TRỊ CHO BIẾN. Như ví dụ dưới đây là sai, bởi vì mình đã thay đổi giá trị cho biến x."
   ]
  },
  {
   "cell_type": "code",
   "execution_count": 3,
   "id": "5b9e4607",
   "metadata": {
    "scrolled": true
   },
   "outputs": [
    {
     "ename": "UnboundLocalError",
     "evalue": "local variable 'x' referenced before assignment",
     "output_type": "error",
     "traceback": [
      "\u001b[0;31m---------------------------------------------------------------------------\u001b[0m",
      "\u001b[0;31mUnboundLocalError\u001b[0m                         Traceback (most recent call last)",
      "Input \u001b[0;32mIn [3]\u001b[0m, in \u001b[0;36m<cell line: 8>\u001b[0;34m()\u001b[0m\n\u001b[1;32m      6\u001b[0m     x \u001b[38;5;241m=\u001b[39m x \u001b[38;5;241m*\u001b[39m \u001b[38;5;241m2\u001b[39m\n\u001b[1;32m      7\u001b[0m     \u001b[38;5;28mprint\u001b[39m(x)\n\u001b[0;32m----> 8\u001b[0m \u001b[43mfoo\u001b[49m\u001b[43m(\u001b[49m\u001b[43m)\u001b[49m\n",
      "Input \u001b[0;32mIn [3]\u001b[0m, in \u001b[0;36mfoo\u001b[0;34m()\u001b[0m\n\u001b[1;32m      5\u001b[0m \u001b[38;5;28;01mdef\u001b[39;00m \u001b[38;5;21mfoo\u001b[39m():\n\u001b[0;32m----> 6\u001b[0m     x \u001b[38;5;241m=\u001b[39m \u001b[43mx\u001b[49m \u001b[38;5;241m*\u001b[39m \u001b[38;5;241m2\u001b[39m\n\u001b[1;32m      7\u001b[0m     \u001b[38;5;28mprint\u001b[39m(x)\n",
      "\u001b[0;31mUnboundLocalError\u001b[0m: local variable 'x' referenced before assignment"
     ]
    }
   ],
   "source": [
    "#Ví dụ: Thay đổi giá trị biến toàn cục\n",
    "\n",
    "x = 10\n",
    " \n",
    "def foo():\n",
    "    x = x * 2\n",
    "    print(x)\n",
    "foo()"
   ]
  },
  {
   "cell_type": "markdown",
   "id": "42b3608d",
   "metadata": {},
   "source": [
    "##\n",
    "Biến cục bộ (Local Variable): biến được khai báo trong phạm vi của hàm."
   ]
  },
  {
   "cell_type": "code",
   "execution_count": 9,
   "id": "7aa5eb7d",
   "metadata": {
    "scrolled": true
   },
   "outputs": [
    {
     "ename": "SyntaxError",
     "evalue": "invalid syntax (3334940531.py, line 5)",
     "output_type": "error",
     "traceback": [
      "\u001b[0;36m  Input \u001b[0;32mIn [9]\u001b[0;36m\u001b[0m\n\u001b[0;31m    print(y) vidu()\u001b[0m\n\u001b[0m             ^\u001b[0m\n\u001b[0;31mSyntaxError\u001b[0m\u001b[0;31m:\u001b[0m invalid syntax\n"
     ]
    }
   ],
   "source": [
    "#Ví dụ: Biến cục bộ\n",
    "\n",
    "def vidu(): \n",
    "    y = \"Biến cục bộ\" \n",
    "    print(y) vidu()"
   ]
  },
  {
   "cell_type": "markdown",
   "id": "ee842496",
   "metadata": {},
   "source": [
    "##\n",
    "Từ khóa global: được sử dụng để khai báo một biến cục bộ trong hàm, giúp Python tự hiểu biến đó sẽ trỏ tới một biến cục bộ nằm bên ngoài hàm."
   ]
  },
  {
   "cell_type": "code",
   "execution_count": 10,
   "id": "4139932f",
   "metadata": {},
   "outputs": [
    {
     "name": "stdout",
     "output_type": "stream",
     "text": [
      "globalglobal\n",
      "local\n"
     ]
    }
   ],
   "source": [
    "#Ví dụ: Từ khoá Glogal\n",
    "\n",
    "x = \"global\"\n",
    " \n",
    "def foo():\n",
    "    global x\n",
    "    y = \"local\"\n",
    "    x = x * 2\n",
    "    print(x)\n",
    "    print(y)\n",
    "     \n",
    "foo()"
   ]
  }
 ],
 "metadata": {
  "kernelspec": {
   "display_name": "Python 3 (ipykernel)",
   "language": "python",
   "name": "python3"
  },
  "language_info": {
   "codemirror_mode": {
    "name": "ipython",
    "version": 3
   },
   "file_extension": ".py",
   "mimetype": "text/x-python",
   "name": "python",
   "nbconvert_exporter": "python",
   "pygments_lexer": "ipython3",
   "version": "3.10.7"
  }
 },
 "nbformat": 4,
 "nbformat_minor": 5
}
