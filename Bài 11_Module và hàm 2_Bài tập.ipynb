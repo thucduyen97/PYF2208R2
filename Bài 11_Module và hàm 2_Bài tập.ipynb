{
 "cells": [
  {
   "cell_type": "markdown",
   "id": "001de156",
   "metadata": {},
   "source": [
    "# [Bài tập] Ứng dụng quản lý chi tiêu cá nhân\n",
    "\n",
    "Viết chương trình cho phép người dùng thêm hoặc xoá các mục chi tiêu cá nhân và in ra các mục chi tiêu đó. Mục chi tiêu bao gồm: tên, giá trị chi và ngày chi"
   ]
  },
  {
   "cell_type": "code",
   "execution_count": null,
   "id": "d122b6cb",
   "metadata": {},
   "outputs": [],
   "source": [
    "#CHUA LAM DUOC\n",
    "\n",
    "def chitieu(hientai, moi):\n",
    "    hientai.append(moi)"
   ]
  }
 ],
 "metadata": {
  "kernelspec": {
   "display_name": "Python 3 (ipykernel)",
   "language": "python",
   "name": "python3"
  },
  "language_info": {
   "codemirror_mode": {
    "name": "ipython",
    "version": 3
   },
   "file_extension": ".py",
   "mimetype": "text/x-python",
   "name": "python",
   "nbconvert_exporter": "python",
   "pygments_lexer": "ipython3",
   "version": "3.10.7"
  }
 },
 "nbformat": 4,
 "nbformat_minor": 5
}
