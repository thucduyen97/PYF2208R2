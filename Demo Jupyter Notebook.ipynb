{
 "cells": [
  {
   "cell_type": "code",
   "execution_count": 8,
   "id": "4511ee05",
   "metadata": {},
   "outputs": [
    {
     "name": "stdout",
     "output_type": "stream",
     "text": [
      "Hello World!!!\n"
     ]
    }
   ],
   "source": [
    "print('Hello World!!!')"
   ]
  },
  {
   "cell_type": "code",
   "execution_count": 6,
   "id": "f6eed8f5",
   "metadata": {},
   "outputs": [
    {
     "name": "stdout",
     "output_type": "stream",
     "text": [
      "My name is Duyen\n"
     ]
    }
   ],
   "source": [
    "print('My name is Duyen')"
   ]
  },
  {
   "cell_type": "code",
   "execution_count": 7,
   "id": "22613200",
   "metadata": {},
   "outputs": [
    {
     "name": "stdout",
     "output_type": "stream",
     "text": [
      "Im studying Python Fundamental\n"
     ]
    }
   ],
   "source": [
    "print('Im studying Python Fundamental')"
   ]
  },
  {
   "cell_type": "code",
   "execution_count": 11,
   "id": "c5d1f513",
   "metadata": {},
   "outputs": [
    {
     "name": "stdout",
     "output_type": "stream",
     "text": [
      "Hello World!!! My name is Duyen Im studying python Fundamental\n"
     ]
    }
   ],
   "source": [
    "print('Hello World!!!',\n",
    "      'My name is Duyen',\n",
    "      'Im studying python Fundamental')"
   ]
  },
  {
   "cell_type": "code",
   "execution_count": null,
   "id": "f97e86f5",
   "metadata": {},
   "outputs": [],
   "source": []
  },
  {
   "cell_type": "code",
   "execution_count": null,
   "id": "0f6289ae",
   "metadata": {},
   "outputs": [],
   "source": []
  }
 ],
 "metadata": {
  "kernelspec": {
   "display_name": "Python 3 (ipykernel)",
   "language": "python",
   "name": "python3"
  },
  "language_info": {
   "codemirror_mode": {
    "name": "ipython",
    "version": 3
   },
   "file_extension": ".py",
   "mimetype": "text/x-python",
   "name": "python",
   "nbconvert_exporter": "python",
   "pygments_lexer": "ipython3",
   "version": "3.10.7"
  }
 },
 "nbformat": 4,
 "nbformat_minor": 5
}
