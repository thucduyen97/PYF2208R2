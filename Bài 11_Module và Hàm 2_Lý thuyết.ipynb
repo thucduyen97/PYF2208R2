{
 "cells": [
  {
   "cell_type": "markdown",
   "id": "666028ae",
   "metadata": {},
   "source": [
    "# FUNCTION VÀ MODULE"
   ]
  },
  {
   "cell_type": "markdown",
   "id": "5ba7d3ed",
   "metadata": {},
   "source": [
    "## GIÁ TRỊ TRẢ VỀ VÀ GỌI HÀM"
   ]
  },
  {
   "cell_type": "markdown",
   "id": "35cd1b03",
   "metadata": {},
   "source": [
    "### Giá trị trả về của hàm là gì ?"
   ]
  },
  {
   "cell_type": "markdown",
   "id": "45cab146",
   "metadata": {},
   "source": [
    "- Hàm có thể có giá trị trả về hoặc không có giá trị trả về. Khi hàm có giá trị trả về, lệnh return được dùng để trả về một giá trị hoặc nhiều giá trị. \n",
    "- Khi lệnh return được thực thi, hàm sẽ kết thúc và lệnh return là lệnh không bắt buộc có trong định nghĩa hàm. \n",
    "- Cú pháp: return [object] Giá trị trả về có thể là bất kỳ đối tượng nào trong Python,các giá trị số (int,float,complex) hay trình tự của đối tượng(list,tuple,dictionary,set), các định nghĩa, class ,function,module hoặc packages"
   ]
  },
  {
   "cell_type": "code",
   "execution_count": null,
   "id": "9e331247",
   "metadata": {},
   "outputs": [],
   "source": [
    "#Hàm sử dụng return trả về:\n",
    "def sumarize(a,b):\n",
    "    c=a+b\n",
    "    return c\n",
    "\n",
    "kq = sumarize(3,5)\n",
    "print(\"Giá trị biến kq =\",kq)"
   ]
  },
  {
   "cell_type": "code",
   "execution_count": 1,
   "id": "22c307ba",
   "metadata": {},
   "outputs": [
    {
     "name": "stdout",
     "output_type": "stream",
     "text": [
      "2022 không là năm nhuận!\n"
     ]
    }
   ],
   "source": [
    "#Hàm khi không sử dụng return\n",
    "def isLeapYear(year):\n",
    "    flag=False\n",
    "    if (year%400 == 0):\n",
    "        flag=True\n",
    "    elif (year%4==0 and year%100!=0):\n",
    "        flag=True\n",
    "    if flag:\n",
    "        print(year,\"là năm nhuận!\")\n",
    "    else: print(year,\"không là năm nhuận!\")\n",
    "\n",
    "isLeapYear(2022)"
   ]
  },
  {
   "cell_type": "markdown",
   "id": "b8b3369f",
   "metadata": {},
   "source": [
    "#Hàm trả về nhiều giá trị\n",
    "def plus_minus_multiply(a, b):\n",
    "    plus = a + b\n",
    "    minus = a - b\n",
    "    multiply = a * b\n",
    "    return plus, minus, multiply\n",
    "\n",
    "tong, hieu, tich = plus_minus_multiply(10, 3)\n",
    "print(tong, hieu, tich)\n",
    "#Lưu ý không nên in ra trực tiếp hàm trả về nhiều giá trị,khi đó hàm sẽ return về giá trị dưới dạng Tuple(Tuple là 1 dạng dữ\n",
    "#liệu mà các phần tử trong đó được xếp theo thứ tự và không thể thay đổi được giá trị khi kết thúc khai báo)\n",
    "\n",
    "print(plus_minus_multiply(10,3))\n",
    "#Vì lưu giữ trong tuble nên không thể thay đổi hoặc xóa phần tử"
   ]
  },
  {
   "cell_type": "code",
   "execution_count": null,
   "id": "78d431bf",
   "metadata": {},
   "outputs": [],
   "source": [
    "#Lưu ý: Khi hàm định nghĩa không có từ khóa return, giá trị mặc định được trả về là None.\n",
    "kq=isLeapYear(2002)\n",
    "print(\"Giá trị biến kq là \",kq)"
   ]
  },
  {
   "cell_type": "markdown",
   "id": "23cf6f44",
   "metadata": {},
   "source": [
    "### Gọi hàm"
   ]
  },
  {
   "cell_type": "markdown",
   "id": "3831d039",
   "metadata": {},
   "source": [
    "Sau khi hàm được định nghĩa,ta có thể gọi hàm ở mọi nơi chúng ta muốn \n",
    "Lưu ý : khi gọi hàm cần truyền đúng và đủ các đối số bắt buộc (nếu không sẽ phát sinh lỗi)"
   ]
  },
  {
   "cell_type": "code",
   "execution_count": null,
   "id": "4b9d6927",
   "metadata": {},
   "outputs": [],
   "source": [
    "def total(a,b):\n",
    "    return a+b\n",
    "#Hàm không truyền vào ĐÚNG và ĐỦ đối số\n",
    "total(5,6,7)\n",
    "total(5)"
   ]
  },
  {
   "cell_type": "code",
   "execution_count": 2,
   "id": "28ef44ec",
   "metadata": {},
   "outputs": [
    {
     "ename": "TypeError",
     "evalue": "can only concatenate str (not \"int\") to str",
     "output_type": "error",
     "traceback": [
      "\u001b[0;31m---------------------------------------------------------------------------\u001b[0m",
      "\u001b[0;31mTypeError\u001b[0m                                 Traceback (most recent call last)",
      "Input \u001b[0;32mIn [2]\u001b[0m, in \u001b[0;36m<cell line: 4>\u001b[0;34m()\u001b[0m\n\u001b[1;32m      2\u001b[0m     \u001b[38;5;28mprint\u001b[39m(\u001b[38;5;124m\"\u001b[39m\u001b[38;5;124mtôi tên là\u001b[39m\u001b[38;5;124m\"\u001b[39m\u001b[38;5;241m+\u001b[39mname)\n\u001b[1;32m      3\u001b[0m \u001b[38;5;66;03m#Hàm truyền vào SAI KIỂU DỮ LIỆU \u001b[39;00m\n\u001b[0;32m----> 4\u001b[0m \u001b[43mmyname\u001b[49m\u001b[43m(\u001b[49m\u001b[38;5;241;43m3\u001b[39;49m\u001b[43m)\u001b[49m\n",
      "Input \u001b[0;32mIn [2]\u001b[0m, in \u001b[0;36mmyname\u001b[0;34m(name)\u001b[0m\n\u001b[1;32m      1\u001b[0m \u001b[38;5;28;01mdef\u001b[39;00m \u001b[38;5;21mmyname\u001b[39m(name):\n\u001b[0;32m----> 2\u001b[0m     \u001b[38;5;28mprint\u001b[39m(\u001b[38;5;124;43m\"\u001b[39;49m\u001b[38;5;124;43mtôi tên là\u001b[39;49m\u001b[38;5;124;43m\"\u001b[39;49m\u001b[38;5;241;43m+\u001b[39;49m\u001b[43mname\u001b[49m)\n",
      "\u001b[0;31mTypeError\u001b[0m: can only concatenate str (not \"int\") to str"
     ]
    }
   ],
   "source": [
    "def myname(name):\n",
    "    print(\"tôi tên là\"+name)\n",
    "#Hàm truyền vào SAI KIỂU DỮ LIỆU \n",
    "myname(3) \n",
    "#myname(\"ba\")"
   ]
  },
  {
   "cell_type": "markdown",
   "id": "40f6da64",
   "metadata": {},
   "source": [
    "## THAM CHIẾU VÀ THAM TRỊ"
   ]
  },
  {
   "cell_type": "code",
   "execution_count": null,
   "id": "d09fdf4a",
   "metadata": {},
   "outputs": [],
   "source": [
    "def add_list(lst):\n",
    "    lst += 'd'\n",
    "    \n",
    "e =['a','b','c']\n",
    "print(f'Trước: {e}')\n",
    "add_list(e)\n",
    "print(f'Sau: {e}')"
   ]
  },
  {
   "cell_type": "code",
   "execution_count": null,
   "id": "9401d7e6",
   "metadata": {},
   "outputs": [],
   "source": [
    "def add_num (num):\n",
    "    num += 1\n",
    "    \n",
    "x = 100\n",
    "print(f'Trước: {x}')\n",
    "add_num(x)\n",
    "print(f'Sau: {x}')"
   ]
  },
  {
   "cell_type": "markdown",
   "id": "f8b0bd0f",
   "metadata": {},
   "source": [
    "### Đối tượng có thể thay đổi và đối tượng không thay đổi (Mutable và Immutable Objects)\n",
    "- Đối tượng không thay đổi (Immutable):  int, float, long, complex, string tuple, bool\n",
    "- Đối tượng có thể  thay đổi (Mutable) : list, dict, set, byte array, user-defined classes"
   ]
  },
  {
   "cell_type": "markdown",
   "id": "37fc6158",
   "metadata": {},
   "source": [
    "### Truyền tham chiếu là gì\n",
    "\n",
    "Theo mặc định, Python truyền tham số cho một hàm dưới dạng tham chiếu. \n",
    "Trong kỹ thuật này, vị trí bộ nhớ của biến được gửi đến hàm.\n",
    "\n",
    "Trong trường hợp tham số là một đối tượng kiểu Mutable, hàm có thể thay đổi giá trị ban đầu của biến bằng cách gán một giá trị mới, nhưng định danh của tham số không thay đổi. Chúng ta  gọi đó là truyền tham chiếu."
   ]
  },
  {
   "cell_type": "code",
   "execution_count": null,
   "id": "9c14764b",
   "metadata": {},
   "outputs": [],
   "source": [
    "def add_list(lst):\n",
    "    lst += 'd'\n",
    "    print('id of lst:',id(lst))\n",
    "    print(f'[add_list] e: {lst}')\n",
    "\n",
    "e =['a','b','c']\n",
    "print('id of e:', id(e))\n",
    "add_list(e)\n",
    "print(f'e: {e}')\n",
    "print(type(e))"
   ]
  },
  {
   "cell_type": "markdown",
   "id": "817c04a3",
   "metadata": {},
   "source": [
    "Kết quả cho thấy rằng e và lst giống nhau. \n",
    "Vì cả hai cùng lưu đến cùng một vị trí bộ nhớ. \n",
    "Đây là kết quả của việc truyền tham chiếu vì nó thay đổi dữ liệu ban đầu."
   ]
  },
  {
   "cell_type": "markdown",
   "id": "75e8e6be",
   "metadata": {},
   "source": [
    "### Truyền tham trị là gì\n",
    "\n",
    "Trong trường hợp tham số là một đối tượng kiểu Immutable, hàm không thể thay đổi giá trị của tham số.\n",
    "Do đó, Python tạo ra một biến số mới với một định danh mới để nhận giá trị được gán.\n",
    "Kỹ thuật này sẽ không thay đổi giá trị của tham số truyền vào hàm."
   ]
  },
  {
   "cell_type": "code",
   "execution_count": 3,
   "id": "859dc64e",
   "metadata": {},
   "outputs": [
    {
     "name": "stdout",
     "output_type": "stream",
     "text": [
      "x =  100\n",
      "id of x: 4308585808\n",
      "[add_num] num = 100\n",
      "[add_num] id of num = 4308585808\n",
      "[add_num] num sau khi add = 101\n",
      "[add_num] id of num sau khi add= 4308585840\n",
      "x =  100\n",
      "id of x:  4308585808\n",
      "<class 'int'>\n"
     ]
    }
   ],
   "source": [
    "def add_num (num):\n",
    "    print (\"[add_num] num =\", num)\n",
    "    print(\"[add_num] id of num =\", id(num))\n",
    "    num += 1\n",
    "    print(\"[add_num] num sau khi add =\", num)\n",
    "    print(\"[add_num] id of num sau khi add=\", id(num))\n",
    "    \n",
    "x = 100\n",
    "print(\"x = \", x)\n",
    "print(\"id of x:\", id(x))\n",
    "add_num(x)\n",
    "print(\"x = \", x)\n",
    "print(\"id of x: \", id(x))\n",
    "print(type(x))"
   ]
  },
  {
   "cell_type": "markdown",
   "id": "b5ba6a2d",
   "metadata": {},
   "source": [
    "Có sự thay đổi id của giá trị trước và sau khi gán giá trị mới ở bên trong hàm. \n",
    "Tuy nhiên id giá trị ban đầu (ở bên ngoài hàm) vẫn giữ nguyên không thay đổi.\n",
    "\n",
    "Ta có thể thấy khi thay đổi giá trị thì hàm đã tạo ra 1 id mới, \n",
    "lưu giá trị mới ở một địa chỉ mới khác với địa chỉ lưu giá trị ban đầu."
   ]
  },
  {
   "cell_type": "markdown",
   "id": "eafed1c4",
   "metadata": {},
   "source": [
    "### Để kiểm tra một đối tượng có khả năng thay đổi không, ta thử sửa đổi nó xem nó có còn là đối tượng ban đầu hay không.\n",
    "\n",
    "Có 2 cách để kiểm tra:\n",
    "\n",
    "- Sử dụng hàm tích hợp sẵn id(): hàm này trả về nhận dạng duy nhất của một đối tượng. Không có hai đối tượng nào có cùng định danh.\n",
    "- Sử dụng toán tử is và is not: các toán tử này đánh giá xem các đối tượng có cùng định danh hay không.\n"
   ]
  },
  {
   "cell_type": "code",
   "execution_count": null,
   "id": "82e688d3",
   "metadata": {},
   "outputs": [],
   "source": [
    "def add_list(lst):\n",
    "    lst += 'd'\n",
    "    print(e is lst)\n",
    "    \n",
    "e =['a','b','c']\n",
    "add_list(e)\n",
    "\n",
    "def add_num (num):\n",
    "    num += 1\n",
    "    print(x is num)\n",
    "    \n",
    "x = 100\n",
    "add_num(x)"
   ]
  },
  {
   "cell_type": "markdown",
   "id": "036a6410",
   "metadata": {},
   "source": [
    "## CODING CONVENTION\n",
    "\n",
    "### 1. Coding convention là gì? \n",
    "\n",
    "### 2. Coding convention dùng để làm gì? \n",
    "\n",
    "### 3. Nếu không dùng Coding convention khi viết code có được không?\n",
    "\n",
    "### 4. Lợi ích khi dùng Coding convention là gì?\n",
    "\n",
    "### 5. Sử dụng như thế nào?"
   ]
  },
  {
   "cell_type": "markdown",
   "id": "998b1b92",
   "metadata": {},
   "source": [
    "### 1. Coding convention là gì? \n",
    "\n",
    "Coding convention: là những quy tắc chung khi lập trình"
   ]
  },
  {
   "cell_type": "markdown",
   "id": "128e8ea6",
   "metadata": {},
   "source": [
    "### 2.Coding convention dùng để làm gì?\n",
    "\n",
    "40 đến 80% chi phí của một dự án phần mềm là dành cho việc bảo trì!\n",
    "Coding convention: Code dễ đọc, dễ hiểu hơn vì vậy dễ bảo trì và sửa lỗi hơn \n",
    "Đặt tên như a, b, c, function1, function2 hay firstName, lastName, getName(), findMember()"
   ]
  },
  {
   "cell_type": "markdown",
   "id": "d111265b",
   "metadata": {},
   "source": [
    "### 3. Nếu không dùng Coding convention khi viết code có được không?\n",
    "\n",
    "Viết code không cần theo quy tắc được không? \n",
    "Hoàn toàn có thể. \n",
    "Tuy nhiên phần mềm khi được nâng cấp, bảo trì hoặc tìm và sửa lỗi sai sẽ gặp nhiều khó khăn và thời gian sau khó có thể nhớ code hay cách đặt tên vậy có ý nghĩa hay đã viết gì"
   ]
  },
  {
   "cell_type": "markdown",
   "id": "fc18de47",
   "metadata": {},
   "source": [
    "### 4. Lợi ích khi dùng Coding convention là gì?\n",
    "\n",
    "1. Năng suất làm việc nhanh hơn.\n",
    "2. Quy tắc hoạt động của Code Convention theo tính thống nhất và tuân thủ theo tiêu chuẩn sẽ dễ dàng làm việc hơn.\n",
    "3. Khi viết Code bằng Code Convention, sẽ khiến người khác dễ hiểu và nắm bắt được cái mà bạn truyền tải đến.\n",
    "4. Phần mềm Code Convention dễ dàng nâng cấp và được cải tiến.\n",
    "5. Code Convention có thể tái sử dụng trong nhiều phần mềm và các ứng dụng khác.\n",
    "6. Việc bảo trì hệ thống với Code Convention trở nên thuận lợi và dễ dàng hơn bao giờ hết."
   ]
  },
  {
   "cell_type": "markdown",
   "id": "1371b7be",
   "metadata": {},
   "source": [
    "### 5. Nếu dùng thì dùng thì dùng như thế nào?\n",
    "\n",
    "**1. Code convention đối với hàm:**\n",
    ">- Quy tắc đặt tên của hàm: Sử dụng chữ cái thường, không sử dụng chữ in hoa. Phân tách các từ bởi dấu gạch dưới. \\\n",
    "Ví dụ: function, my_function\n",
    "\n",
    "**2. Blank lines (Dòng trống):**\n",
    ">Cải thiện đáng kể khả năng đọc code của bạn\\\n",
    ">Ví dụ:\\\n",
    "def first_method(self):\\\n",
    "return None\\\n",
    "\\\n",
    "def second_method(self):\\\n",
    "    return None\n",
    "\n",
    "**3. Độ dài một dòng và thụt lề: MAX = 79**\n",
    ">Nếu Max > 79: Ngắt dòng và bắt đầu dòng kế tiếp thụt vào 4 khoảng trắng liên tiếp\\\n",
    "\n",
    "Ví dụ:\n",
    "def function(arg_one, arg_two,\n",
    "             \targ_three, arg_four):\n",
    "    \treturn arg_one\n",
    "\n",
    "**4. Comment (bình luận): Nên viết bình luận cho các dòng code của bạn trước khi viết.**\n",
    ">- Max đa 72 kí tự.\n",
    ">- Câu hoàn chỉnh, bắt đầu với chữ viết hoa.\n",
    ">- Thụt lề của khối bình luận cùng mức với đoạn code mà nó miêu tả.\n",
    ">- Bắt đầu mỗi dòng với kí tự #, theo sau nó là một dấu cách đơn.(# )\n",
    ">- Tách các đoạn trong khối bình luận bằng một dòng chỉ chứa kí tự #.\n",
    "**5. Khoảng trắng trong biểu thức, câu lệnh:**\n",
    ">- Khi thực hiện gán dữ liệu mặc định cho tham số truyền vào function thì không đặt khoảng trắng bao quanh dấu =\\\n",
    "def    sum_number_v1(number1, number2=0):\\\n",
    "\ttotal  = number1 + number2\\\n",
    "\treturn total\n",
    ">- các toán tử số học +, -, *, /, // lựa chọn bao xung quanh các toán tử bằng khoảng trắng\\\n",
    "total = number1 + number2\n",
    "minus = number1 - number2\n",
    "\n",
    "**6. Quy tắc đặt tên:**\n",
    ">https://phptravels.vn/cac-quy-uoc-dat-ten-trong-python-huong-dan-chi-tiet-quy-tac-dat-ten-bien-trong-python/"
   ]
  },
  {
   "cell_type": "markdown",
   "id": "5dad8d90",
   "metadata": {},
   "source": [
    "## VÍ DỤ"
   ]
  },
  {
   "cell_type": "markdown",
   "id": "673d2808",
   "metadata": {},
   "source": [
    "### Xóa một phần tử trong mảng"
   ]
  },
  {
   "cell_type": "code",
   "execution_count": null,
   "id": "5bb295cc",
   "metadata": {},
   "outputs": [],
   "source": [
    "# tạo một danh sách\n",
    "lst = ['red', 'pink', 'yellow', 'black' , 'blue']\n",
    "print ('danh sách trước khi xóa: ', lst)\n",
    "# hàm xóa phần tử mảng.\n",
    "lst.remove('yellow')\\\n",
    "# in ra kết quả\n",
    "print('danh sách sau khi xóa: ',lst)"
   ]
  },
  {
   "cell_type": "markdown",
   "id": "82404bf5",
   "metadata": {},
   "source": [
    "### Thêm một phần tử vào mảng"
   ]
  },
  {
   "cell_type": "code",
   "execution_count": null,
   "id": "a92e6097",
   "metadata": {},
   "outputs": [],
   "source": [
    "# Một danh sách được tạo sẵn\n",
    "lst = ['red', 'pink', 'blue']\n",
    "print ('danh sách trước khi thêm: ', lst)\n",
    "# Hàm sẽ thêm 1 phần tử vào danh sách\n",
    "def add(mylist):\n",
    "    mylist += [\"black\"]\n",
    "    print('danh sách sau khi đã thêm: ', lst)\n",
    "#In ra kết quả\n",
    "add(lst)"
   ]
  },
  {
   "cell_type": "markdown",
   "id": "79e47f34",
   "metadata": {},
   "source": [
    "### Order món ăn"
   ]
  },
  {
   "cell_type": "code",
   "execution_count": 3,
   "id": "7d405987",
   "metadata": {},
   "outputs": [
    {
     "name": "stdout",
     "output_type": "stream",
     "text": [
      "---KÍNH CHÀO QUÝ KHÁCH---\n",
      "MENU ^^\n",
      "1, Xôi - 10.000\n",
      "2, Bánh mỳ - 15.000 \n",
      "3, Cháo - 15.000\n",
      "4, Phở - 40.000\n",
      "5, Mì - 25.000\n",
      "6, Sữa - 15.000\n",
      "Quý khách vui lòng chọn món: \n",
      "Chọn món: 1\n",
      "Số lượng: 15\n",
      "Quý khách có muốn order thêm không? (y or n)y\n",
      "Chọn món: 5\n",
      "Số lượng: 10\n",
      "Quý khách có muốn order thêm không? (y or n)n\n",
      "Tổng hóa đơn của quý khách là  400000\n"
     ]
    }
   ],
   "source": [
    "def order():\n",
    "    isEnd = True\n",
    "    total = 0\n",
    "    orderList = []\n",
    "    print ('---KÍNH CHÀO QUÝ KHÁCH---')\n",
    "    print ('MENU ^^')\n",
    "    print ('1, Xôi - 10.000')\n",
    "    print ('2, Bánh mỳ - 15.000 ')\n",
    "    print ('3, Cháo - 15.000')\n",
    "    print ('4, Phở - 40.000')\n",
    "    print ('5, Mì - 25.000')\n",
    "    print ('6, Sữa - 15.000')\n",
    "    print ('Quý khách vui lòng chọn món: ')\n",
    "    while isEnd:\n",
    "        n = int(input(\"Chọn món: \"))\n",
    "        d = int(input(\"Số lượng: \"))\n",
    "        if(n==1):\n",
    "            total = total + d*10000\n",
    "        elif (n==2):\n",
    "            total = total + d*15000\n",
    "        elif (n==3):\n",
    "            total = total + d*15000\n",
    "        elif (n==4):\n",
    "            total = total + d*40000\n",
    "        elif (n==5):\n",
    "            total = total + d*25000\n",
    "        elif (n==6):\n",
    "            total = total + d*15000\n",
    "        k= str(input('Quý khách có muốn order thêm không? (y or n): '))\n",
    "        if(k=='n'):\n",
    "            isEnd=False\n",
    "    print(\"Tổng hóa đơn của quý khách là \",total)\n",
    "order()"
   ]
  },
  {
   "cell_type": "markdown",
   "id": "828d946c",
   "metadata": {},
   "source": [
    "### Vẽ hình vuông sử dụng hàm (code gym)"
   ]
  },
  {
   "cell_type": "code",
   "execution_count": null,
   "id": "9e0e480c",
   "metadata": {},
   "outputs": [],
   "source": [
    "import turtle\n",
    "\n",
    "t = turtle.Turtle()\n",
    "t.hideturtle()\n",
    "t.pencolor('red')\n",
    "\n",
    "def square_draw(w):\n",
    "    for i in range(4):\n",
    "        t.forward(w)\n",
    "        t.right(90)\n",
    "    turtle.done()\n",
    "    \n",
    "square_draw(100)"
   ]
  },
  {
   "cell_type": "markdown",
   "id": "e31f97e9",
   "metadata": {},
   "source": [
    "### hiển thị danh sách yêu thích (code gym)"
   ]
  },
  {
   "cell_type": "code",
   "execution_count": null,
   "id": "df7d2795",
   "metadata": {},
   "outputs": [],
   "source": [
    "fruits = [\"Orange\", \"Apple\", \"Grapes\"]\n",
    "\n",
    "def add_fruit(fruits, fruit_to_add):    \n",
    "    fruits.append(fruit_to_add)    \n",
    "    \n",
    "fruit_to_add = \"Mango\"\n",
    "add_fruit(fruits, fruit_to_add)\n",
    "\n",
    "print('Fruits outside function', fruits)"
   ]
  },
  {
   "cell_type": "markdown",
   "id": "e8b18208",
   "metadata": {},
   "source": [
    "### bài tập tạo máy tính (code gym)"
   ]
  },
  {
   "cell_type": "code",
   "execution_count": null,
   "id": "9c78e96e",
   "metadata": {},
   "outputs": [],
   "source": [
    "# nhập dữ liệu để tính toán.\n",
    "number_1 = int(input(\"Enter first number: \"))\n",
    "number_2 = int(input(\"Enter second number: \"))\n",
    "option = input(\"Enter the operation +, -, *, / : \")\n",
    "# hàm tính toán\n",
    "def add(num1, num2):\n",
    "    return num1 + num2\n",
    "  \n",
    "def subtract(num1, num2):\n",
    "    return num1 - num2\n",
    "  \n",
    "def multiply(num1, num2):\n",
    "    return num1 * num2\n",
    "\n",
    "def divide(num1, num2):\n",
    "    return num1 / num2\n",
    "if option == '+':\n",
    "    print(number_1, \"+\", number_2, \"=\", add(number_1, number_2))\n",
    "  \n",
    " elif option == '-':\n",
    "    print(number_1, \"-\", number_2, \"=\", subtract(number_1, number_2))\n",
    "  \n",
    " elif option == '*':\n",
    "    print(number_1, \"*\", number_2, \"=\", multiply(number_1, number_2))\n",
    "  \n",
    " elif option == '/':\n",
    "    print(number_1, \"/\", number_2, \"=\", divide(number_1, number_2))\n",
    "    \n",
    "else:\n",
    "    print(\"Invalid input\")"
   ]
  },
  {
   "cell_type": "markdown",
   "id": "21a54937",
   "metadata": {},
   "source": [
    "## NESTED FUNCTION \n",
    "\n",
    "Nested function hay còn gọi là hàm lồng nhau.\n",
    "Một hàm được định nghĩa bên trong một hàm khác thì ta gọi đó là nested function. \n",
    "Các hàm nested function có thể sử dụng biến trong phạm vi hàm cha của nó \n",
    "nhưng không được thay đổi giá trị của chúng."
   ]
  },
  {
   "cell_type": "code",
   "execution_count": 14,
   "id": "df03a3c3",
   "metadata": {},
   "outputs": [
    {
     "name": "stdout",
     "output_type": "stream",
     "text": [
      "(15, -5, 50, 0.5)\n"
     ]
    }
   ],
   "source": [
    "#Hàm trong hàm, sử dụng nhiều hàm con\n",
    "def cong_tru_nhan_chia(a,b):\n",
    "    def cong(a,b):\n",
    "        return a+b\n",
    "    def tru(a,b):\n",
    "        return a-b\n",
    "    def nhan(a,b):\n",
    "        return a*b\n",
    "    def chia(a,b):\n",
    "        return a/b\n",
    "    return cong(a,b), tru(a,b), nhan(a,b), chia(a,b)\n",
    "\n",
    "print(cong_tru_nhan_chia(5,10))"
   ]
  },
  {
   "cell_type": "code",
   "execution_count": 19,
   "id": "d421300d",
   "metadata": {},
   "outputs": [
    {
     "name": "stdout",
     "output_type": "stream",
     "text": [
      "90.0\n"
     ]
    }
   ],
   "source": [
    "#Hàm cha gọi đến hàm con phục vụ cho yêu cầu của hàm cha\n",
    "def boi_chung_nho_nhat (a,b):\n",
    "    \n",
    "    def uoc_chung_lon_nhat(a,b):\n",
    "        i=b\n",
    "        while(i>=1):\n",
    "            if(a%i==0 and b%i==0):\n",
    "                break\n",
    "            i=i-1\n",
    "        return i\n",
    "    \n",
    "    if(b>a):\n",
    "        temp=b\n",
    "        b=a\n",
    "        a=temp\n",
    "    return a*b/uoc_chung_lon_nhat(a,b)\n",
    "\n",
    "print(boi_chung_nho_nhat(15,18))"
   ]
  },
  {
   "cell_type": "code",
   "execution_count": 15,
   "id": "b2460dc5",
   "metadata": {
    "scrolled": false
   },
   "outputs": [
    {
     "name": "stdout",
     "output_type": "stream",
     "text": [
      "Nhập số cần tính giai thừa: 5\n",
      "Giai thừa của 5 là 120\n"
     ]
    }
   ],
   "source": [
    "#Hàm trong hàm, và chỉnh hàm con gọi lại hàm con đó\n",
    "def factorial(number):\n",
    "    if not isinstance(number, int):\n",
    "        raise TypeError(\"Pạn ơi, đầu vào phải là số nguyên ó\")\n",
    "    if number <0:\n",
    "        raise ValueError(\"Pạn ơi, số phải dương mới tính được giai thừa ó\")\n",
    "    def inner_factorial(number):\n",
    "        if number == 1:\n",
    "            return 1\n",
    "        return number * inner_factorial(number - 1)\n",
    "    return inner_factorial(number)\n",
    "\n",
    "k = int(input(\"Nhập số cần tính giai thừa: \"))\n",
    "print(f\"Giai thừa của {k} là {factorial(k)}\")"
   ]
  },
  {
   "cell_type": "markdown",
   "id": "dd039028",
   "metadata": {},
   "source": [
    "\n",
    "\n",
    "\n",
    "\n",
    "\n",
    "\n",
    "\n",
    "\n",
    "\n",
    "\n"
   ]
  },
  {
   "attachments": {
    "keeppp.png": {
     "image/png": "[encoded data removed]"
    }
   },
   "cell_type": "markdown",
   "id": "e8185b95",
   "metadata": {},
   "source": [
    "![keeppp.png](attachment:keeppp.png)"
   ]
  },
  {
   "cell_type": "markdown",
   "id": "7654432a",
   "metadata": {},
   "source": []
  }
 ],
 "metadata": {
  "kernelspec": {
   "display_name": "Python 3 (ipykernel)",
   "language": "python",
   "name": "python3"
  },
  "language_info": {
   "codemirror_mode": {
    "name": "ipython",
    "version": 3
   },
   "file_extension": ".py",
   "mimetype": "text/x-python",
   "name": "python",
   "nbconvert_exporter": "python",
   "pygments_lexer": "ipython3",
   "version": "3.10.7"
  }
 },
 "nbformat": 4,
 "nbformat_minor": 5
}
