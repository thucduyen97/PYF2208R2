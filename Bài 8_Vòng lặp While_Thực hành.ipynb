{
 "cells": [
  {
   "cell_type": "markdown",
   "id": "7e9d0ca6",
   "metadata": {},
   "source": [
    "'''\n",
    "## Khởi động: Viết chương trình in ra tất cả các số chia hết cho cả 5 và 7 trong khoảng từ 1500 đến 2700\n",
    "'''"
   ]
  },
  {
   "cell_type": "code",
   "execution_count": 15,
   "id": "18dbe371",
   "metadata": {},
   "outputs": [
    {
     "name": "stdout",
     "output_type": "stream",
     "text": [
      "1505\n",
      "1540\n",
      "1575\n",
      "1610\n",
      "1645\n",
      "1680\n",
      "1715\n",
      "1750\n",
      "1785\n",
      "1820\n",
      "1855\n",
      "1890\n",
      "1925\n",
      "1960\n",
      "1995\n",
      "2030\n",
      "2065\n",
      "2100\n",
      "2135\n",
      "2170\n",
      "2205\n",
      "2240\n",
      "2275\n",
      "2310\n",
      "2345\n",
      "2380\n",
      "2415\n",
      "2450\n",
      "2485\n",
      "2520\n",
      "2555\n",
      "2590\n",
      "2625\n",
      "2660\n",
      "2695\n"
     ]
    }
   ],
   "source": [
    "count=1500\n",
    "\n",
    "while count<=2700:\n",
    "    if count%5==0 and count%7==0:\n",
    "        print(count)\n",
    "    count+=1"
   ]
  },
  {
   "cell_type": "markdown",
   "id": "b36f2251",
   "metadata": {},
   "source": [
    "'''\n",
    "Bài 1: Viết chương trình nhập vào chiều cao tam giác vuông và in ra tam giác có hình dạng như sau:\n",
    "*****\n",
    "****\n",
    "***\n",
    "** \n",
    "*\n",
    "'''"
   ]
  },
  {
   "cell_type": "code",
   "execution_count": 17,
   "id": "48a3d701",
   "metadata": {},
   "outputs": [
    {
     "name": "stdout",
     "output_type": "stream",
     "text": [
      "Nhap vao chieu cao tam giac vuong: 5\n",
      "*****\n",
      "****\n",
      "***\n",
      "**\n",
      "*\n"
     ]
    }
   ],
   "source": [
    "h=int(input('Nhap vao chieu cao tam giac vuong: '))\n",
    "while h>0:\n",
    "    print(h*'*')\n",
    "    h-=1"
   ]
  },
  {
   "cell_type": "markdown",
   "id": "bcd6a539",
   "metadata": {},
   "source": [
    "'''\n",
    "Bài 2: Viết chương trình nhập vào chiều cao tam giác vuông và in ra tam giác có hình dạng như sau:\n",
    "* * * * * *\n",
    "* * * * *\n",
    "* * * *\n",
    "* * *\n",
    "* *\n",
    "*\n",
    "'''"
   ]
  },
  {
   "cell_type": "code",
   "execution_count": 31,
   "id": "a5880b7e",
   "metadata": {},
   "outputs": [
    {
     "name": "stdout",
     "output_type": "stream",
     "text": [
      "Nhap vao chieu cao tam giac vuong: 5\n",
      "* * * * *\n",
      "* * * *\n",
      "* * *\n",
      "* *\n",
      "*\n"
     ]
    }
   ],
   "source": [
    "#cach 1\n",
    "h=int(input('Nhap vao chieu cao tam giac vuong: '))\n",
    "n=1\n",
    "\n",
    "while h>=1:\n",
    "    print('* '*(h-1)+'*')\n",
    "    h-=1"
   ]
  },
  {
   "cell_type": "code",
   "execution_count": 36,
   "id": "b5a9ac53",
   "metadata": {},
   "outputs": [
    {
     "name": "stdout",
     "output_type": "stream",
     "text": [
      "Nhap vao chieu cao tam giac vuong: 5\n",
      "* * * * *\n",
      "* * * *\n",
      "* * *\n",
      "* *\n",
      "*\n"
     ]
    }
   ],
   "source": [
    "#cach 2\n",
    "h=int(input('Nhap vao chieu cao tam giac vuong: '))\n",
    "\n",
    "while h>0:\n",
    "    print((' *'*h).lstrip())\n",
    "    h-=1"
   ]
  },
  {
   "cell_type": "markdown",
   "id": "e88816bc",
   "metadata": {},
   "source": [
    "'''\n",
    "Bài 3: Viết chương trình nhập vào chiều cao tam giác vuông và in ra tam giác có hình dạng như sau:\n",
    "* - * - *\n",
    "* - * -\n",
    "* - *\n",
    "* -\n",
    "*\n",
    "'''"
   ]
  },
  {
   "cell_type": "code",
   "execution_count": 55,
   "id": "4174ae6f",
   "metadata": {},
   "outputs": [
    {
     "name": "stdout",
     "output_type": "stream",
     "text": [
      "Nhap vao chieu cao tam giac vuong: 5\n",
      "* - * - *\n",
      "* - * -\n",
      "* - *\n",
      "* -\n",
      "*\n"
     ]
    }
   ],
   "source": [
    "h=int(input('Nhap vao chieu cao tam giac vuong: '))\n",
    "\n",
    "while h>0:\n",
    "    if h%2: #neu h la so le\n",
    "        print(((h // 2) * '* - '+'*'))\n",
    "    else:\n",
    "        print(((h // 2) * '* - ').rstrip())\n",
    "    h-=1"
   ]
  },
  {
   "cell_type": "markdown",
   "id": "5cfeb736",
   "metadata": {},
   "source": [
    "'''\n",
    "Bài 4: Viết chương trình nhập vào một số nguyên n và in ra các số từ 1 đến n với các trường hợp ngoại lệ như sau:\n",
    "- Nếu số đó chia hết cho 3 thì in \"py\"\n",
    "- Nếu số đó chia hết cho 7 thì in \"thon\"\n",
    "- Nếu số đó chia hết cho cả 3 và 7 thì in \"python\"\n",
    "\n",
    "Ví dụ: n = 25\n",
    "1\n",
    "2\n",
    "py\n",
    "4\n",
    "5\n",
    "py\n",
    "thon\n",
    "8\n",
    "py\n",
    "10\n",
    "11\n",
    "py\n",
    "13\n",
    "thon\n",
    "py\n",
    "16\n",
    "17\n",
    "py\n",
    "19\n",
    "20\n",
    "python\n",
    "22\n",
    "23\n",
    "py\n",
    "25\n",
    "'''"
   ]
  },
  {
   "cell_type": "code",
   "execution_count": 58,
   "id": "ebb3d8b9",
   "metadata": {},
   "outputs": [
    {
     "name": "stdout",
     "output_type": "stream",
     "text": [
      "Input n: 21\n",
      "1\n",
      "2\n",
      "py\n",
      "4\n",
      "5\n",
      "py\n",
      "thon\n",
      "8\n",
      "py\n",
      "10\n",
      "11\n",
      "py\n",
      "13\n",
      "thon\n",
      "py\n",
      "16\n",
      "17\n",
      "py\n",
      "19\n",
      "20\n",
      "python\n"
     ]
    }
   ],
   "source": [
    "n=int(input('Input n: '))\n",
    "count=1\n",
    "\n",
    "while count<=n:\n",
    "    if count%21==0:\n",
    "        print('python')\n",
    "    elif count%7==0:\n",
    "        print('thon')\n",
    "    elif count%3==0:\n",
    "        print('py')\n",
    "    else:\n",
    "        print(count)\n",
    "    count+=1"
   ]
  },
  {
   "cell_type": "markdown",
   "id": "afa1c50c",
   "metadata": {},
   "source": [
    "'''\n",
    "Bài 5: Viết chương trình nhập vào một số và kiểm tra xem số đó có phải là số nguyên tố hay không\n",
    "Note: Số nguyên tố là số chỉ chia hết cho 1 và chính nó\n",
    "'''"
   ]
  },
  {
   "cell_type": "code",
   "execution_count": 66,
   "id": "6d90761f",
   "metadata": {},
   "outputs": [
    {
     "name": "stdout",
     "output_type": "stream",
     "text": [
      "Input n: 4\n",
      "4 is not a prime number\n"
     ]
    }
   ],
   "source": [
    "#cach1\n",
    "n=int(input('Input n: '))\n",
    "count=2\n",
    "check=False\n",
    "\n",
    "while count<n:\n",
    "    if n%count==0:\n",
    "        check=True\n",
    "        break\n",
    "    count+=1\n",
    "if check==False:\n",
    "    print(f'{n} is a prime number')\n",
    "else:\n",
    "    print(f'{n} is not a prime number')"
   ]
  },
  {
   "cell_type": "code",
   "execution_count": 67,
   "id": "f90547e5",
   "metadata": {},
   "outputs": [
    {
     "name": "stdout",
     "output_type": "stream",
     "text": [
      "Input n: 56\n",
      "56 is NOT a prime number\n"
     ]
    }
   ],
   "source": [
    "#thay Long\n",
    "\n",
    "n=int(input('Input n: '))\n",
    "count=2\n",
    "check=True\n",
    "\n",
    "while count<n:\n",
    "    if n%count==0:\n",
    "        print(f'{n} is NOT a prime number')\n",
    "        check=False\n",
    "        break\n",
    "    count+=1\n",
    "if check:\n",
    "    print(f'{n} is a prime number')"
   ]
  },
  {
   "cell_type": "markdown",
   "id": "1719a546",
   "metadata": {},
   "source": [
    "'''\n",
    "Bài 6: Viết chương trình mô phỏng trò chơi kéo búa bao theo luật chơi như sau:\n",
    "Quy ước: 1 - búa, 2 - kéo, 3 - bao\n",
    "Khi trò chơi bắt đầu, yêu cầu người chơi nhập 1 số từ bàn phím đại diện cho kéo, búa, bao\n",
    "Chương trình tự random ra một lựa chọn từ 1 đến 3.\n",
    "Nếu người chơi thua thì tiếp tục chơi cho đến khi thắng thì kết thúc chương trình.\n",
    "Ví dụ:\n",
    "\n",
    "Mời lựa chọn(1 - búa, 2 - kéo, 3 - bao): 1\n",
    "Máy tính chọn: 3\n",
    "Người chơi thua.\n",
    "\n",
    "Mời lựa chọn(1 - búa, 2 - kéo, 3 - bao): 2\n",
    "Máy tính chọn: 1\n",
    "Người chơi thua.\n",
    "\n",
    "Mời lựa chọn(1 - búa, 2 - kéo, 3 - bao): 1\n",
    "Máy tính chọn: 2\n",
    "Người chơi thắng.\n",
    "'''"
   ]
  },
  {
   "cell_type": "code",
   "execution_count": null,
   "id": "ae8b5899",
   "metadata": {
    "scrolled": true
   },
   "outputs": [
    {
     "name": "stdout",
     "output_type": "stream",
     "text": [
      "Input your choice: 3\n",
      "User choice: 3\n",
      "Computer choice: 1\n",
      "Computer win\n"
     ]
    }
   ],
   "source": [
    "from random import randint #import ham tu chon so\n",
    "result=False\n",
    "\n",
    "while result==False:\n",
    "    user=int('Input your choice: ')\n",
    "    computer=randint(1,3)\n",
    "    print(f'User choice: {user}')\n",
    "    print(f'Computer choice: {computer}')\n",
    "    if user==1 and computer==2 or user==2 and computer==3 or user==3 and computer==1:\n",
    "        result=True\n",
    "        print('User win')\n",
    "    else:\n",
    "        print('Computer win')"
   ]
  },
  {
   "cell_type": "code",
   "execution_count": 8,
   "id": "45354734",
   "metadata": {},
   "outputs": [
    {
     "name": "stdout",
     "output_type": "stream",
     "text": [
      "Input your choice: 3\n",
      "User choice: 3\n",
      "Computer choice: 1\n",
      "User win\n"
     ]
    }
   ],
   "source": [
    "from random import randint \n",
    "result=False\n",
    "\n",
    "while not result:\n",
    "    user=int(input('Input your choice: '))\n",
    "    computer=randint(1,3)\n",
    "    print(f'User choice: {user}')\n",
    "    print(f'Computer choice: {computer}')\n",
    "    if user != 3 and user + 1==computer:\n",
    "        print('User win')\n",
    "        result=True\n",
    "    elif user==3 and computer==1:\n",
    "        print('User win')\n",
    "        result=True\n",
    "    else:\n",
    "        print('Computer win')"
   ]
  }
 ],
 "metadata": {
  "kernelspec": {
   "display_name": "Python 3 (ipykernel)",
   "language": "python",
   "name": "python3"
  },
  "language_info": {
   "codemirror_mode": {
    "name": "ipython",
    "version": 3
   },
   "file_extension": ".py",
   "mimetype": "text/x-python",
   "name": "python",
   "nbconvert_exporter": "python",
   "pygments_lexer": "ipython3",
   "version": "3.10.7"
  }
 },
 "nbformat": 4,
 "nbformat_minor": 5
}
