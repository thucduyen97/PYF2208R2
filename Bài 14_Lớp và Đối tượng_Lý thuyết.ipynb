{
 "cells": [
  {
   "cell_type": "markdown",
   "id": "0b0c5e7c",
   "metadata": {},
   "source": [
    "# BÀI TRÌNH BÀY VỀ LỚP VÀ ĐỐI TƯỢNG.\n",
    "    - PHẦN 1: LỚP.\n",
    "    - PHẦN 2: ĐỐI TƯỢNG.\n",
    "    - PHẦN 3: HÀM TRONG LỚP.\n",
    "    - PHẦN 4: VÍ DỤ VỀ ỨNG DỤNG CỦA LỚP VÀ ĐỐI TƯỢNG"
   ]
  },
  {
   "cell_type": "markdown",
   "id": "322bdafc",
   "metadata": {},
   "source": [
    "# PHẦN 1: LỚP.\n",
    "    1. ĐỊNH NGHĨA LỚP.\n",
    "    2. CÁCH KHAI BÁO LỚP.\n",
    "    3. CÁC THÀNH PHẦN CỦA LỚP.\n",
    "    4. TÍNH CHẤT CỦA LỚP."
   ]
  },
  {
   "cell_type": "markdown",
   "id": "be63752b",
   "metadata": {},
   "source": [
    "Lớp (Class) là tập hợp tất cả các đối tượng có chung các thuộc tính và hành vi. Thuộc tính là những tính chất, hình dáng bên ngoài, màu…của đối tượng. (~ Dữ liệu) Hành vi là những chức năng, hành động của đối tượng có thể thực hiện được.(~ Hàm) Ví dụ: Trong class Học sinh, chúng ta có: Thuộc tính: id, tên tuổi, địa chỉ, điểm toán, điểm văn,... Hành vi: check, show"
   ]
  },
  {
   "cell_type": "code",
   "execution_count": null,
   "id": "10fd21b8",
   "metadata": {},
   "outputs": [],
   "source": [
    "# Cách khai báo lớp\n",
    "# Giống như định nghĩa hàm bắt đầu bằng từ khóa def trong Python, định nghĩa lớp bắt đầu bằng từ khóa class.\n",
    "\n",
    "class HocSinh:\n",
    "    'docstrings'\n",
    "    <Câu lệnh 1>\n",
    "    <Câu lệnh 2>\n",
    "    .\n",
    "    .\n",
    "    <Câu lệnh N>"
   ]
  },
  {
   "cell_type": "markdown",
   "id": "1142fa03",
   "metadata": {},
   "source": [
    "Trong đó:\n",
    "\n",
    "HocSinh: là tên được đặt cho lớp được định nghĩa, chúng ta sẽ tương tác với các đối tượng sinh ra từ lớp bằng cách sử dụng tên này.\n",
    "Chuỗi đầu tiên bên trong lớp được gọi là docstring và có nhiệm vụ mô tả ngắn gọn về lớp, mặc dù là không bắt buộc.\n",
    "Các câu lệnh để định nghĩa các thuộc tính và hành vi (phương thức) của đối tượng trong lớp."
   ]
  },
  {
   "cell_type": "code",
   "execution_count": null,
   "id": "8d0a3f34",
   "metadata": {},
   "outputs": [],
   "source": [
    "class HocSinh:\n",
    "    'Đây là lớp Học sinh đánh giá bằng 2 môn Toán và Văn'\n",
    "    id = ''\n",
    "    ten = ''\n",
    "    tuoi = ''\n",
    "    dia_chi = ''\n",
    "    diem_toan = ''\n",
    "    dien_van = ''\n",
    "    level = ''\n",
    "    def __init__(self, id, ten, tuoi, dia_chi, diem_toan, diem_van):\n",
    "        # khai báo các thuộc tính của HocSinh\n",
    "        self.id = id\n",
    "        self.ten = ten\n",
    "        self.tuoi = tuoi\n",
    "        self.dia_chi = dia_chi\n",
    "        self.diem_toan = diem_toan\n",
    "        self.diem_van = diem_van\n",
    "        # khai báo các phương thức của HocSinh\n",
    "    def check(self, diem_toan, diem_van):\n",
    "        if diem_toan >= 8 and diem_van >= 8:\n",
    "            self.level = 'Gioi'\n",
    "        elif diem_toan <= 5 and diem_van <= 5:\n",
    "            self.level = 'kem'\n",
    "        else:\n",
    "            self.level = 'trung binh'\n",
    "    def show(self):\n",
    "        self.check(self.diem_toan, self.diem_van)\n",
    "        print(f'Thông báo {self.ten} thuộc level: {self.level}')"
   ]
  },
  {
   "cell_type": "markdown",
   "id": "ef8f6b3a",
   "metadata": {},
   "source": [
    "Một lớp là một bản thiết kế cho đối tượng. Chúng ta có thể coi một lớp như một bản phác thảo của một ngôi nhà với các chi tiết. Nó chứa tất cả các chi tiết về tên, màu sắc, kích thước,.. Dựa trên những mô tả này, chúng ta có thể xây dựng các ngôi nhà. Ở đây, một ngôi nhà là một đối tượng. Tức là bạn có thể sử dụng bản thiết kế (hay lớp này) để định nghĩa bao nhiêu đối tượng tùy thích.\n",
    "\n",
    "Về mặt biểu diễn các khối lệnh, áp dụng các quy tắc thụt lề tương tự như hàm với lưu ý ở đây khối định nghĩa lớp là khối lệnh lớn nhất, sau đó sẽ đến các khối lệnh định nghĩa hàm (phương thức) trong lớp, các khối điều kiện, vòng lặp...Mỗi khối lệnh nhỏ nằm trong khối lệnh lớn sẽ phải thụt dòng một khoảng bằng nhau!\n",
    "\n",
    "Python cho phép một lớp (hay class) sử dụng lại các thuộc tính và phương thức từ các lớp khác đã được định nghĩa. Các lớp con trong Python sẽ khai báo việc kế thừa một lớp cha ngay trong phần khai báo class và sử dụng khai báo việc kế thừa thông qua việc truyền tên của lớp cha (lớp cần kế thừa) vào trong phần đầu class. Ví dụ: class Lop(HocSinh) để khai báo class(Lop) kế thừa class(HocSinh). Khi một lớp con kế thừa lớp cha thì lớp con sẽ có thể có tất cả các thuộc tính và phương thức của lớp cha. Ngoài ra lớp con cũng có thể mở rộng các thành phần kế thừa từ lớp cha và bổ sung thêm các thành phần mới."
   ]
  },
  {
   "cell_type": "code",
   "execution_count": null,
   "id": "e259e607",
   "metadata": {},
   "outputs": [],
   "source": [
    "# khai báo lớp Lớp kế thừa lớp HocSinh\n",
    "class Lop(HocSinh):\n",
    "    #khai báo thuộc tính của lớp Lop\n",
    "    def __init__(self, gioi_tinh, diem_trung_binh):\n",
    "        self.GioiTinh = gioitinh\n",
    "        self.DiemTrungBinh = diem_trung_binh\n",
    "        self.ThuTu = thu_tu\n",
    "    #Khai báo cac phương thức của lớp Lop\n",
    "    def DanhGia(self):\n",
    "        print(\"Học sinh\" + self.ten + \"xếp thứ\" + self.ThuTu)"
   ]
  },
  {
   "cell_type": "markdown",
   "id": "17bd12a9",
   "metadata": {},
   "source": [
    "# PHẦN 2: ĐỐI TƯỢNG\n",
    "    1. Khái niệm đối tượng.\n",
    "    2. Cách khai báo đối tượng.\n",
    "    3. Thuộc tính của đối tượng.\n",
    "    4. Phương thức của đối tượng."
   ]
  },
  {
   "cell_type": "markdown",
   "id": "618f478c",
   "metadata": {},
   "source": [
    "1.Khái niệm về đối tượng"
   ]
  },
  {
   "cell_type": "raw",
   "id": "7660fd21",
   "metadata": {},
   "source": [
    "# Đối tượng là một thể hiện cụ thể nào đó của lớp và nó có đầy đủ các thuộc tính và hành vi của lớp đó\n",
    "# Đối tượng là một khái niệm cụ thể\n",
    "# Đối tượng là sự thể hiện của một lớp và được coi như những sản phẩm thực sự được tạo ra từ khuôn mẫu đó (Lớp)"
   ]
  },
  {
   "cell_type": "markdown",
   "id": "df2701c6",
   "metadata": {},
   "source": [
    "2.Cách khai báo đối tượng."
   ]
  },
  {
   "cell_type": "code",
   "execution_count": 1,
   "id": "2cdb7bc8",
   "metadata": {},
   "outputs": [],
   "source": [
    "class Dog:\n",
    "    pass\n",
    "color = \"\"\n",
    "country = \"\"\n",
    "weight = \"\"\n",
    "d = Dog()"
   ]
  },
  {
   "cell_type": "markdown",
   "id": "9c21b7e5",
   "metadata": {},
   "source": [
    "3.Thuộc tính của đối tượng."
   ]
  },
  {
   "cell_type": "markdown",
   "id": "8d73f6b4",
   "metadata": {},
   "source": [
    "#Thuộc tính: Những đặc điểm đặc trưng của đối tượng, thể hiện thông qua những giá trị cụ thể"
   ]
  },
  {
   "cell_type": "code",
   "execution_count": null,
   "id": "9dcfc9c1",
   "metadata": {},
   "outputs": [],
   "source": [
    "class Dog:\n",
    "    pass\n",
    "d = Dog()\n",
    "d.color = \"Yellow\"\n",
    "d.country = \"Viet Nam\"\n",
    "d.weight = \"30kg\"\n",
    "print(d.country)"
   ]
  },
  {
   "cell_type": "markdown",
   "id": "bd60191c",
   "metadata": {},
   "source": [
    "#Lưu ý :nếu phần thuộc tính để trống thì sẽ không ra kết quả"
   ]
  },
  {
   "cell_type": "code",
   "execution_count": null,
   "id": "d26b5b2d",
   "metadata": {},
   "outputs": [],
   "source": [
    "class Dog:\n",
    "    pass\n",
    "d1 = Dog()\n",
    "d1.color =\"Yellow\"\n",
    "d2 = Dog()\n",
    "\n",
    "print(d2.color)"
   ]
  },
  {
   "cell_type": "markdown",
   "id": "ef760a97",
   "metadata": {},
   "source": [
    "4.Phương thức của đối tượng."
   ]
  },
  {
   "cell_type": "markdown",
   "id": "5aac552a",
   "metadata": {},
   "source": [
    "#Phương thức: Những hành động, cách thức biểu diễn chức năng của đối tượng"
   ]
  },
  {
   "cell_type": "code",
   "execution_count": null,
   "id": "2a2a6755",
   "metadata": {},
   "outputs": [],
   "source": [
    "class Dog:\n",
    "    def print_test(self):\n",
    "        print(\"test\")\n",
    "d = Dog()\n",
    "d.color =\"Yellow\"\n",
    "print(d.color)\n",
    "d.print_test()"
   ]
  },
  {
   "cell_type": "markdown",
   "id": "31dff0c4",
   "metadata": {},
   "source": [
    "# PHẦN 3: HÀM TRONG LỚP\n",
    "    1. HÀM KHỞI TẠO.\n",
    "    2. HÀM HỦY."
   ]
  },
  {
   "cell_type": "markdown",
   "id": "b162a2b6",
   "metadata": {},
   "source": [
    "1. HÀM KHỞI TẠO"
   ]
  },
  {
   "cell_type": "code",
   "execution_count": null,
   "id": "4f6de466",
   "metadata": {},
   "outputs": [],
   "source": [
    "# Hàm khởi tạo( Hàm constructor)\n",
    "Phương thức khởi tạo là một phương thức đặc biệt ở trong class \n",
    "phương thức này mặc định sẽ được gọi khi chúng ta khởi tạo class đó. \n",
    "Nó thường được dùng để khởi tạo các thuộc, xử lý phương thức hoặc là dùng để nhận các tham số truyền vào class khi khởi tạo.\n",
    "Để khai báo một phương thức khởi tạo trong class thì mọi người chỉ cần viết một hàm có tên là __init__ với cú pháp như sau:\n",
    "class className:\n",
    "    def __init__ (self,param1,param2):\n",
    "Trong đó :\n",
    "className : là tên của lớp\n",
    "self : # Self parameter\n",
    "Tham số self là tham chiếu đến lớp chính nó, và được sử dụng để truy cập các biến đó thuộc về lớp.\n",
    "Nó không nhất thiết được đặt tên self, ta có thể gọi nó là bất tên tùy thích, nhưng nó phải là tham số đầu tiên của bất kỳ hàm nào trong lớp\n",
    "Sử dụng các từ mysillyobject và abc thay vì self\n",
    "param1,param2... : tham số đi kèm khi ta khởi tạo class"
   ]
  },
  {
   "cell_type": "code",
   "execution_count": null,
   "id": "62e12c0d",
   "metadata": {},
   "outputs": [],
   "source": [
    "#VD :\n",
    "class Person :\n",
    "    def __init__(self):\n",
    "        print(\"Class person được khởi tạo \")\n",
    "a = Person()"
   ]
  },
  {
   "cell_type": "code",
   "execution_count": null,
   "id": "52e8ef78",
   "metadata": {},
   "outputs": [],
   "source": [
    "class SinhVien: \n",
    "    def __init__(self, name, age, gender):\n",
    "        self.name = name\n",
    "        self.age = age\n",
    "        self.gender = gender\n",
    "    def print_info(self):\n",
    "        print(self.name)\n",
    "sv1=SinhVien(\"Xuan Thuy\",29,\"Nữ\")\n",
    "sv1.print_info()"
   ]
  },
  {
   "cell_type": "markdown",
   "id": "244e8e19",
   "metadata": {},
   "source": [
    "2. HÀM HỦY"
   ]
  },
  {
   "cell_type": "markdown",
   "id": "61c93032",
   "metadata": {},
   "source": [
    "#Hàm Destruction (Hàm hủy)\n",
    "Trái ngược với phương thức khởi tạo, thì phương thức hủy sẽ được gọi khi chúng ta hủy một class, \n",
    "hay nó cách khác nó luôn được thực thi cuối cùng khi chúng ta khởi tạo một class. \n",
    "Nó thường được dùng để giải phóng tài nguyên của class.\n",
    "#Cú Pháp :\n",
    "def __ del__( self):\n",
    "    # code"
   ]
  },
  {
   "cell_type": "code",
   "execution_count": null,
   "id": "4f6dae87",
   "metadata": {},
   "outputs": [],
   "source": [
    "# VD:\n",
    "class Person:\n",
    "    def __init__(self, name, age, gender):\n",
    "        self.name = name\n",
    "        self.age = age\n",
    "        self.gender = gender\n",
    "        print(\"Class person được khởi tạo \")\n",
    "        print(\"Name: \", self.name , \" Age:\",self.age ,\"Gender: \",self.gender)\n",
    "    def __del__(self):\n",
    "        print(\"Class person được hủy\")        \n",
    "a = Person(\"nguyen pham xuan thuy\" , 22 , \"Women\")\n",
    "del a"
   ]
  },
  {
   "cell_type": "code",
   "execution_count": null,
   "id": "67a6eb5a",
   "metadata": {},
   "outputs": [],
   "source": [
    "class SinhVien: \n",
    "    def __init__(self, name, age, gender):\n",
    "        self.name = name\n",
    "        self.age = age\n",
    "        self.gender = gender\n",
    "    def print_info(self):\n",
    "        print(\"Name: \", self.name , \" Age:\",self.age ,\"Gender: \",self.gender)\n",
    "    def __del__(self):\n",
    "        print(\"Class person được hủy\")\n",
    "sv1=SinhVien(\"Xuan Thuy\",29,\"Nữ\")\n",
    "sv1.print_info()\n",
    "del sv1"
   ]
  },
  {
   "cell_type": "markdown",
   "id": "906389b8",
   "metadata": {},
   "source": [
    "# PHẦN 4: VÍ DỤ VỀ CÁCH SỬ DỤNG LỚP VÀ ĐỐI TƯỢNG"
   ]
  },
  {
   "cell_type": "code",
   "execution_count": 16,
   "id": "bdece91e",
   "metadata": {},
   "outputs": [
    {
     "name": "stdout",
     "output_type": "stream",
     "text": [
      "Nhap id: 1\n",
      "Nhap ten: hieu\n",
      "Nhap diem toan: 8\n",
      "Nhap diem van: 9\n",
      "Ban có muốn nhập dữ liệu tiếp không Y/N: Y\n",
      "Nhap id: 2\n",
      "Nhap ten: nam\n",
      "Nhap diem toan: 9\n",
      "Nhap diem van: 10\n",
      "Ban có muốn nhập dữ liệu tiếp không Y/N: Y\n",
      "Nhap id: 3\n",
      "Nhap ten: binh\n",
      "Nhap diem toan: 2\n",
      "Nhap diem van: 2\n",
      "Ban có muốn nhập dữ liệu tiếp không Y/N: n\n",
      "ban muốn lọc sinh viên loại gì?gioi/trung  binh/kem gioi\n",
      "Thông báo hieu thuộc level: gioi\n",
      "Thông báo nam thuộc level: gioi\n",
      "Tổng số SV level gioi là: 2\n"
     ]
    }
   ],
   "source": [
    "# chuong trình nhập dữ liệu và xuất ra sinh viên theo tùy biến.\n",
    "class hoc_sinh:\n",
    "    id = ''\n",
    "    ten = ''\n",
    "    diem_toan = ''\n",
    "    dien_van = ''\n",
    "    level = ''\n",
    "    def __init__(self, id, ten, diem_toan, diem_van):\n",
    "        self.id = id\n",
    "        self.ten = ten\n",
    "        self.diem_toan = diem_toan\n",
    "        self.diem_van = diem_van\n",
    "    def check(self, diem_toan, diem_van):\n",
    "        if diem_toan >= 8 and diem_van >= 8:\n",
    "            self.level = 'gioi'\n",
    "        elif diem_toan <= 5 and diem_van <= 5:\n",
    "            self.level = 'kem'\n",
    "        else:\n",
    "            self.level = 'trung binh'\n",
    "    def show(self):\n",
    "        print(f'Thông báo {self.ten} thuộc level: {self.level}')\n",
    "\n",
    "check = 'Y'\n",
    "list = []\n",
    "while check == 'Y':\n",
    "    id = input('Nhap id: ')\n",
    "    ten = input('Nhap ten: ')\n",
    "    diem_toan = int(input('Nhap diem toan: '))\n",
    "    diem_van = int(input('Nhap diem van: '))\n",
    "    sv1 = hoc_sinh(id, ten, diem_toan, diem_van)\n",
    "    sv1.check(sv1.diem_toan, sv1.diem_van)\n",
    "    list.append(sv1)\n",
    "    check = input('Ban có muốn nhập dữ liệu tiếp không Y/N: ')\n",
    "\n",
    "loc_sv = input('ban muốn lọc sinh viên loại gì?gioi/trung  binh/kem ')\n",
    "j = 0\n",
    "for i in list:\n",
    "    if i.level == loc_sv:\n",
    "        i.show()\n",
    "        j +=1\n",
    "print(f'Tổng số SV level {loc_sv} là: {j}')"
   ]
  }
 ],
 "metadata": {
  "kernelspec": {
   "display_name": "Python 3 (ipykernel)",
   "language": "python",
   "name": "python3"
  },
  "language_info": {
   "codemirror_mode": {
    "name": "ipython",
    "version": 3
   },
   "file_extension": ".py",
   "mimetype": "text/x-python",
   "name": "python",
   "nbconvert_exporter": "python",
   "pygments_lexer": "ipython3",
   "version": "3.10.7"
  }
 },
 "nbformat": 4,
 "nbformat_minor": 5
}
