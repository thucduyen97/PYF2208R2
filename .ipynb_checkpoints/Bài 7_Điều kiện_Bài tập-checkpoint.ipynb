{
 "cells": [
  {
   "cell_type": "markdown",
   "id": "fe8b2392",
   "metadata": {},
   "source": [
    "## Kiểm tra số nhập vào là số chẳn hoặc lẻ, sử dụng toán tử điều kiện ba ngôi"
   ]
  },
  {
   "cell_type": "code",
   "execution_count": 3,
   "id": "d9cf971c",
   "metadata": {},
   "outputs": [
    {
     "name": "stdout",
     "output_type": "stream",
     "text": [
      "Input number: 6\n",
      "6 là số chẵn\n"
     ]
    }
   ],
   "source": [
    "number=int(input('Input number: '))\n",
    "print(f'{number} là số chẵn' if number%2==0 else f'{number} là số lẻ')"
   ]
  },
  {
   "cell_type": "markdown",
   "id": "bea90bb7",
   "metadata": {},
   "source": [
    "## Viết chương trình có khả năng kiểm tra tính chất chẵn lẻ của một số nhập vào. In ra màn hình số nhập vào là số chẵn, số lẽ hay không phải là các trường hợp trên."
   ]
  },
  {
   "cell_type": "code",
   "execution_count": 5,
   "id": "3856ffd5",
   "metadata": {},
   "outputs": [
    {
     "name": "stdout",
     "output_type": "stream",
     "text": [
      "Nhập số nguyên: 45\n",
      "45 là số lẻ\n"
     ]
    }
   ],
   "source": [
    "number = int(input(\"Nhập số nguyên: \"))\n",
    "if number % 2 == 0:\n",
    "    print(f\"{number} là số chẵn\")\n",
    "elif number % 2 ==1:\n",
    "    print(f\"{number} là số lẻ\")\n",
    "else:\n",
    "    print(f\"{number} không phải là số tự nhiên\")"
   ]
  },
  {
   "cell_type": "markdown",
   "id": "4f61059a",
   "metadata": {},
   "source": [
    "## Viết chương trình yêu cầu người dùng nhập một số trong phạm vi từ 1 đến 7. Sau đó hãy in ra ngày tương ứng: \n",
    "\n",
    "1: Monday\n",
    "\n",
    "2: Tuesday\n",
    "\n",
    "3: Wednesday\n",
    "\n",
    "4: Thursday\n",
    "\n",
    "5: Friday\n",
    "\n",
    "6: Saturday\n",
    "\n",
    "7: Sunday\n",
    "\n",
    "Nếu người dùng nhập số ngoài phạm vi từ 1 đến 7 thì hãy in ra “error, out of range”."
   ]
  },
  {
   "cell_type": "code",
   "execution_count": 7,
   "id": "72a0d17d",
   "metadata": {},
   "outputs": [
    {
     "name": "stdout",
     "output_type": "stream",
     "text": [
      "Input week day: 9\n",
      "Error, out of range\n"
     ]
    }
   ],
   "source": [
    "week_day=int(input('Input week day: '))\n",
    "if week_day==2:\n",
    "    print('Monday')\n",
    "elif week_day==3:\n",
    "    print('Tuesday')\n",
    "elif week_day==4:\n",
    "    print('Wednesday')\n",
    "elif week_day==5:\n",
    "    print('Thursday')\n",
    "elif week_day==6:\n",
    "    print('Friday')\n",
    "elif week_day==7:\n",
    "    print('Saturday')\n",
    "elif week_day==8:\n",
    "    print('Sunday')\n",
    "else:\n",
    "    print('Error, out of range')"
   ]
  },
  {
   "cell_type": "markdown",
   "id": "fa5331e0",
   "metadata": {},
   "source": [
    "## Viết chương trình hỏi người dùng đã chi bao nhiêu tiền tại cửa hàng.\n",
    "\n",
    "Nếu họ chi ít hơn 75$, họ sẽ không được giảm giá.\n",
    "\n",
    "Nếu họ chi 75$ trở lên => được giảm giá 15$.\n",
    "\n",
    "Nếu người dùng chi từ 100$ trở lên => được giảm giá 25$.\n",
    "\n",
    "Nếu người dùng chi từ 150$ trở lên=> được giảm giá 50$.\n",
    "\n",
    "Sau đó in ra tổng số tiền mà người dùng phải thanh toán."
   ]
  },
  {
   "cell_type": "code",
   "execution_count": 12,
   "id": "7be374a1",
   "metadata": {},
   "outputs": [
    {
     "name": "stdout",
     "output_type": "stream",
     "text": [
      "Nhap gia tri don hang: 566\n",
      "Ban duoc giam gia $50, gia tri don hang cua ban la 516\n"
     ]
    }
   ],
   "source": [
    "price=int(input('Nhap gia tri don hang: '))\n",
    "\n",
    "if price>=150:\n",
    "    print(f'Ban duoc giam gia $50, gia tri don hang cua ban la {price-50}')\n",
    "elif price>=100:\n",
    "    print(f'Ban duoc giam gia $25, gia tri don hang cua ban la {price-25}')\n",
    "elif price>=75:\n",
    "    print(f'Ban duoc giam gia $15, gia tri don hang cua ban la {price-15}')\n",
    "else:\n",
    "    print(f'Ban khong duoc giam gia, gia tri don hang cua ban la {price}')"
   ]
  },
  {
   "cell_type": "markdown",
   "id": "6ee0be9e",
   "metadata": {},
   "source": [
    "## Viết chương trình cho người dùng nhập cân nặng và chiều cao của mình. Sau đó hãy in ra chỉ số BMI (Body mass index), và tình trạng cơ thể của họ dựa theo công thức và bảng giá trị sau:\n",
    "\n",
    "BMI = cân nặng / (chiều cao ^ 2)\n",
    "\n",
    "Trong đó cân nặng tính bằng kg và chiều cao tính bằng m\n",
    "\n",
    "Chỉ số BMI đối với người trên 20 tuổi được phân loại và diễn giải theo bảng sau:\n",
    "\n",
    "BMI < 16: Gầy cấp độ III\n",
    "16 <= BMI < 17:  Gầy cấp độ II\n",
    "17<= BMI < 18.5: Gầy cấp độ I\n",
    "18.5 <= BMI < 25: Bình thường\n",
    "25 <= BMI < 30: Thừa cân\n",
    "30 <= BMI < 35 : Béo phì cấp độ I\n",
    "35 <= BMI < 40: Béo phì cấp độ II\n",
    "BMI > 40: Béo phì cấp độ III"
   ]
  },
  {
   "cell_type": "code",
   "execution_count": 18,
   "id": "ae1fe13e",
   "metadata": {},
   "outputs": [
    {
     "name": "stdout",
     "output_type": "stream",
     "text": [
      "Nhap can nang: 51\n",
      "Nhap chieu cao: 1.62\n",
      "Chi so BMI cua ban la 15.74074074074074: Gay cap do III\n"
     ]
    }
   ],
   "source": [
    "can_nang=float(input('Nhap can nang: '))\n",
    "chieu_cao=float(input('Nhap chieu cao: '))\n",
    "\n",
    "BMI=can_nang/(chieu_cao*2)\n",
    "\n",
    "if BMI<16:\n",
    "    print(f'Chi so BMI cua ban la {BMI}: Gay cap do III')\n",
    "elif 16<=BMI<17:\n",
    "    print(f'Chi so BMI cua ban la {BMI}: Gay cap do II')\n",
    "elif 17<=BMI<18.5:\n",
    "    print(f'Chi so BMI cua ban la {BMI}: Gay cap do I')   \n",
    "elif 18.5<=BMI<25:\n",
    "    print(f'Chi so BMI cua ban la {BMI}: Binh thuong')\n",
    "elif 25<=BMI<30:\n",
    "    print(f'Chi so BMI cua ban la {BMI}: Thua can')\n",
    "elif 30<=BMI<35:\n",
    "    print(f'Chi so BMI cua ban la {BMI}: Beo phi cap do I')\n",
    "elif 35<=BMI<40:\n",
    "    print(f'Chi so BMI cua ban la {BMI}: Beo phi cap do II')\n",
    "else:\n",
    "    print(f'Chi so BMI cua ban la {BMI}: Beo phi cap do III')"
   ]
  }
 ],
 "metadata": {
  "kernelspec": {
   "display_name": "Python 3 (ipykernel)",
   "language": "python",
   "name": "python3"
  },
  "language_info": {
   "codemirror_mode": {
    "name": "ipython",
    "version": 3
   },
   "file_extension": ".py",
   "mimetype": "text/x-python",
   "name": "python",
   "nbconvert_exporter": "python",
   "pygments_lexer": "ipython3",
   "version": "3.10.7"
  }
 },
 "nbformat": 4,
 "nbformat_minor": 5
}
