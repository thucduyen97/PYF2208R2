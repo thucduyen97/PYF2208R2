{
 "cells": [
  {
   "cell_type": "markdown",
   "id": "b390fe44",
   "metadata": {},
   "source": [
    "# [Bài tập] Fizz Buzz (Python)\n",
    "\n",
    "Viết chương trình lấy đầu vào là hai số nguyên: đầu và cuối khoảng (cả hai số đều thuộc khoảng).\n",
    "Chương trình sẽ in ra các số trong khoảng này. Nhưng nếu số đó chia hết cho 3, bạn sẽ in ra “Fizz” thay vì nó, nếu số đó chia hết cho 5, in ra “Buzz” và nếu số đó chia hết cho cả 3 và 5, hãy in ra “FizzBuzz”."
   ]
  },
  {
   "cell_type": "code",
   "execution_count": 8,
   "id": "9e3a77fe",
   "metadata": {
    "scrolled": false
   },
   "outputs": [
    {
     "name": "stdout",
     "output_type": "stream",
     "text": [
      "Input a: 3\n",
      "Input b: 21\n",
      "Fizz\n",
      "4\n",
      "Buzz\n",
      "Fizz\n",
      "7\n",
      "8\n",
      "Fizz\n",
      "Buzz\n",
      "11\n",
      "Fizz\n",
      "13\n",
      "14\n",
      "Fizz\n",
      "16\n",
      "17\n",
      "Fizz\n",
      "19\n",
      "Buzz\n",
      "Fizz\n"
     ]
    }
   ],
   "source": [
    "a = int(input('Input a: '))\n",
    "b = int(input('Input b: '))\n",
    "\n",
    "if a>b:\n",
    "    print('Please input a<b to start')\n",
    "else:\n",
    "    for i in range(a,b+1):\n",
    "        if i%3 == 0:\n",
    "            print('Fizz')\n",
    "        elif i%5 == 0:\n",
    "            print('Buzz')\n",
    "        elif i% 15 == 0:\n",
    "            print('FizzBuzz')\n",
    "        else:\n",
    "            print(i)"
   ]
  },
  {
   "cell_type": "markdown",
   "id": "da19afa6",
   "metadata": {},
   "source": [
    "# [Bài tập] The 21 Game\n",
    "\n",
    "Trò chơi 21 là trò chơi số đếm được bắt đầu từ 0, hai người chơi lần lượt có thể thêm 1, 2 hoặc 3, vào tổng số. Tổng số không được vượt quá 21 và người chơi đếm tới 21 sẽ thua. Ở bài tập này, chúng ta sẽ giả định cho máy làm người chơi thứ 2."
   ]
  },
  {
   "cell_type": "code",
   "execution_count": null,
   "id": "624a91c7",
   "metadata": {},
   "outputs": [],
   "source": [
    "#CHUA LAM DUOC\n",
    "\n",
    "from random import randint \n",
    "result = False\n",
    "count = 0\n",
    "\n",
    "while count < 25:\n",
    "    user = int(input('Input your choice: '))\n",
    "    computer = randint(1,3)\n",
    "    print(f'User choice: {user}')\n",
    "    print(f'Computer choice: {computer}')\n",
    "    count += user\n",
    "    count += computer\n",
    "    if count \n",
    "        print('User win')\n",
    "        result=True\n",
    "    elif user==3 and computer==1:\n",
    "        print('User win')\n",
    "        result=True\n",
    "    else:\n",
    "        print('Computer win')"
   ]
  },
  {
   "cell_type": "markdown",
   "id": "49af8633",
   "metadata": {},
   "source": [
    "# [Bài tập] Sinh bảng cửu chương (Python)\n",
    "\n",
    "Viết chương trình hiển thị tất cả các bảng cửu chương từ 1 đến 9."
   ]
  },
  {
   "cell_type": "code",
   "execution_count": 9,
   "id": "2a1a17c7",
   "metadata": {},
   "outputs": [
    {
     "name": "stdout",
     "output_type": "stream",
     "text": [
      "2 4 6 8 10 12 14 16 18 20 \n",
      "3 6 9 12 15 18 21 24 27 30 \n",
      "4 8 12 16 20 24 28 32 36 40 \n",
      "5 10 15 20 25 30 35 40 45 50 \n",
      "6 12 18 24 30 36 42 48 54 60 \n",
      "7 14 21 28 35 42 49 56 63 70 \n",
      "8 16 24 32 40 48 56 64 72 80 \n",
      "9 18 27 36 45 54 63 72 81 90 \n"
     ]
    }
   ],
   "source": [
    "for i in range(2,10):\n",
    "    for j in range(1,11):\n",
    "        print(i*j, end=' ')\n",
    "    print()"
   ]
  }
 ],
 "metadata": {
  "kernelspec": {
   "display_name": "Python 3 (ipykernel)",
   "language": "python",
   "name": "python3"
  },
  "language_info": {
   "codemirror_mode": {
    "name": "ipython",
    "version": 3
   },
   "file_extension": ".py",
   "mimetype": "text/x-python",
   "name": "python",
   "nbconvert_exporter": "python",
   "pygments_lexer": "ipython3",
   "version": "3.10.7"
  }
 },
 "nbformat": 4,
 "nbformat_minor": 5
}
