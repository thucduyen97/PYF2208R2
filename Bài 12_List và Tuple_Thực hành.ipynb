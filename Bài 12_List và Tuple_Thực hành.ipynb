{
 "cells": [
  {
   "cell_type": "markdown",
   "id": "f232e8d3",
   "metadata": {},
   "source": [
    "## Bài 1: reversed list\n",
    "Hãy viết một chương trình để đảo ngược các phần tử trong list"
   ]
  },
  {
   "cell_type": "code",
   "execution_count": null,
   "id": "76a27163",
   "metadata": {},
   "outputs": [],
   "source": [
    "aList = [100, 200, 300, 400, 500]"
   ]
  },
  {
   "cell_type": "markdown",
   "id": "cc8fadd4",
   "metadata": {},
   "source": [
    "**Output:**"
   ]
  },
  {
   "cell_type": "code",
   "execution_count": null,
   "id": "7e6f728c",
   "metadata": {},
   "outputs": [],
   "source": [
    "[500, 400, 300, 200, 100]"
   ]
  },
  {
   "cell_type": "code",
   "execution_count": 1,
   "id": "4e76942b",
   "metadata": {},
   "outputs": [
    {
     "name": "stdout",
     "output_type": "stream",
     "text": [
      "[500, 400, 300, 200, 100]\n"
     ]
    }
   ],
   "source": [
    "#cach1\n",
    "\n",
    "aList = [100, 200, 300, 400, 500]\n",
    "# code below this line\n",
    "aList.sort(reverse = True) #sap xep giam dan\n",
    "print(aList)\n",
    "# code above this line"
   ]
  },
  {
   "cell_type": "code",
   "execution_count": 2,
   "id": "3554c78c",
   "metadata": {},
   "outputs": [
    {
     "name": "stdout",
     "output_type": "stream",
     "text": [
      "[500, 400, 300, 200, 100]\n"
     ]
    }
   ],
   "source": [
    "#cach2\n",
    "\n",
    "aList = [100, 200, 300, 400, 500]\n",
    "bList = aList[::-1]\n",
    "print(bList)"
   ]
  },
  {
   "cell_type": "markdown",
   "id": "df9f3540",
   "metadata": {},
   "source": [
    "## Bài 2: concatenation\n",
    "Hãy tạo ra một list mới bằng cách cộng các phần tử tương ứng của list cũ theo index tương ứng"
   ]
  },
  {
   "cell_type": "code",
   "execution_count": null,
   "id": "be729af4",
   "metadata": {},
   "outputs": [],
   "source": [
    "list1 = [\"M\", \"na\", \"i\", \"Ke\"]\n",
    "list2 = [\"y\", \"me\", \"s\", \"lly\"]"
   ]
  },
  {
   "cell_type": "markdown",
   "id": "843840c3",
   "metadata": {},
   "source": [
    "**Output:**"
   ]
  },
  {
   "cell_type": "code",
   "execution_count": null,
   "id": "3584d82f",
   "metadata": {},
   "outputs": [],
   "source": [
    "['My', 'name', 'is', 'Kelly']"
   ]
  },
  {
   "cell_type": "code",
   "execution_count": 4,
   "id": "35e732f6",
   "metadata": {},
   "outputs": [
    {
     "name": "stdout",
     "output_type": "stream",
     "text": [
      "['My', 'name', 'is', 'Kelly']\n"
     ]
    }
   ],
   "source": [
    "#cach1\n",
    "\n",
    "list1 = [\"M\", \"na\", \"i\", \"Ke\"]\n",
    "list2 = [\"y\", \"me\", \"s\", \"lly\"]\n",
    "\n",
    "# code below this line\n",
    "list3 = []\n",
    "for i in range(len(list1)):\n",
    "    list3.append(list1[i] + list2[i]) #moi lan index i ket hop index i cua list1 va list2 thi add vao cuoi cung cua list3\n",
    "\n",
    "print(list3)\n",
    "# code above this line"
   ]
  },
  {
   "cell_type": "code",
   "execution_count": 6,
   "id": "29ba892e",
   "metadata": {},
   "outputs": [
    {
     "name": "stdout",
     "output_type": "stream",
     "text": [
      "['My', 'name', 'is', 'Kelly']\n"
     ]
    }
   ],
   "source": [
    "#cach2: khong toi uu bang cach 1\n",
    "\n",
    "list1 = [\"M\", \"na\", \"i\", \"Ke\"]\n",
    "list2 = [\"y\", \"me\", \"s\", \"lly\"]\n",
    "\n",
    "# code below this line\n",
    "list3 = []\n",
    "for i in range(len(list1)):\n",
    "    for j in range(len(list2)):\n",
    "        if i == j:\n",
    "            list3.append(list1[i] + list2[j])\n",
    "\n",
    "print(list3)\n",
    "# code above this line"
   ]
  },
  {
   "cell_type": "markdown",
   "id": "6f6a4a7d",
   "metadata": {},
   "source": [
    "## Bài 3: squared list\n",
    "Cho sẵn một list chứa các số tự nhiên. Bình phương các phần tử trong list và lưu vào một list mới."
   ]
  },
  {
   "cell_type": "code",
   "execution_count": null,
   "id": "0f3a0621",
   "metadata": {},
   "outputs": [],
   "source": [
    "aList = [1, 2, 3, 4, 5, 6, 7]"
   ]
  },
  {
   "cell_type": "markdown",
   "id": "adbeff53",
   "metadata": {},
   "source": [
    "**Output**"
   ]
  },
  {
   "cell_type": "code",
   "execution_count": 7,
   "id": "809cb15b",
   "metadata": {},
   "outputs": [
    {
     "name": "stdout",
     "output_type": "stream",
     "text": [
      "[1, 4, 9, 16, 25, 36, 49]\n"
     ]
    }
   ],
   "source": [
    "#cach1\n",
    "\n",
    "# code below this line\n",
    "aList = [1, 2, 3, 4, 5, 6, 7]\n",
    "list1 = []\n",
    "\n",
    "for item in aList:\n",
    "    list1.append(item ** 2)\n",
    "    \n",
    "print(list1)\n",
    "\n",
    "# code above this line"
   ]
  },
  {
   "cell_type": "code",
   "execution_count": 8,
   "id": "dbf66ac8",
   "metadata": {},
   "outputs": [
    {
     "name": "stdout",
     "output_type": "stream",
     "text": [
      "[1, 4, 9, 16, 25, 36, 49]\n"
     ]
    }
   ],
   "source": [
    "#cach2: Python List Comprehension\n",
    "\n",
    "aList = [1, 2, 3, 4, 5, 6, 7]\n",
    "list1 = [item ** 2 for item in aList]\n",
    "    \n",
    "print(list1)"
   ]
  },
  {
   "cell_type": "markdown",
   "id": "e013e6e3",
   "metadata": {},
   "source": [
    "## Bài 4: concatenation 2\n",
    "Tạo ra một list mới từ 2 list ban đầu theo thứ tự như sau:"
   ]
  },
  {
   "cell_type": "code",
   "execution_count": null,
   "id": "3556bdb0",
   "metadata": {},
   "outputs": [],
   "source": [
    "list1 = [\"Hello \", \"take \"]\n",
    "list2 = [\"Dear\", \"Sir\"]"
   ]
  },
  {
   "cell_type": "markdown",
   "id": "c449c5ef",
   "metadata": {},
   "source": [
    "**Output**"
   ]
  },
  {
   "cell_type": "code",
   "execution_count": null,
   "id": "38473ed0",
   "metadata": {},
   "outputs": [],
   "source": [
    "['Hello Dear', 'Hello Sir', 'take Dear', 'take Sir']"
   ]
  },
  {
   "cell_type": "code",
   "execution_count": 10,
   "id": "194ce3e1",
   "metadata": {},
   "outputs": [
    {
     "name": "stdout",
     "output_type": "stream",
     "text": [
      "['Hello Dear', 'Hello Sir', 'take Dear', 'take Sir']\n"
     ]
    }
   ],
   "source": [
    "list1 = [\"Hello \", \"take \"]\n",
    "list2 = [\"Dear\", \"Sir\"]\n",
    "# code below this line\n",
    "list3 = []\n",
    "\n",
    "for item1 in list1:\n",
    "    for item2 in list2:\n",
    "        list3.append(item1+item2)\n",
    "print(list3)\n",
    "# code above this line"
   ]
  },
  {
   "cell_type": "markdown",
   "id": "c9e280ff",
   "metadata": {},
   "source": [
    "## Bài 5: print list\n",
    "Cho 2 list có cùng số phần tử với nhau. Hãy in các thành phần trong 2 list theo format dưới đây:"
   ]
  },
  {
   "cell_type": "code",
   "execution_count": null,
   "id": "1a83314a",
   "metadata": {},
   "outputs": [],
   "source": [
    "list1 = [10, 20, 30, 40]\n",
    "list2 = [100, 200, 300, 400]"
   ]
  },
  {
   "cell_type": "markdown",
   "id": "9a4808a3",
   "metadata": {},
   "source": [
    "**Output**"
   ]
  },
  {
   "cell_type": "code",
   "execution_count": null,
   "id": "9569f340",
   "metadata": {},
   "outputs": [],
   "source": [
    "10 400\n",
    "20 300\n",
    "30 200\n",
    "40 100"
   ]
  },
  {
   "cell_type": "code",
   "execution_count": 12,
   "id": "6c111e2a",
   "metadata": {
    "scrolled": true
   },
   "outputs": [
    {
     "name": "stdout",
     "output_type": "stream",
     "text": [
      "10 400\n",
      "20 300\n",
      "30 200\n",
      "40 100\n"
     ]
    }
   ],
   "source": [
    "#cach1\n",
    "\n",
    "list1 = [10, 20, 30, 40]\n",
    "list2 = [100, 200, 300, 400]\n",
    "# code below this line\n",
    "for i in range(len(list1)):\n",
    "    print(f'{list1[i]} {list2[3 - i]}')\n",
    "# code above this line"
   ]
  },
  {
   "cell_type": "code",
   "execution_count": 13,
   "id": "04b8f3c5",
   "metadata": {},
   "outputs": [
    {
     "name": "stdout",
     "output_type": "stream",
     "text": [
      "10 400\n",
      "20 300\n",
      "30 200\n",
      "40 100\n"
     ]
    }
   ],
   "source": [
    "#cach2\n",
    "\n",
    "list1 = [10, 20, 30, 40]\n",
    "list2 = [100, 200, 300, 400]\n",
    "# code below this line\n",
    "list2.sort(reverse = True)\n",
    "for i in range(len(list1)):\n",
    "    print(f'{list1[i]} {list2[i]}')\n",
    "# code above this line"
   ]
  },
  {
   "cell_type": "markdown",
   "id": "bd9edc4a",
   "metadata": {},
   "source": [
    "## Bài 6: remove empty\n",
    "Hãy xóa tất cả empty string trong list đã cho."
   ]
  },
  {
   "cell_type": "code",
   "execution_count": null,
   "id": "5ec76730",
   "metadata": {},
   "outputs": [],
   "source": [
    "list1 = [\"Mike\", \"\", \"Emma\", \"Kelly\", \"\", \"Brad\"]"
   ]
  },
  {
   "cell_type": "markdown",
   "id": "69056c1c",
   "metadata": {},
   "source": [
    "**Output**"
   ]
  },
  {
   "cell_type": "code",
   "execution_count": null,
   "id": "3aa7e6c9",
   "metadata": {},
   "outputs": [],
   "source": [
    "[\"Mike\", \"Emma\", \"Kelly\", \"Brad\"]"
   ]
  },
  {
   "cell_type": "code",
   "execution_count": 14,
   "id": "ef5698ec",
   "metadata": {},
   "outputs": [
    {
     "name": "stdout",
     "output_type": "stream",
     "text": [
      "['Mike', 'Emma', 'Kelly', 'Brad']\n"
     ]
    }
   ],
   "source": [
    "#CHUA LAM DUOC\n",
    "\n",
    "list1 = [\"Mike\", \"\", \"Emma\", \"Kelly\", \"\", \"Brad\"]\n",
    "\n",
    "# code below this line\n",
    "while '' in list1:\n",
    "    list1.remove(\"\")\n",
    "print(list1)\n",
    "# code above this line"
   ]
  },
  {
   "cell_type": "markdown",
   "id": "75ceada5",
   "metadata": {},
   "source": [
    "## Bài 7: list replacement\n",
    "Hãy tìm và thay thế số 20 **đầu tiên** trong list thành 200."
   ]
  },
  {
   "cell_type": "code",
   "execution_count": null,
   "id": "d164db9c",
   "metadata": {},
   "outputs": [],
   "source": [
    "list1 = [5, 10, 15, 20, 25, 50, 20]"
   ]
  },
  {
   "cell_type": "markdown",
   "id": "4fbe79da",
   "metadata": {},
   "source": [
    "**Output**"
   ]
  },
  {
   "cell_type": "code",
   "execution_count": null,
   "id": "02bab1e7",
   "metadata": {},
   "outputs": [],
   "source": [
    "[5, 10, 15, 200, 25, 50, 20]"
   ]
  },
  {
   "cell_type": "code",
   "execution_count": 18,
   "id": "1f2f2fd3",
   "metadata": {},
   "outputs": [
    {
     "name": "stdout",
     "output_type": "stream",
     "text": [
      "[5, 10, 15, 200, 25, 50, 20]\n"
     ]
    }
   ],
   "source": [
    "#cach1\n",
    "\n",
    "list1 = [5, 10, 15, 20, 25, 50, 20]\n",
    "# code below this line\n",
    "list1[3] = 200\n",
    "print(list1)\n",
    "# code above this line"
   ]
  },
  {
   "cell_type": "code",
   "execution_count": 19,
   "id": "b10e65c1",
   "metadata": {},
   "outputs": [
    {
     "name": "stdout",
     "output_type": "stream",
     "text": [
      "[5, 10, 15, 200, 25, 50, 20]\n"
     ]
    }
   ],
   "source": [
    "#cach2\n",
    "\n",
    "list1 = [5, 10, 15, 20, 25, 50, 20]\n",
    "# code below this line\n",
    "index = list1.index(20)\n",
    "list1[index] = 200\n",
    "print(list1)\n",
    "# code above this line"
   ]
  },
  {
   "cell_type": "markdown",
   "id": "b5beae3a",
   "metadata": {},
   "source": [
    "## Bài 8: list removement\n",
    "Hãy xóa bỏ **tất cả** số 20 ra khỏi list"
   ]
  },
  {
   "cell_type": "code",
   "execution_count": null,
   "id": "23a095ab",
   "metadata": {},
   "outputs": [],
   "source": [
    "list1 = [5, 20, 15, 20, 25, 50, 20]"
   ]
  },
  {
   "cell_type": "markdown",
   "id": "a01142b6",
   "metadata": {},
   "source": [
    "**Output:**"
   ]
  },
  {
   "cell_type": "code",
   "execution_count": null,
   "id": "7bdab892",
   "metadata": {},
   "outputs": [],
   "source": [
    "[5, 15, 25, 50]"
   ]
  },
  {
   "cell_type": "code",
   "execution_count": 12,
   "id": "b20e64c9",
   "metadata": {},
   "outputs": [
    {
     "name": "stdout",
     "output_type": "stream",
     "text": [
      "[5, 15, 25, 50]\n"
     ]
    }
   ],
   "source": [
    "list1 = [5, 20, 15, 20, 25, 50, 20]\n",
    "# code below this line\n",
    "while 20 in list1:\n",
    "    list1.remove(20)\n",
    "\n",
    "print(list1)\n",
    "# code above this line"
   ]
  },
  {
   "cell_type": "markdown",
   "id": "8a215dc8",
   "metadata": {},
   "source": [
    "## Bài 9: unpack tuple"
   ]
  },
  {
   "cell_type": "code",
   "execution_count": null,
   "id": "b0c88ec3",
   "metadata": {},
   "outputs": [],
   "source": [
    "aTuple = (10, 20, 30, 40)"
   ]
  },
  {
   "cell_type": "code",
   "execution_count": 4,
   "id": "6166ecdb",
   "metadata": {},
   "outputs": [
    {
     "name": "stdout",
     "output_type": "stream",
     "text": [
      "10\n",
      "20\n",
      "30\n",
      "40\n"
     ]
    }
   ],
   "source": [
    "#cach1\n",
    "\n",
    "aTuple = (10, 20, 30, 40)\n",
    "# Your code\n",
    "print(aTuple[0]) # should print 10\n",
    "print(aTuple[1]) # should print 20\n",
    "print(aTuple[2]) # should print 30\n",
    "print(aTuple[3]) # should print 40"
   ]
  },
  {
   "cell_type": "code",
   "execution_count": 23,
   "id": "cacde2d1",
   "metadata": {},
   "outputs": [
    {
     "name": "stdout",
     "output_type": "stream",
     "text": [
      "10\n",
      "20\n",
      "30\n",
      "40\n"
     ]
    }
   ],
   "source": [
    "#cach2\n",
    "\n",
    "aTuple = (10, 20, 30, 40)\n",
    "\n",
    "a, b, c, d = aTuple\n",
    "# Your code\n",
    "print(a) # should print 10\n",
    "print(b) # should print 20\n",
    "print(c) # should print 30\n",
    "print(d) # should print 40"
   ]
  },
  {
   "cell_type": "markdown",
   "id": "046a7351",
   "metadata": {},
   "source": [
    "## Bài 10: swap tuple\n",
    "Hãy thay đổi giá trị của 2 tuple cho nhau"
   ]
  },
  {
   "cell_type": "code",
   "execution_count": 8,
   "id": "5818b64c",
   "metadata": {},
   "outputs": [],
   "source": [
    "tuple1 = (11, 22)\n",
    "tuple2 = (99, 88)"
   ]
  },
  {
   "cell_type": "markdown",
   "id": "cac1245f",
   "metadata": {},
   "source": [
    "**Output**"
   ]
  },
  {
   "cell_type": "code",
   "execution_count": null,
   "id": "534d2047",
   "metadata": {},
   "outputs": [],
   "source": [
    "tuple1 = (99, 88)\n",
    "tuple2 = (11, 22)"
   ]
  },
  {
   "cell_type": "code",
   "execution_count": 21,
   "id": "a87aacaf",
   "metadata": {},
   "outputs": [
    {
     "name": "stdout",
     "output_type": "stream",
     "text": [
      "tuple 1 = (99, 88)\n",
      "tuple 2 = (11, 22)\n"
     ]
    }
   ],
   "source": [
    "#cach1\n",
    "\n",
    "tuple1 = (11, 22)\n",
    "tuple2 = (99, 88)\n",
    "\n",
    "# code below this line\n",
    "print(f'tuple 1 = {tuple2}')\n",
    "print(f'tuple 2 = {tuple1}')\n",
    "# code above this line"
   ]
  },
  {
   "cell_type": "code",
   "execution_count": 35,
   "id": "c47e7576",
   "metadata": {},
   "outputs": [
    {
     "name": "stdout",
     "output_type": "stream",
     "text": [
      "(99, 88)\n",
      "(11, 22)\n"
     ]
    }
   ],
   "source": [
    "#cach2\n",
    "\n",
    "tuple1 = (11, 22)\n",
    "tuple2 = (99, 88)\n",
    "\n",
    "# code below this line\n",
    "temp = tuple1\n",
    "tuple1 = tuple2\n",
    "tuple2 = temp\n",
    "\n",
    "print(tuple1)\n",
    "print(tuple2)\n",
    "# code above this line"
   ]
  },
  {
   "cell_type": "markdown",
   "id": "9b809112",
   "metadata": {},
   "source": [
    "## Bài 11: count occurrence\n",
    "Hãy đếm tổng số lần xuất hiện của 50 trong tuple"
   ]
  },
  {
   "cell_type": "code",
   "execution_count": null,
   "id": "a3b700ed",
   "metadata": {},
   "outputs": [],
   "source": [
    "tuple1 = (50, 10, 60, 70, 50)"
   ]
  },
  {
   "cell_type": "markdown",
   "id": "b102abb2",
   "metadata": {},
   "source": [
    "**Output**"
   ]
  },
  {
   "cell_type": "code",
   "execution_count": null,
   "id": "31bf9a80",
   "metadata": {},
   "outputs": [],
   "source": [
    "2"
   ]
  },
  {
   "cell_type": "code",
   "execution_count": 7,
   "id": "8204ebde",
   "metadata": {},
   "outputs": [
    {
     "data": {
      "text/plain": [
       "2"
      ]
     },
     "execution_count": 7,
     "metadata": {},
     "output_type": "execute_result"
    }
   ],
   "source": [
    "tuple1 = (50, 10, 60, 70, 50)\n",
    "# code below this line\n",
    "tuple1.count(50)\n",
    "# code above this line"
   ]
  },
  {
   "cell_type": "markdown",
   "id": "655416c8",
   "metadata": {},
   "source": [
    "## Bài 12: is it the same?\n",
    "Hãy kiểm tra xem các phần tử trong tuple có giống nhau hay không."
   ]
  },
  {
   "cell_type": "code",
   "execution_count": null,
   "id": "2aa28ca8",
   "metadata": {},
   "outputs": [],
   "source": [
    "tuple1 = (45, 45, 45, 45)"
   ]
  },
  {
   "cell_type": "markdown",
   "id": "da0c1e1f",
   "metadata": {},
   "source": [
    "**Output**"
   ]
  },
  {
   "cell_type": "code",
   "execution_count": null,
   "id": "17ceb626",
   "metadata": {},
   "outputs": [],
   "source": [
    "True"
   ]
  },
  {
   "cell_type": "code",
   "execution_count": 27,
   "id": "2fad5ccd",
   "metadata": {
    "scrolled": true
   },
   "outputs": [
    {
     "name": "stdout",
     "output_type": "stream",
     "text": [
      "True\n"
     ]
    }
   ],
   "source": [
    "tuple1 = (45, 45, 45, 45)\n",
    "# code below this line\n",
    "print(tuple1.count(tuple1[0]) == len(tuple1))\n",
    "# code above this line"
   ]
  },
  {
   "cell_type": "markdown",
   "id": "2755bb20",
   "metadata": {},
   "source": [
    "# [Thực hành] Rùa chạy bộ\n",
    "\n",
    "Tạo một số con rùa (giả sử 6 con rùa với các màu khác nhau) xuất phát tại vị trí bên trái của màn hình. Trước khi các con rùa chạy từ bên trái sang bên phải màn hình, cho phép người dùng đoán trước con rùa màu nào sẽ cán đích (cách vị trí xuất phát 1 khoảng cách nào đó) đầu tiên. Khi chạy, chương trình thay đổi vận tốc các chú rùa một cách ngẫu nhiên để kết quả con rùa cán đích sẽ là ngẫu nhiên. Chương trình kết thúc khi click trên màn hình."
   ]
  },
  {
   "cell_type": "code",
   "execution_count": 1,
   "id": "fdad4c24",
   "metadata": {},
   "outputs": [],
   "source": [
    "import turtle as t\n",
    "import random\n",
    "\n",
    "# Tạo và quy định dài rộng của đường đua\n",
    "# và các tham số\n",
    "screen = t.Screen()\n",
    "screen.setup(height=500, width=600)\n",
    "# Hiển thị cửa sổ cho phép người dùng đoán\n",
    "# con rùa màu nào thắng cuộc\n",
    "guess = screen.textinput(prompt=\"Dự đoán con rùa nào chiến thắng?\", title=\"Nhập vào màu rùa (đỏ, nâu, xanh dương, xanh lá cây, cam, hồng)\")\n",
    "# List lưu lại màu của các con rùa\n",
    "colors = [\"red\", \"brown\", \"blue\", \"green\", \"orange\", \"pink\"]\n",
    "# Vị trí ban đầu theo trục y của các con rùa\n",
    "# Theo trục x = -250, cách vị trí 0,0 250 về bên trái\n",
    "y_position = [0, -30, 30, -60, 60, 90]\n",
    "# List lưu lại vận tốc của các con rùa\n",
    "# các giá trị này sẽ được chọn một cách ngẫu nhiên\n",
    "# cho các con rùa khi chạy\n",
    "turtle_speed = [10, 15, 20, 25, 30, 5]\n",
    "\n",
    "# Tạo một list để lưu các con rùa\n",
    "all_turtles = []\n",
    "run = True\n",
    "\n",
    "# Xây dựng hàm để tạo và thiết đặt vị trí ban\n",
    "# đầu, màu cho các con rùa và lưu vào list\n",
    "for turtle in range(0, 6):\n",
    "    turtles = t.Turtle(shape=\"turtle\")\n",
    "    turtles.penup()\n",
    "    # Di chuyển rùa về vị trí ban đầu,\n",
    "    # bên trái cùng của đường đua\n",
    "    turtles.goto(x=-250, y=y_position[turtle])\n",
    "    # Màu của rùa\n",
    "    turtles.color(colors[turtle])\n",
    "    # Lưu vào list\n",
    "    all_turtles.append(turtles)\n",
    "\n",
    "# Xây dựng hàm di chuyển về đích của\n",
    "# mỗi con rùa, khoảng cách di chuyển được\n",
    "# chọn ngẫu nhiên trong các giá trị\n",
    "# được lưu trong list phía trên\n",
    "def random_walk(turtles):\n",
    "    global run\n",
    "    for turtle in turtles:\n",
    "        turtle.forward(random.choice(turtle_speed))\n",
    "        # Kiểm tra điều kiện cán đích\n",
    "        # Khi 1 con cán đích thì dừng lại\n",
    "        if turtle.xcor() > 250:\n",
    "            run = False\n",
    "\n",
    "while run:\n",
    "    random_walk(all_turtles)\n",
    "\n",
    "# Chương trình kết thúc khi click\n",
    "# chuột lên màn hình\n",
    "screen.exitonclick()"
   ]
  },
  {
   "cell_type": "markdown",
   "id": "33f29b72",
   "metadata": {},
   "source": [
    "# [Thực hành] Print the number in words\n",
    "\n",
    "Nhập vào một dãy số. In dãy số ra dưới dạng chữ. Ví dụ: Nhập 4390 thì in ra “bốn ba chín không”"
   ]
  },
  {
   "cell_type": "code",
   "execution_count": 2,
   "id": "37c4b2ee",
   "metadata": {
    "scrolled": true
   },
   "outputs": [
    {
     "name": "stdout",
     "output_type": "stream",
     "text": [
      "Nhập dãy chữ số: 5678\n",
      "năm sáu bảy tám "
     ]
    }
   ],
   "source": [
    "numbers = input(\"Nhập dãy chữ số: \")\n",
    "\n",
    "text = (\"không\", \"một\", \"hai\", \"ba\", \"bốn\", \"năm\", \"sáu\", \"bảy\", \"tám\", \"chín\")\n",
    "\n",
    "for num in numbers:\n",
    "      print(text[int(num)], end=' ')"
   ]
  },
  {
   "cell_type": "markdown",
   "id": "b42a5782",
   "metadata": {},
   "source": [
    "# [Thực hành] Cuộc đua của những chú rùa phần 1\n",
    "\n",
    "Nâng cấp có vạch đua"
   ]
  },
  {
   "cell_type": "code",
   "execution_count": 5,
   "id": "8e45c0da",
   "metadata": {},
   "outputs": [],
   "source": [
    "import turtle as t\n",
    "import random\n",
    "\n",
    "\n",
    "# Tạo khung cảnh và vẽ các cột mốc bên trái đường đua\n",
    "screen = t.Screen()\n",
    "screen.setup(height=500, width=600)\n",
    "pen = t.Turtle(visible=False)\n",
    "pen.penup()\n",
    "pen.speed(0)\n",
    "pen.goto(-250, 200)\n",
    "for i in range(21):\n",
    "    pen.write(i)\n",
    "    pen.forward(25)\n",
    "\n",
    "# Vẽ các đường đứt đoạn trên đường đua và\n",
    "# đánh dấu các cột mốc bên phải đường đua\n",
    "x = -250\n",
    "pen.goto(-250, 200)\n",
    "pen.right(90)\n",
    "for i in range(21):\n",
    "    for j in range(10):\n",
    "        pen.pendown()\n",
    "        pen.forward(20)\n",
    "        pen.penup()\n",
    "        pen.forward(10)\n",
    "    pen.penup()\n",
    "    pen.forward(5)\n",
    "    pen.write(i)\n",
    "    pen.goto(x + (i + 1) * 25, 200)\n",
    "\n",
    "all_turtles = []\n",
    "y_position = [160, 100, 40, -20]\n",
    "colors = ['red', 'green', 'blue', 'black']\n",
    "for turtle in range(0, 4):\n",
    "    turtles = t.Turtle(shape=\"turtle\")\n",
    "    turtles.penup()\n",
    "    # Di chuyển rùa về vị trí ban đầu,\n",
    "    # bên trái cùng của đường đua\n",
    "    turtles.goto(x=-250, y=y_position[turtle])\n",
    "    # Màu của rùa\n",
    "    turtles.color(colors[turtle])\n",
    "    for i in range(5):\n",
    "        turtles.left(72)\n",
    "    # Lưu vào list\n",
    "    all_turtles.append(turtles)\n",
    "\n",
    "def random_walk(turtles):\n",
    "    global run\n",
    "    for turtle in turtles:\n",
    "        turtle.forward(random.randint(1, 10))\n",
    "        # Kiểm tra điều kiện cán đích\n",
    "        # Khi 1 con cán đích thì dừng lại\n",
    "        if turtle.xcor() > 250:\n",
    "            run = False\n",
    "\n",
    "run = True\n",
    "while run:\n",
    "    random_walk(all_turtles)\n",
    "screen.exitonclick()"
   ]
  },
  {
   "cell_type": "markdown",
   "id": "8aaa976d",
   "metadata": {},
   "source": [
    "# [Thực hành] Exercise 2: From given list\n",
    "\n",
    "Cho một list như sau:\n",
    "\n",
    "gadgets = [“Mobile”, “Laptop”, 100, “Camera”, 310.28, “Speakers”, 27.00, “Television”, 1000, “Laptop Case”, “Camera Lens”]\n",
    "\n",
    "Thực hiện các thao tác sau:\n",
    "\n",
    " – Tạo hai list, một list chỉ chứa chuỗi và một list chỉ chứa số từ list cho ở trên.\n",
    "\n",
    " – Sắp xếp list chứa chuỗi theo thứ tự tăng dần \n",
    "\n",
    " – Sắp xếp list chứa chuỗi theo thứ tự giảm dần\n",
    "\n",
    " – Sắp xếp list chứa số theo thứ tự tăng dần\n",
    "\n",
    " – Sắp xếp list chứa số theo thứ tự giảm dần"
   ]
  },
  {
   "cell_type": "code",
   "execution_count": 6,
   "id": "230e1133",
   "metadata": {},
   "outputs": [
    {
     "name": "stdout",
     "output_type": "stream",
     "text": [
      "List chứa chuỗi =  ['Mobile', 'Laptop', 'Camera', 'Speakers', 'Television', 'Laptop Case', 'Camera Lens']\n",
      "List chứa số =  [100, 310.28, 27.0, 1000]\n",
      "List chứa chuỗi theo thứ tự tăng dần=  ['Camera', 'Camera Lens', 'Laptop', 'Laptop Case', 'Mobile', 'Speakers', 'Television']\n",
      "List chứa chuỗi theo thứ tự giảm dần=  ['Television', 'Speakers', 'Mobile', 'Laptop Case', 'Laptop', 'Camera Lens', 'Camera']\n",
      "List chứa số theo thứ tự tăng dần=  [27.0, 100, 310.28, 1000]\n",
      "List chứa số theo thứ tự giảm dần=  [1000, 310.28, 100, 27.0]\n"
     ]
    }
   ],
   "source": [
    "gadgets = [\"Mobile\", \"Laptop\", 100, \"Camera\", 310.28, \"Speakers\", 27.00,\n",
    "           \"Television\", 1000, \"Laptop Case\", \"Camera Lens\"]\n",
    "\n",
    "# Tạo hai list chứa số và chuỗi từ list đã cho\n",
    "text = []\n",
    "numbers = []\n",
    "for i in gadgets:\n",
    "    if isinstance(i, str):\n",
    "        text.append(i)\n",
    "    else:\n",
    "        numbers.append(i)\n",
    "print(\"List chứa chuỗi = \", text)\n",
    "print(\"List chứa số = \", numbers)\n",
    "\n",
    "# Sắp xếp list chứa chuỗi\n",
    "text.sort()\n",
    "print(\"List chứa chuỗi theo thứ tự tăng dần= \", text)\n",
    "text.sort(reverse=True)\n",
    "print(\"List chứa chuỗi theo thứ tự giảm dần= \", text)\n",
    "\n",
    "# Sắp xếp list chứa số\n",
    "numbers.sort()\n",
    "print(\"List chứa số theo thứ tự tăng dần= \", numbers)\n",
    "numbers.sort(reverse=True)\n",
    "print(\"List chứa số theo thứ tự giảm dần= \", numbers)"
   ]
  }
 ],
 "metadata": {
  "kernelspec": {
   "display_name": "Python 3 (ipykernel)",
   "language": "python",
   "name": "python3"
  },
  "language_info": {
   "codemirror_mode": {
    "name": "ipython",
    "version": 3
   },
   "file_extension": ".py",
   "mimetype": "text/x-python",
   "name": "python",
   "nbconvert_exporter": "python",
   "pygments_lexer": "ipython3",
   "version": "3.10.7"
  }
 },
 "nbformat": 4,
 "nbformat_minor": 5
}
