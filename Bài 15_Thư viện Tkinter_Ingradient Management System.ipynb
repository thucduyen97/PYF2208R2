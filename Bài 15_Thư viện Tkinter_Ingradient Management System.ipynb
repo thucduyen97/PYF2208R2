{
 "cells": [
  {
   "cell_type": "code",
   "execution_count": 15,
   "id": "66507364",
   "metadata": {},
   "outputs": [],
   "source": [
    "class Ingredient:\n",
    "    def __init__(self, name, quantity):\n",
    "        self.name = name\n",
    "        self.quatity = quantity"
   ]
  },
  {
   "cell_type": "code",
   "execution_count": 16,
   "id": "16d2ef28",
   "metadata": {},
   "outputs": [
    {
     "name": "stdout",
     "output_type": "stream",
     "text": [
      "['ga']\n"
     ]
    }
   ],
   "source": [
    "from tkinter import *\n",
    "from tkinter import messagebox\n",
    "\n",
    "bill = Tk ()\n",
    "bill.title ('Ingradient management system')\n",
    "\n",
    "#create list to save list of ingradient in the restaurant\n",
    "list_ingredient = []\n",
    "\n",
    "\n",
    "#create label\n",
    "name_lbl = Label(bill, text = 'Name:')\n",
    "quantity_lbl = Label(bill, text = 'Quantity:')\n",
    "\n",
    "#create entry\n",
    "name = Entry(bill)\n",
    "quantity = Entry(bill)\n",
    "check = Entry(bill)\n",
    "\n",
    "#Khai bao ham\n",
    "def add():\n",
    "    list_ingredient.append(Ingredient(name.get(), int(quantity.get()))) #them vao list 1 item vua nhap\n",
    "    print([item.name for item in list_ingredient]) #check xem item da duoc add vao list chua\n",
    "    messagebox.showinfo('Ingredient',f'{name.get()} added succesfully with the quantity is {quantity.get()}')\n",
    "        \n",
    "def delete():\n",
    "    delete_name = check.get()\n",
    "    exist = False\n",
    "    for i in range(len(list_ingredient)):\n",
    "        if list_ingredient[i].name == delete_name:\n",
    "            exist = True\n",
    "            del list_ingredient[i]\n",
    "            messagebox.showinfo('Ingredient',f'{delete_name} has been deleted')\n",
    "            break\n",
    "    if exist == False:\n",
    "        messagebox.showinfo('Ingredient',f'{delete_name} does not exist in list')\n",
    "    print([item.name for item in list_ingredient]\n",
    "    \n",
    "def reset():\n",
    "    messagebox.showinfo('Ingredient','Reset info')\n",
    "    \n",
    "def search():\n",
    "    search_name = check.get()\n",
    "    exist = False #gia dinh item khong ton tai trong list\n",
    "    for item in list_ingredient:\n",
    "        if item.name == search_name: #da co ket qua tim kiem\n",
    "            exist = True #item dang tim kiem co ton tai trong list\n",
    "            messagebox.showinfo('Ingredient',f'Quantity of {name.get()} is {quantity.get()}')\n",
    "            break\n",
    "    if exist == False:\n",
    "        messagebox.showinfo('Ingredient',f'{search_name} does not exist in list')\n",
    "\n",
    "#create button\n",
    "add_btn = Button(bill, text = 'Add', command = add)\n",
    "delete_btn = Button(bill, text = 'Delete', command = delete)\n",
    "reset_btn = Button(bill, text = 'Reset', command = reset)\n",
    "search_btn = Button(bill, text = 'Search', command = search)\n",
    "\n",
    "#grid\n",
    "name_lbl.grid(row = 1, column = 0)\n",
    "quantity_lbl.grid(row = 2, column = 0)\n",
    "name.grid(row = 1, column = 1, columnspan = 2)\n",
    "quantity.grid(row = 2, column = 1, columnspan = 2)\n",
    "add_btn.grid(row = 3, column = 0)\n",
    "delete_btn.grid(row = 3, column = 1)\n",
    "reset_btn.grid(row = 3, column = 2)\n",
    "search_btn.grid(row = 4, column = 1)\n",
    "check.grid(row = 4, column = 0)\n",
    "    \n",
    "bill.mainloop ()"
   ]
  }
 ],
 "metadata": {
  "kernelspec": {
   "display_name": "Python 3 (ipykernel)",
   "language": "python",
   "name": "python3"
  },
  "language_info": {
   "codemirror_mode": {
    "name": "ipython",
    "version": 3
   },
   "file_extension": ".py",
   "mimetype": "text/x-python",
   "name": "python",
   "nbconvert_exporter": "python",
   "pygments_lexer": "ipython3",
   "version": "3.10.7"
  }
 },
 "nbformat": 4,
 "nbformat_minor": 5
}
