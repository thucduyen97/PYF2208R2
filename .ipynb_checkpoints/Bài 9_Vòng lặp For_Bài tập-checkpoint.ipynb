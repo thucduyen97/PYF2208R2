{
 "cells": [
  {
   "cell_type": "markdown",
   "id": "b390fe44",
   "metadata": {},
   "source": [
    "# [Bài tập] Fizz Buzz (Python)\n",
    "\n",
    "Viết chương trình lấy đầu vào là hai số nguyên: đầu và cuối khoảng (cả hai số đều thuộc khoảng).\n",
    "Chương trình sẽ in ra các số trong khoảng này. Nhưng nếu số đó chia hết cho 3, bạn sẽ in ra “Fizz” thay vì nó, nếu số đó chia hết cho 5, in ra “Buzz” và nếu số đó chia hết cho cả 3 và 5, hãy in ra “FizzBuzz”."
   ]
  },
  {
   "cell_type": "code",
   "execution_count": 8,
   "id": "9e3a77fe",
   "metadata": {},
   "outputs": [
    {
     "name": "stdout",
     "output_type": "stream",
     "text": [
      "Input a: 3\n",
      "Input b: 21\n",
      "Fizz\n",
      "4\n",
      "Buzz\n",
      "Fizz\n",
      "7\n",
      "8\n",
      "Fizz\n",
      "Buzz\n",
      "11\n",
      "Fizz\n",
      "13\n",
      "14\n",
      "Fizz\n",
      "16\n",
      "17\n",
      "Fizz\n",
      "19\n",
      "Buzz\n",
      "Fizz\n"
     ]
    }
   ],
   "source": [
    "a = int(input('Input a: '))\n",
    "b = int(input('Input b: '))\n",
    "\n",
    "if a>b:\n",
    "    print('Please input a<b to start')\n",
    "else:\n",
    "    for i in range(a,b+1):\n",
    "        if i%3 == 0:\n",
    "            print('Fizz')\n",
    "        elif i%5 == 0:\n",
    "            print('Buzz')\n",
    "        elif i% 15 == 0:\n",
    "            print('FizzBuzz')\n",
    "        else:\n",
    "            print(i)"
   ]
  }
 ],
 "metadata": {
  "kernelspec": {
   "display_name": "Python 3 (ipykernel)",
   "language": "python",
   "name": "python3"
  },
  "language_info": {
   "codemirror_mode": {
    "name": "ipython",
    "version": 3
   },
   "file_extension": ".py",
   "mimetype": "text/x-python",
   "name": "python",
   "nbconvert_exporter": "python",
   "pygments_lexer": "ipython3",
   "version": "3.10.7"
  }
 },
 "nbformat": 4,
 "nbformat_minor": 5
}
