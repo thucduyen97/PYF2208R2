{
 "cells": [
  {
   "cell_type": "code",
   "execution_count": 3,
   "id": "3b5dc7ae",
   "metadata": {},
   "outputs": [],
   "source": [
    "class Ingredient:\n",
    "    def __init__(self, name, quantity):\n",
    "        self.name = name\n",
    "        self.quantity = quantity"
   ]
  },
  {
   "cell_type": "code",
   "execution_count": null,
   "id": "1dd61262",
   "metadata": {},
   "outputs": [
    {
     "name": "stdout",
     "output_type": "stream",
     "text": [
      "['chicken']\n"
     ]
    }
   ],
   "source": [
    "from tkinter import *\n",
    "from tkinter import messagebox\n",
    "\n",
    "bill = Tk ()\n",
    "bill.title ('Ingradient management system')\n",
    "list_ingredient = []  # lưu trữ danh sách các nguyên liệu trong nhà hàng\n",
    "\n",
    "#create label\n",
    "name_lbl = Label(bill, text = 'Name:')\n",
    "quantity_lbl = Label(bill, text = 'Quantity:')\n",
    "\n",
    "\n",
    "#create entry\n",
    "name = Entry(bill)\n",
    "quantity = Entry(bill)\n",
    "check = Entry(bill)\n",
    "\n",
    "def add_ingredient():\n",
    "    list_ingredient.append(Ingredient(name.get(), int(quantity.get())))\n",
    "    print([item.name for item in list_ingredient])\n",
    "    messagebox.showinfo(\"Ingredient\", name.get() + \" added sucessfully\")\n",
    "    \n",
    "def search_ingredient():\n",
    "    search_name = check.get()\n",
    "    exist = False  # giả định là item không tồn tại trong list\n",
    "    for item in list_ingredient:\n",
    "        if item.name == search_name:  # đã có kết quả tìm kiếm\n",
    "            exist = True  # item đang tìm kiếm có tồn tại trong list\n",
    "            messagebox.showinfo(\"Ingredient\", f\"Quantity of {item.name} is {item.quantity}\")\n",
    "            break\n",
    "    if exist == False:\n",
    "        messagebox.showinfo(\"Ingredient\", f\"{search_name} does not exist in list ingredient\")\n",
    "\n",
    "def delete_ingredient():\n",
    "    delete_name = check.get()\n",
    "    exist = False\n",
    "    for i in range(len(list_ingredient)):\n",
    "        if list_ingredient[i].name == delete_name:\n",
    "            exist = True\n",
    "            del list_ingredient[i]\n",
    "            messagebox.showinfo(\"Ingredient\", f\"{delete_name} is deleted successfully\")\n",
    "            break\n",
    "    if exist == False:\n",
    "        messagebox.showinfo(\"Ingredient\", f\"{delete_name} does not exist in list ingredient\")\n",
    "    \n",
    "\n",
    "#create button\n",
    "add_btn = Button(bill, text = 'Add', command=add_ingredient)\n",
    "delete_btn = Button(bill, text = 'Delete', command=delete_ingredient)\n",
    "reset_btn = Button(bill, text = 'Reset')\n",
    "search_btn = Button(bill, text = 'Search', command=search_ingredient)\n",
    "\n",
    "#grid\n",
    "name_lbl.grid(row = 1, column = 0)\n",
    "quantity_lbl.grid(row = 2, column = 0)\n",
    "name.grid(row = 1, column = 1, columnspan = 2)\n",
    "quantity.grid(row = 2, column = 1, columnspan = 2)\n",
    "add_btn.grid(row = 3, column = 0)\n",
    "delete_btn.grid(row = 3, column = 1)\n",
    "reset_btn.grid(row = 3, column = 2)\n",
    "search_btn.grid(row = 4, column = 1)\n",
    "check.grid(row = 4, column = 0)\n",
    "    \n",
    "bill.mainloop ()\n"
   ]
  }
 ],
 "metadata": {
  "kernelspec": {
   "display_name": "Python 3 (ipykernel)",
   "language": "python",
   "name": "python3"
  },
  "language_info": {
   "codemirror_mode": {
    "name": "ipython",
    "version": 3
   },
   "file_extension": ".py",
   "mimetype": "text/x-python",
   "name": "python",
   "nbconvert_exporter": "python",
   "pygments_lexer": "ipython3",
   "version": "3.10.7"
  }
 },
 "nbformat": 4,
 "nbformat_minor": 5
}
