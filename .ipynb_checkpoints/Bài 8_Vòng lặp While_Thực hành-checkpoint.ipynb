{
 "cells": [
  {
   "cell_type": "markdown",
   "id": "7e9d0ca6",
   "metadata": {},
   "source": [
    "'''\n",
    "## Khởi động: Viết chương trình in ra tất cả các số chia hết cho cả 5 và 7 trong khoảng từ 1500 đến 2700\n",
    "'''"
   ]
  },
  {
   "cell_type": "code",
   "execution_count": 15,
   "id": "18dbe371",
   "metadata": {},
   "outputs": [
    {
     "name": "stdout",
     "output_type": "stream",
     "text": [
      "1505\n",
      "1540\n",
      "1575\n",
      "1610\n",
      "1645\n",
      "1680\n",
      "1715\n",
      "1750\n",
      "1785\n",
      "1820\n",
      "1855\n",
      "1890\n",
      "1925\n",
      "1960\n",
      "1995\n",
      "2030\n",
      "2065\n",
      "2100\n",
      "2135\n",
      "2170\n",
      "2205\n",
      "2240\n",
      "2275\n",
      "2310\n",
      "2345\n",
      "2380\n",
      "2415\n",
      "2450\n",
      "2485\n",
      "2520\n",
      "2555\n",
      "2590\n",
      "2625\n",
      "2660\n",
      "2695\n"
     ]
    }
   ],
   "source": [
    "count=1500\n",
    "\n",
    "while count<=2700:\n",
    "    if count%5==0 and count%7==0:\n",
    "        print(count)\n",
    "    count+=1"
   ]
  },
  {
   "cell_type": "markdown",
   "id": "b36f2251",
   "metadata": {},
   "source": [
    "'''\n",
    "Bài 1: Viết chương trình nhập vào chiều cao tam giác vuông và in ra tam giác có hình dạng như sau:\n",
    "*****\n",
    "****\n",
    "***\n",
    "** \n",
    "*\n",
    "'''"
   ]
  },
  {
   "cell_type": "code",
   "execution_count": 17,
   "id": "48a3d701",
   "metadata": {},
   "outputs": [
    {
     "name": "stdout",
     "output_type": "stream",
     "text": [
      "Nhap vao chieu cao tam giac vuong: 5\n",
      "*****\n",
      "****\n",
      "***\n",
      "**\n",
      "*\n"
     ]
    }
   ],
   "source": [
    "h=int(input('Nhap vao chieu cao tam giac vuong: '))\n",
    "while h>0:\n",
    "    print(h*'*')\n",
    "    h-=1"
   ]
  },
  {
   "cell_type": "markdown",
   "id": "bcd6a539",
   "metadata": {},
   "source": [
    "'''\n",
    "Bài 2: Viết chương trình nhập vào chiều cao tam giác vuông và in ra tam giác có hình dạng như sau:\n",
    "* * * * * *\n",
    "* * * * *\n",
    "* * * *\n",
    "* * *\n",
    "* *\n",
    "*\n",
    "'''"
   ]
  },
  {
   "cell_type": "code",
   "execution_count": 31,
   "id": "a5880b7e",
   "metadata": {},
   "outputs": [
    {
     "name": "stdout",
     "output_type": "stream",
     "text": [
      "Nhap vao chieu cao tam giac vuong: 5\n",
      "* * * * *\n",
      "* * * *\n",
      "* * *\n",
      "* *\n",
      "*\n"
     ]
    }
   ],
   "source": [
    "#cach 1\n",
    "h=int(input('Nhap vao chieu cao tam giac vuong: '))\n",
    "n=1\n",
    "\n",
    "while h>=1:\n",
    "    print('* '*(h-1)+'*')\n",
    "    h-=1"
   ]
  },
  {
   "cell_type": "code",
   "execution_count": 36,
   "id": "b5a9ac53",
   "metadata": {},
   "outputs": [
    {
     "name": "stdout",
     "output_type": "stream",
     "text": [
      "Nhap vao chieu cao tam giac vuong: 5\n",
      "* * * * *\n",
      "* * * *\n",
      "* * *\n",
      "* *\n",
      "*\n"
     ]
    }
   ],
   "source": [
    "#cach 2\n",
    "h=int(input('Nhap vao chieu cao tam giac vuong: '))\n",
    "\n",
    "while h>0:\n",
    "    print((' *'*h).lstrip())\n",
    "    h-=1"
   ]
  },
  {
   "cell_type": "markdown",
   "id": "e88816bc",
   "metadata": {},
   "source": [
    "'''\n",
    "Bài 3: Viết chương trình nhập vào chiều cao tam giác vuông và in ra tam giác có hình dạng như sau:\n",
    "* - * - *\n",
    "* - * -\n",
    "* - *\n",
    "* -\n",
    "*\n",
    "'''"
   ]
  },
  {
   "cell_type": "code",
   "execution_count": 55,
   "id": "4174ae6f",
   "metadata": {},
   "outputs": [
    {
     "name": "stdout",
     "output_type": "stream",
     "text": [
      "Nhap vao chieu cao tam giac vuong: 5\n",
      "* - * - *\n",
      "* - * -\n",
      "* - *\n",
      "* -\n",
      "*\n"
     ]
    }
   ],
   "source": [
    "h=int(input('Nhap vao chieu cao tam giac vuong: '))\n",
    "\n",
    "while h>0:\n",
    "    if h%2: #neu h la so le\n",
    "        print(((h // 2) * '* - '+'*'))\n",
    "    else:\n",
    "        print(((h // 2) * '* - ').rstrip())\n",
    "    h-=1"
   ]
  },
  {
   "cell_type": "markdown",
   "id": "5cfeb736",
   "metadata": {},
   "source": [
    "'''\n",
    "Bài 4: Viết chương trình nhập vào một số nguyên n và in ra các số từ 1 đến n với các trường hợp ngoại lệ như sau:\n",
    "- Nếu số đó chia hết cho 3 thì in \"py\"\n",
    "- Nếu số đó chia hết cho 7 thì in \"thon\"\n",
    "- Nếu số đó chia hết cho cả 3 và 7 thì in \"python\"\n",
    "\n",
    "Ví dụ: n = 25\n",
    "1\n",
    "2\n",
    "py\n",
    "4\n",
    "5\n",
    "py\n",
    "thon\n",
    "8\n",
    "py\n",
    "10\n",
    "11\n",
    "py\n",
    "13\n",
    "thon\n",
    "py\n",
    "16\n",
    "17\n",
    "py\n",
    "19\n",
    "20\n",
    "python\n",
    "22\n",
    "23\n",
    "py\n",
    "25\n",
    "'''"
   ]
  },
  {
   "cell_type": "code",
   "execution_count": 58,
   "id": "ebb3d8b9",
   "metadata": {},
   "outputs": [
    {
     "name": "stdout",
     "output_type": "stream",
     "text": [
      "Input n: 21\n",
      "1\n",
      "2\n",
      "py\n",
      "4\n",
      "5\n",
      "py\n",
      "thon\n",
      "8\n",
      "py\n",
      "10\n",
      "11\n",
      "py\n",
      "13\n",
      "thon\n",
      "py\n",
      "16\n",
      "17\n",
      "py\n",
      "19\n",
      "20\n",
      "python\n"
     ]
    }
   ],
   "source": [
    "n=int(input('Input n: '))\n",
    "count=1\n",
    "\n",
    "while count<=n:\n",
    "    if count%21==0:\n",
    "        print('python')\n",
    "    elif count%7==0:\n",
    "        print('thon')\n",
    "    elif count%3==0:\n",
    "        print('py')\n",
    "    else:\n",
    "        print(count)\n",
    "    count+=1"
   ]
  },
  {
   "cell_type": "markdown",
   "id": "afa1c50c",
   "metadata": {},
   "source": [
    "'''\n",
    "Bài 5: Viết chương trình nhập vào một số và kiểm tra xem số đó có phải là số nguyên tố hay không\n",
    "Note: Số nguyên tố là số chỉ chia hết cho 1 và chính nó\n",
    "'''"
   ]
  },
  {
   "cell_type": "code",
   "execution_count": 66,
   "id": "6d90761f",
   "metadata": {},
   "outputs": [
    {
     "name": "stdout",
     "output_type": "stream",
     "text": [
      "Input n: 4\n",
      "4 is not a prime number\n"
     ]
    }
   ],
   "source": [
    "#cach1\n",
    "n=int(input('Input n: '))\n",
    "count=2\n",
    "check=False\n",
    "\n",
    "while count<n:\n",
    "    if n%count==0:\n",
    "        check=True\n",
    "        break\n",
    "    count+=1\n",
    "if check==False:\n",
    "    print(f'{n} is a prime number')\n",
    "else:\n",
    "    print(f'{n} is not a prime number')"
   ]
  },
  {
   "cell_type": "code",
   "execution_count": 67,
   "id": "f90547e5",
   "metadata": {},
   "outputs": [
    {
     "name": "stdout",
     "output_type": "stream",
     "text": [
      "Input n: 56\n",
      "56 is NOT a prime number\n"
     ]
    }
   ],
   "source": [
    "#thay Long\n",
    "\n",
    "n=int(input('Input n: '))\n",
    "count=2\n",
    "check=True\n",
    "\n",
    "while count<n:\n",
    "    if n%count==0:\n",
    "        print(f'{n} is NOT a prime number')\n",
    "        check=False\n",
    "        break\n",
    "    count+=1\n",
    "if check:\n",
    "    print(f'{n} is a prime number')"
   ]
  },
  {
   "cell_type": "markdown",
   "id": "1719a546",
   "metadata": {},
   "source": [
    "'''\n",
    "Bài 6: Viết chương trình mô phỏng trò chơi kéo búa bao theo luật chơi như sau:\n",
    "Quy ước: 1 - búa, 2 - kéo, 3 - bao\n",
    "Khi trò chơi bắt đầu, yêu cầu người chơi nhập 1 số từ bàn phím đại diện cho kéo, búa, bao\n",
    "Chương trình tự random ra một lựa chọn từ 1 đến 3.\n",
    "Nếu người chơi thua thì tiếp tục chơi cho đến khi thắng thì kết thúc chương trình.\n",
    "Ví dụ:\n",
    "\n",
    "Mời lựa chọn(1 - búa, 2 - kéo, 3 - bao): 1\n",
    "Máy tính chọn: 3\n",
    "Người chơi thua.\n",
    "\n",
    "Mời lựa chọn(1 - búa, 2 - kéo, 3 - bao): 2\n",
    "Máy tính chọn: 1\n",
    "Người chơi thua.\n",
    "\n",
    "Mời lựa chọn(1 - búa, 2 - kéo, 3 - bao): 1\n",
    "Máy tính chọn: 2\n",
    "Người chơi thắng.\n",
    "'''"
   ]
  },
  {
   "cell_type": "code",
   "execution_count": null,
   "id": "ae8b5899",
   "metadata": {
    "scrolled": true
   },
   "outputs": [
    {
     "name": "stdout",
     "output_type": "stream",
     "text": [
      "Input your choice: 3\n",
      "User choice: 3\n",
      "Computer choice: 1\n",
      "Computer win\n"
     ]
    }
   ],
   "source": [
    "from random import randint #import ham tu chon so\n",
    "result=False\n",
    "\n",
    "while result==False:\n",
    "    user=int('Input your choice: ')\n",
    "    computer=randint(1,3)\n",
    "    print(f'User choice: {user}')\n",
    "    print(f'Computer choice: {computer}')\n",
    "    if user==1 and computer==2 or user==2 and computer==3 or user==3 and computer==1:\n",
    "        result=True\n",
    "        print('User win')\n",
    "    else:\n",
    "        print('Computer win')"
   ]
  },
  {
   "cell_type": "code",
   "execution_count": 8,
   "id": "45354734",
   "metadata": {
    "scrolled": true
   },
   "outputs": [
    {
     "name": "stdout",
     "output_type": "stream",
     "text": [
      "Input your choice: 3\n",
      "User choice: 3\n",
      "Computer choice: 1\n",
      "User win\n"
     ]
    }
   ],
   "source": [
    "from random import randint \n",
    "result=False\n",
    "\n",
    "while not result:\n",
    "    user=int(input('Input your choice: '))\n",
    "    computer=randint(1,3)\n",
    "    print(f'User choice: {user}')\n",
    "    print(f'Computer choice: {computer}')\n",
    "    if user != 3 and user + 1==computer:\n",
    "        print('User win')\n",
    "        result=True\n",
    "    elif user==3 and computer==1:\n",
    "        print('User win')\n",
    "        result=True\n",
    "    else:\n",
    "        print('Computer win')"
   ]
  },
  {
   "cell_type": "markdown",
   "id": "476c18d5",
   "metadata": {},
   "source": [
    "## Viet chuong trinh ve hinh vuong"
   ]
  },
  {
   "cell_type": "code",
   "execution_count": 2,
   "id": "3b17ba6a",
   "metadata": {},
   "outputs": [
    {
     "name": "stdout",
     "output_type": "stream",
     "text": [
      "Nhap canh hinh vuong: 4\n"
     ]
    }
   ],
   "source": [
    "import turtle\n",
    "\n",
    "a=int(input('Nhap canh hinh vuong: '))\n",
    "\n",
    "t = turtle.Turtle()\n",
    "t.hideturtle()\n",
    "t.pencolor(\"red\")\n",
    "edge = 0\n",
    "while edge < 4: # Vẽ 1 cạnh của hình vuông\n",
    "    t.forward(a)\n",
    "    t.right(90)\n",
    "    # Câu lệnh này đặt trong vòng lặp while\n",
    "    # số lần lặp là 4, nên được hình vuông yêu cầu\n",
    "    edge += 1\n",
    "turtle.done()"
   ]
  },
  {
   "cell_type": "markdown",
   "id": "34569c68",
   "metadata": {},
   "source": [
    "## Viết chương trình để rùa chạy từ bên trái màn hình sang bên phải, lúc rùa chạy các nét vẽ không liền nhau, giá trị độ dài các nét vẽ tùy ý."
   ]
  },
  {
   "cell_type": "code",
   "execution_count": 5,
   "id": "c86bb455",
   "metadata": {},
   "outputs": [
    {
     "ename": "Terminator",
     "evalue": "",
     "output_type": "error",
     "traceback": [
      "\u001b[0;31m---------------------------------------------------------------------------\u001b[0m",
      "\u001b[0;31mTerminator\u001b[0m                                Traceback (most recent call last)",
      "Input \u001b[0;32mIn [5]\u001b[0m, in \u001b[0;36m<cell line: 4>\u001b[0;34m()\u001b[0m\n\u001b[1;32m      1\u001b[0m \u001b[38;5;28;01mimport\u001b[39;00m \u001b[38;5;21;01mturtle\u001b[39;00m\n\u001b[1;32m      2\u001b[0m \u001b[38;5;28;01mimport\u001b[39;00m \u001b[38;5;21;01mrandom\u001b[39;00m \u001b[38;5;28;01mas\u001b[39;00m \u001b[38;5;21;01mr\u001b[39;00m\n\u001b[0;32m----> 4\u001b[0m t \u001b[38;5;241m=\u001b[39m \u001b[43mturtle\u001b[49m\u001b[38;5;241;43m.\u001b[39;49m\u001b[43mTurtle\u001b[49m\u001b[43m(\u001b[49m\u001b[43m)\u001b[49m\n\u001b[1;32m      5\u001b[0m t\u001b[38;5;241m.\u001b[39mshape(\u001b[38;5;124m\"\u001b[39m\u001b[38;5;124mturtle\u001b[39m\u001b[38;5;124m\"\u001b[39m)\n\u001b[1;32m      6\u001b[0m \u001b[38;5;66;03m# Ẩn hình ảnh rùa\u001b[39;00m\n",
      "File \u001b[0;32m/Library/Frameworks/Python.framework/Versions/3.10/lib/python3.10/turtle.py:3815\u001b[0m, in \u001b[0;36mTurtle.__init__\u001b[0;34m(self, shape, undobuffersize, visible)\u001b[0m\n\u001b[1;32m   3813\u001b[0m \u001b[38;5;28;01mif\u001b[39;00m Turtle\u001b[38;5;241m.\u001b[39m_screen \u001b[38;5;129;01mis\u001b[39;00m \u001b[38;5;28;01mNone\u001b[39;00m:\n\u001b[1;32m   3814\u001b[0m     Turtle\u001b[38;5;241m.\u001b[39m_screen \u001b[38;5;241m=\u001b[39m Screen()\n\u001b[0;32m-> 3815\u001b[0m \u001b[43mRawTurtle\u001b[49m\u001b[38;5;241;43m.\u001b[39;49m\u001b[38;5;21;43m__init__\u001b[39;49m\u001b[43m(\u001b[49m\u001b[38;5;28;43mself\u001b[39;49m\u001b[43m,\u001b[49m\u001b[43m \u001b[49m\u001b[43mTurtle\u001b[49m\u001b[38;5;241;43m.\u001b[39;49m\u001b[43m_screen\u001b[49m\u001b[43m,\u001b[49m\n\u001b[1;32m   3816\u001b[0m \u001b[43m                   \u001b[49m\u001b[43mshape\u001b[49m\u001b[38;5;241;43m=\u001b[39;49m\u001b[43mshape\u001b[49m\u001b[43m,\u001b[49m\n\u001b[1;32m   3817\u001b[0m \u001b[43m                   \u001b[49m\u001b[43mundobuffersize\u001b[49m\u001b[38;5;241;43m=\u001b[39;49m\u001b[43mundobuffersize\u001b[49m\u001b[43m,\u001b[49m\n\u001b[1;32m   3818\u001b[0m \u001b[43m                   \u001b[49m\u001b[43mvisible\u001b[49m\u001b[38;5;241;43m=\u001b[39;49m\u001b[43mvisible\u001b[49m\u001b[43m)\u001b[49m\n",
      "File \u001b[0;32m/Library/Frameworks/Python.framework/Versions/3.10/lib/python3.10/turtle.py:2558\u001b[0m, in \u001b[0;36mRawTurtle.__init__\u001b[0;34m(self, canvas, shape, undobuffersize, visible)\u001b[0m\n\u001b[1;32m   2556\u001b[0m \u001b[38;5;28mself\u001b[39m\u001b[38;5;241m.\u001b[39m_undobuffersize \u001b[38;5;241m=\u001b[39m undobuffersize\n\u001b[1;32m   2557\u001b[0m \u001b[38;5;28mself\u001b[39m\u001b[38;5;241m.\u001b[39mundobuffer \u001b[38;5;241m=\u001b[39m Tbuffer(undobuffersize)\n\u001b[0;32m-> 2558\u001b[0m \u001b[38;5;28;43mself\u001b[39;49m\u001b[38;5;241;43m.\u001b[39;49m\u001b[43m_update\u001b[49m\u001b[43m(\u001b[49m\u001b[43m)\u001b[49m\n",
      "File \u001b[0;32m/Library/Frameworks/Python.framework/Versions/3.10/lib/python3.10/turtle.py:2661\u001b[0m, in \u001b[0;36mRawTurtle._update\u001b[0;34m(self)\u001b[0m\n\u001b[1;32m   2659\u001b[0m     \u001b[38;5;28;01mreturn\u001b[39;00m\n\u001b[1;32m   2660\u001b[0m \u001b[38;5;28;01melif\u001b[39;00m screen\u001b[38;5;241m.\u001b[39m_tracing \u001b[38;5;241m==\u001b[39m \u001b[38;5;241m1\u001b[39m:\n\u001b[0;32m-> 2661\u001b[0m     \u001b[38;5;28;43mself\u001b[39;49m\u001b[38;5;241;43m.\u001b[39;49m\u001b[43m_update_data\u001b[49m\u001b[43m(\u001b[49m\u001b[43m)\u001b[49m\n\u001b[1;32m   2662\u001b[0m     \u001b[38;5;28mself\u001b[39m\u001b[38;5;241m.\u001b[39m_drawturtle()\n\u001b[1;32m   2663\u001b[0m     screen\u001b[38;5;241m.\u001b[39m_update()                  \u001b[38;5;66;03m# TurtleScreenBase\u001b[39;00m\n",
      "File \u001b[0;32m/Library/Frameworks/Python.framework/Versions/3.10/lib/python3.10/turtle.py:2647\u001b[0m, in \u001b[0;36mRawTurtle._update_data\u001b[0;34m(self)\u001b[0m\n\u001b[1;32m   2646\u001b[0m \u001b[38;5;28;01mdef\u001b[39;00m \u001b[38;5;21m_update_data\u001b[39m(\u001b[38;5;28mself\u001b[39m):\n\u001b[0;32m-> 2647\u001b[0m     \u001b[38;5;28;43mself\u001b[39;49m\u001b[38;5;241;43m.\u001b[39;49m\u001b[43mscreen\u001b[49m\u001b[38;5;241;43m.\u001b[39;49m\u001b[43m_incrementudc\u001b[49m\u001b[43m(\u001b[49m\u001b[43m)\u001b[49m\n\u001b[1;32m   2648\u001b[0m     \u001b[38;5;28;01mif\u001b[39;00m \u001b[38;5;28mself\u001b[39m\u001b[38;5;241m.\u001b[39mscreen\u001b[38;5;241m.\u001b[39m_updatecounter \u001b[38;5;241m!=\u001b[39m \u001b[38;5;241m0\u001b[39m:\n\u001b[1;32m   2649\u001b[0m         \u001b[38;5;28;01mreturn\u001b[39;00m\n",
      "File \u001b[0;32m/Library/Frameworks/Python.framework/Versions/3.10/lib/python3.10/turtle.py:1293\u001b[0m, in \u001b[0;36mTurtleScreen._incrementudc\u001b[0;34m(self)\u001b[0m\n\u001b[1;32m   1291\u001b[0m \u001b[38;5;28;01mif\u001b[39;00m \u001b[38;5;129;01mnot\u001b[39;00m TurtleScreen\u001b[38;5;241m.\u001b[39m_RUNNING:\n\u001b[1;32m   1292\u001b[0m     TurtleScreen\u001b[38;5;241m.\u001b[39m_RUNNING \u001b[38;5;241m=\u001b[39m \u001b[38;5;28;01mTrue\u001b[39;00m\n\u001b[0;32m-> 1293\u001b[0m     \u001b[38;5;28;01mraise\u001b[39;00m Terminator\n\u001b[1;32m   1294\u001b[0m \u001b[38;5;28;01mif\u001b[39;00m \u001b[38;5;28mself\u001b[39m\u001b[38;5;241m.\u001b[39m_tracing \u001b[38;5;241m>\u001b[39m \u001b[38;5;241m0\u001b[39m:\n\u001b[1;32m   1295\u001b[0m     \u001b[38;5;28mself\u001b[39m\u001b[38;5;241m.\u001b[39m_updatecounter \u001b[38;5;241m+\u001b[39m\u001b[38;5;241m=\u001b[39m \u001b[38;5;241m1\u001b[39m\n",
      "\u001b[0;31mTerminator\u001b[0m: "
     ]
    }
   ],
   "source": [
    "import turtle\n",
    "import random as r #Import thư viện sinh số ngẫu nhiên\n",
    "\n",
    "t = turtle.Turtle()\n",
    "t.shape(\"turtle\")\n",
    "# Ẩn hình ảnh rùa\n",
    "t.hideturtle()\n",
    "t.pensize(3)\n",
    "t.color(\"blue\")\n",
    "t.speed(1)\n",
    "t.penup()\n",
    "# Đặt vị trí ban đầu của con rùa sang bên trái\n",
    "# so với vị trí giữa màn hình 400 pixel\n",
    "# Mục đích để rùa chạy không ra khỏi màn hình\n",
    "# khi vòng lặp quá lớn\n",
    "t.goto(-400, 0)\n",
    "# Hiển thị hình ảnh con rùa\n",
    "t.showturtle()\n",
    "\n",
    "count = 0\n",
    "while count < 10:\n",
    "    # sinh hai giá trị ngẫu nhiên\n",
    "    down = r.randint(20, 50)\n",
    "    up = r.randint(20, 50)\n",
    "    t.pendown()\n",
    "    # rùa tiến về phía trước với giá trị ngẫu\n",
    "    # nhiên ở trên, có để lại nét vẽ\n",
    "    t.forward(down)\n",
    "    t.penup()\n",
    "    # rùa tiến về phía trước với giá trị ngẫu\n",
    "    # nhiên ở trên, không để lại nét vẽ\n",
    "    t.forward(up)\n",
    "    count += 1\n",
    "turtle.done()"
   ]
  },
  {
   "cell_type": "markdown",
   "id": "0b843b1d",
   "metadata": {},
   "source": [
    "## Vẽ vòng tròn thể hiện vòng giới hạn, không cho rùa chạy ra khỏi vòng này. Vị trí ban đầu của rùa ở chính giữa vòng tròn, hướng rùa chạy ngẫu nhiên. Khi rùa chạy gặp phải vòng tròn thì bị bắt về lại đúng vị trí ban đầu, chính giữa vòng tròn, rùa tiếp tục cố gắng thoát khỏi vòng tròn theo hướng khác. Cứ như thế, rùa không bao giờ thoát ra khỏi vòng tròn. Chương trình kết thúc khi số lần cố gắng trốn thoát của rùa = 10."
   ]
  },
  {
   "cell_type": "code",
   "execution_count": null,
   "id": "d3c2679c",
   "metadata": {},
   "outputs": [],
   "source": [
    "import turtle\n",
    "import random as r #Import thư viện sinh số ngẫu nhiên\n",
    "\n",
    "t = turtle.Turtle()\n",
    "t.hideturtle()\n",
    "t.penup()\n",
    "t.goto(0, -200)\n",
    "\n",
    "# Vẽ đường bao nhốt rùa\n",
    "# đường bao có màu đen\n",
    "t.speed(10)\n",
    "t.pensize(10)\n",
    "t.pencolor(\"black\")\n",
    "t.pendown()\n",
    "t.circle(200)\n",
    "\n",
    "# Đặt con trỏ rùa về chính giữa đường bao\n",
    "# Đổi màu rùa màu xanh\n",
    "t.penup()\n",
    "t.speed(10)\n",
    "t.shape(\"turtle\")\n",
    "t.pencolor('green')\n",
    "t.goto(0, 0)\n",
    "\n",
    "# Tạo hướng ngẫu nhiên ban đầu cho rùa\n",
    "# khi ở vị trí chính giữa đường bao\n",
    "angle = random.randint(0, 360)\n",
    "t.right(angle)\n",
    "t.showturtle()\n",
    "\n",
    "# Bắt đầu cho rùa chạy thoát khỏi đường bao\n",
    "# Khi rùa di chuyển đến đường bao, bắt rùa\n",
    "# về lại vị trí chính giữa của hộp\n",
    "count = 0\n",
    "while True:\n",
    "    t.speed(1)\n",
    "    # rùa chỉ di chuyển một khoảng cách\n",
    "    # hơi bé hơn bán kính của hộp tròn là 200\n",
    "    # tránh rùa di chuyển đè lên vạch\n",
    "    t.forward(188)\n",
    "    # Bắt rùa về vị trí ban đầu, chính giữa hộp tròn\n",
    "    t.hideturtle()\n",
    "    t.speed(10)\n",
    "    t.goto(0, 0)\n",
    "    angle = random.randint(0, 360)\n",
    "    # Tạo hướng mới cho rùa chạy, thử vận may mới\n",
    "    t.right(angle)\n",
    "    t.showturtle()\n",
    "    # Khi rùa thử đến số lần nào đó thì dừng lại\n",
    "    # kết thúc chương trình bằng lệnh break\n",
    "    count += 1\n",
    "    if count == 10:\n",
    "        break\n",
    "\n",
    "turtle.done()"
   ]
  }
 ],
 "metadata": {
  "kernelspec": {
   "display_name": "Python 3 (ipykernel)",
   "language": "python",
   "name": "python3"
  },
  "language_info": {
   "codemirror_mode": {
    "name": "ipython",
    "version": 3
   },
   "file_extension": ".py",
   "mimetype": "text/x-python",
   "name": "python",
   "nbconvert_exporter": "python",
   "pygments_lexer": "ipython3",
   "version": "3.10.7"
  }
 },
 "nbformat": 4,
 "nbformat_minor": 5
}
