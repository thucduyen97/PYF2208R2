{
 "cells": [
  {
   "cell_type": "code",
   "execution_count": 21,
   "id": "e93c68c4",
   "metadata": {},
   "outputs": [
    {
     "name": "stdout",
     "output_type": "stream",
     "text": [
      "Nha Nam\n",
      "Kim Dong\n",
      "ADC book\n",
      "Nha Nam\n",
      "Kim Dong\n",
      "ADC book\n",
      "Nha Nam\n",
      "Kim Dong\n",
      "ADC book\n",
      "Nha Nam\n",
      "Kim Dong\n",
      "ADC book\n"
     ]
    }
   ],
   "source": []
  },
  {
   "cell_type": "code",
   "execution_count": 29,
   "id": "705958c9",
   "metadata": {},
   "outputs": [
    {
     "name": "stdout",
     "output_type": "stream",
     "text": [
      "Python\n",
      "Javascript\n"
     ]
    }
   ],
   "source": []
  },
  {
   "cell_type": "code",
   "execution_count": 28,
   "id": "e64bfb32",
   "metadata": {},
   "outputs": [
    {
     "name": "stdout",
     "output_type": "stream",
     "text": [
      "Nguyen Son\n",
      "30 Ba Trieu\n",
      "banh mi\n"
     ]
    }
   ],
   "source": [
    "#VD2: \n",
    "\n",
    "def tiembanh(tentiembanh, diachi, loaibanh):\n",
    "     print(tentiembanh)\n",
    "     print(diachi)\n",
    "     print(loaibanh)\n",
    "\n",
    "tiembanh('Nguyen Son','30 Ba Trieu','banh mi')\n"
   ]
  },
  {
   "cell_type": "code",
   "execution_count": 5,
   "id": "d7a37dc2",
   "metadata": {},
   "outputs": [
    {
     "name": "stdout",
     "output_type": "stream",
     "text": [
      "kter\n",
      "70\n"
     ]
    }
   ],
   "source": [
    "#Khi truyền tham số vào biến trong hàm cần phải truyền đủ\n",
    "#Nếu truyền tham số vào biến trong hàm mà không đủ tham số thì cần làm như sau:\n",
    "\n",
    "def python_class(age, text ='kter'):\n",
    "    print(text)\n",
    "    print(age)\n",
    "\n",
    "python_class(70)\n",
    "\n",
    "\n"
   ]
  },
  {
   "cell_type": "code",
   "execution_count": null,
   "id": "94d0dfd6",
   "metadata": {},
   "outputs": [],
   "source": []
  }
 ],
 "metadata": {
  "kernelspec": {
   "display_name": "Python 3 (ipykernel)",
   "language": "python",
   "name": "python3"
  },
  "language_info": {
   "codemirror_mode": {
    "name": "ipython",
    "version": 3
   },
   "file_extension": ".py",
   "mimetype": "text/x-python",
   "name": "python",
   "nbconvert_exporter": "python",
   "pygments_lexer": "ipython3",
   "version": "3.10.7"
  }
 },
 "nbformat": 4,
 "nbformat_minor": 5
}
