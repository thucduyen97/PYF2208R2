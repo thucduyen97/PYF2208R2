{
 "cells": [
  {
   "cell_type": "code",
   "execution_count": 7,
   "id": "e027b496",
   "metadata": {},
   "outputs": [
    {
     "ename": "AttributeError",
     "evalue": "'Turtle' object has no attribute 'filcolor'",
     "output_type": "error",
     "traceback": [
      "\u001b[0;31m---------------------------------------------------------------------------\u001b[0m",
      "\u001b[0;31mAttributeError\u001b[0m                            Traceback (most recent call last)",
      "Input \u001b[0;32mIn [7]\u001b[0m, in \u001b[0;36m<cell line: 23>\u001b[0;34m()\u001b[0m\n\u001b[1;32m     20\u001b[0m t\u001b[38;5;241m.\u001b[39mfd(\u001b[38;5;241m100\u001b[39m)\n\u001b[1;32m     21\u001b[0m t\u001b[38;5;241m.\u001b[39mend_fill()\n\u001b[0;32m---> 23\u001b[0m \u001b[43mt\u001b[49m\u001b[38;5;241;43m.\u001b[39;49m\u001b[43mfilcolor\u001b[49m(\u001b[38;5;124m'\u001b[39m\u001b[38;5;124mYellow\u001b[39m\u001b[38;5;124m'\u001b[39m)\n\u001b[1;32m     24\u001b[0m \u001b[38;5;28;01mfor\u001b[39;00m i \u001b[38;5;129;01min\u001b[39;00m \u001b[38;5;28mrange\u001b[39m (\u001b[38;5;241m4\u001b[39m):\n\u001b[1;32m     25\u001b[0m     t\u001b[38;5;241m.\u001b[39mlt(\u001b[38;5;241m90\u001b[39m)\n",
      "\u001b[0;31mAttributeError\u001b[0m: 'Turtle' object has no attribute 'filcolor'"
     ]
    }
   ],
   "source": [
    "import turtle\n",
    "t=turtle.Turtle()\n",
    "t.pensize(2) #define pen size\n",
    "t.speed(15)\n",
    "\n",
    "#variables (mo ta bien so)\n",
    "sun=50\n",
    "\n",
    "\n",
    "#1 house\n",
    "t.pencolor(\"Black\") #define pen color\n",
    "t.fillcolor('orange')\n",
    "t.lt(120)\n",
    "t.fd(100)\n",
    "t.lt(90)\n",
    "t.fd(100)\n",
    "t.lt(90)\n",
    "t.fd(100)\n",
    "t.lt(90)\n",
    "t.fd(100)\n",
    "t.end_fill()\n",
    "\n",
    "t.filcolor('Yellow')\n",
    "for i in range (4):\n",
    "    t.lt(90)\n",
    "    t.fd(200)\n",
    "t.end_fill()\n",
    "\n",
    "\n",
    "\n",
    "#3 ve mat troi\n",
    "t.penup()\n",
    "t.goto(100,100)\n",
    "t.pendown()\n",
    "t.circle(sun)\n",
    "\n",
    "\n",
    "#4 ve cai cay\n",
    "t.penup()\n",
    "t.goto(100,50)\n",
    "t.pendown()\n",
    "\n",
    "turtle.done()"
   ]
  }
 ],
 "metadata": {
  "kernelspec": {
   "display_name": "Python 3 (ipykernel)",
   "language": "python",
   "name": "python3"
  },
  "language_info": {
   "codemirror_mode": {
    "name": "ipython",
    "version": 3
   },
   "file_extension": ".py",
   "mimetype": "text/x-python",
   "name": "python",
   "nbconvert_exporter": "python",
   "pygments_lexer": "ipython3",
   "version": "3.10.7"
  }
 },
 "nbformat": 4,
 "nbformat_minor": 5
}
