{
 "cells": [
  {
   "cell_type": "markdown",
   "id": "5eda0657",
   "metadata": {},
   "source": [
    "## BAI TAP CHUYEN DOI NHIET DO"
   ]
  },
  {
   "cell_type": "code",
   "execution_count": 3,
   "id": "37538c17",
   "metadata": {},
   "outputs": [
    {
     "name": "stdout",
     "output_type": "stream",
     "text": [
      "Nhap do C: 6\n",
      "Temperature in Fahrenheit is:  42.8\n"
     ]
    }
   ],
   "source": [
    "doC=int(input('Nhap do C: '))\n",
    "doF=(9*(int(doC))/5)+32\n",
    "print('Temperature in Fahrenheit is: ',doF)"
   ]
  },
  {
   "cell_type": "markdown",
   "id": "bf474bef",
   "metadata": {},
   "source": [
    "## BAI TAP VE NGOI NHA MO UOC"
   ]
  },
  {
   "cell_type": "code",
   "execution_count": null,
   "id": "75ec3be2",
   "metadata": {},
   "outputs": [],
   "source": []
  }
 ],
 "metadata": {
  "kernelspec": {
   "display_name": "Python 3 (ipykernel)",
   "language": "python",
   "name": "python3"
  },
  "language_info": {
   "codemirror_mode": {
    "name": "ipython",
    "version": 3
   },
   "file_extension": ".py",
   "mimetype": "text/x-python",
   "name": "python",
   "nbconvert_exporter": "python",
   "pygments_lexer": "ipython3",
   "version": "3.10.7"
  }
 },
 "nbformat": 4,
 "nbformat_minor": 5
}
