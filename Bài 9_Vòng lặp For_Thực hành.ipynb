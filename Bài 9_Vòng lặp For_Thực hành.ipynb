{
 "cells": [
  {
   "cell_type": "markdown",
   "id": "88e9ec01",
   "metadata": {},
   "source": [
    "'''\n",
    "Warm-up: In ra 10 số tự nhiên đầu tiên từ 1 đến 10\n",
    "'''"
   ]
  },
  {
   "cell_type": "code",
   "execution_count": 2,
   "id": "a9969358",
   "metadata": {},
   "outputs": [
    {
     "name": "stdout",
     "output_type": "stream",
     "text": [
      "1\n",
      "2\n",
      "3\n",
      "4\n",
      "5\n",
      "6\n",
      "7\n",
      "8\n",
      "9\n",
      "10\n"
     ]
    }
   ],
   "source": [
    "for i in range(1,11):\n",
    "    print(i)"
   ]
  },
  {
   "cell_type": "markdown",
   "id": "4a7255f4",
   "metadata": {},
   "source": [
    "'''\n",
    "Bài 1: Nhập vào số nguyên dương n. Tính tổng các số tự nhiên từ 1 đến n.\n",
    "'''"
   ]
  },
  {
   "cell_type": "code",
   "execution_count": 37,
   "id": "c5c98b2d",
   "metadata": {},
   "outputs": [
    {
     "name": "stdout",
     "output_type": "stream",
     "text": [
      "Nhap n: 4\n",
      "Tong la:  10\n"
     ]
    }
   ],
   "source": [
    "n=int(input('Nhap n: '))\n",
    "tong=0\n",
    "\n",
    "for i in range(1,n+1):\n",
    "    tong+=i\n",
    "print('Tong la: ',tong)"
   ]
  },
  {
   "cell_type": "markdown",
   "id": "61a3d484",
   "metadata": {},
   "source": [
    "'''\n",
    "Bài 2: Nhập vào số nguyên dương n. In ra bảng cửu chương từ 1 đến 10 của n.\n",
    "'''"
   ]
  },
  {
   "cell_type": "code",
   "execution_count": 1,
   "id": "1804c857",
   "metadata": {},
   "outputs": [
    {
     "name": "stdout",
     "output_type": "stream",
     "text": [
      "Nhap n: 4\n",
      "4*1 bang 4\n",
      "4*2 bang 8\n",
      "4*3 bang 12\n",
      "4*4 bang 16\n",
      "4*5 bang 20\n",
      "4*6 bang 24\n",
      "4*7 bang 28\n",
      "4*8 bang 32\n",
      "4*9 bang 36\n",
      "4*10 bang 40\n"
     ]
    }
   ],
   "source": [
    "n=int(input('Nhap n: '))\n",
    "    \n",
    "for i in range(1,11):\n",
    "    tich=i*n\n",
    "    print(f'{n}*{i} bang {tich}')"
   ]
  },
  {
   "cell_type": "markdown",
   "id": "1a5e9bc7",
   "metadata": {},
   "source": [
    "'''\n",
    "Bài 3: Nhập vào số nguyên dương n. Đếm xem n có bao nhiêu chữ số.\n",
    "'''"
   ]
  },
  {
   "cell_type": "code",
   "execution_count": 8,
   "id": "ea82a158",
   "metadata": {},
   "outputs": [
    {
     "name": "stdout",
     "output_type": "stream",
     "text": [
      "Nhap vao so nguyen duong n: dfjdh2354\n",
      "9\n"
     ]
    }
   ],
   "source": [
    "#Dlam\n",
    "\n",
    "n=(input('Nhap vao so nguyen duong n: '))\n",
    "chuso=0\n",
    "\n",
    "for int in n:\n",
    "    chuso+=1\n",
    "print(chuso)"
   ]
  },
  {
   "cell_type": "code",
   "execution_count": 6,
   "id": "a184c204",
   "metadata": {},
   "outputs": [
    {
     "name": "stdout",
     "output_type": "stream",
     "text": [
      "Nhap vao so nguyen duong n: 2345\n",
      "Total number of n is 4\n"
     ]
    }
   ],
   "source": [
    "#thaygiai\n",
    "\n",
    "n=int(input('Nhap vao so nguyen duong n: '))\n",
    "total_number=0\n",
    "\n",
    "while n>0: #n chia 10 khac 0\n",
    "    total_number += 1\n",
    "    n //=10\n",
    "print(f'Total number of n is {total_number}')"
   ]
  },
  {
   "cell_type": "markdown",
   "id": "a3229fbd",
   "metadata": {},
   "source": [
    "'''\n",
    "Bài 4: Nhập vào số nguyên dương n. Tính tổng các chữ số của n.\n",
    "'''"
   ]
  },
  {
   "cell_type": "code",
   "execution_count": 4,
   "id": "b5bb6a10",
   "metadata": {},
   "outputs": [
    {
     "name": "stdout",
     "output_type": "stream",
     "text": [
      "Nhap n: 234\n",
      "Tong la: 9\n"
     ]
    }
   ],
   "source": [
    "n=(input('Nhap n: '))\n",
    "tong=0\n",
    "\n",
    "for i in range(len(n)):\n",
    "    num=int(n[i])\n",
    "    tong+=num\n",
    "print(f'Tong la: {tong}')"
   ]
  },
  {
   "cell_type": "code",
   "execution_count": 7,
   "id": "210cb93a",
   "metadata": {},
   "outputs": [
    {
     "name": "stdout",
     "output_type": "stream",
     "text": [
      "Nhap n: 345\n",
      "Tong la: 12\n"
     ]
    }
   ],
   "source": [
    "#cach2\n",
    "\n",
    "n=int(input('Nhap n: '))\n",
    "total=0\n",
    "\n",
    "while n>0:\n",
    "    total+=n%10 #lay chu so hang don vi\n",
    "    n //=10\n",
    "print(f'Tong la: {total}')"
   ]
  },
  {
   "cell_type": "code",
   "execution_count": null,
   "id": "cf0da697",
   "metadata": {},
   "outputs": [],
   "source": [
    "'''\n",
    "Bài 5: Nhập vào số nguyên dương n. Sử dụng cấu trúc vòng lặp lồng nhau(nested for loop) để in ra tam giác có dạng như sau:\n",
    "1\n",
    "1 2\n",
    "1 2 3\n",
    "1 2 3 4\n",
    "1 2 3 4 5\n",
    "'''"
   ]
  },
  {
   "cell_type": "code",
   "execution_count": 3,
   "id": "66e551bb",
   "metadata": {},
   "outputs": [
    {
     "name": "stdout",
     "output_type": "stream",
     "text": [
      "Input n: 5\n",
      "1\n",
      "1 2\n",
      "1 2 3\n",
      "1 2 3 4\n",
      "1 2 3 4 5\n"
     ]
    }
   ],
   "source": [
    "n=int(input('Input n: '))\n",
    "\n",
    "for i in range(1,n+1):\n",
    "    for j in range(1,i+1):\n",
    "        if j<i:\n",
    "            print (j,end=' ')\n",
    "        else:\n",
    "            print(j)"
   ]
  },
  {
   "cell_type": "markdown",
   "id": "159cddb3",
   "metadata": {},
   "source": [
    "'''\n",
    "Bài 6: Nhập vào số nguyên dương n. Sử dụng cấu trúc vòng lặp lồng nhau(nested for loop) để in ra tam giác có dạng như sau:\n",
    "5 4 3 2 1\n",
    "4 3 2 1\n",
    "3 2 1\n",
    "2 1\n",
    "1\n",
    "'''"
   ]
  },
  {
   "cell_type": "code",
   "execution_count": 5,
   "id": "6bd3b86f",
   "metadata": {},
   "outputs": [
    {
     "name": "stdout",
     "output_type": "stream",
     "text": [
      "Input n: 5\n",
      "5 4 3 2 1\n",
      "4 3 2 1\n",
      "3 2 1\n",
      "2 1\n",
      "1\n"
     ]
    }
   ],
   "source": [
    "n=int(input('Input n: '))\n",
    "\n",
    "for i in range(n,0,-1):\n",
    "    for j in range(i,0,-1):\n",
    "        if j!=1:\n",
    "            print (j,end=' ')\n",
    "        else:\n",
    "            print(j)"
   ]
  },
  {
   "cell_type": "markdown",
   "id": "eec9de02",
   "metadata": {},
   "source": [
    "'''\n",
    "Bài 7: Nhập vào một số nguyên dương n. Tính giai thừa của n.\n",
    "Note: Giai thừa của n được tính bằng công thức: n! = n*(n - 1)*(n - 2)*...*1\n",
    "Ví dụ: 5! = 5 × 4 × 3 × 2 × 1 = 120\n",
    "'''"
   ]
  },
  {
   "cell_type": "code",
   "execution_count": 8,
   "id": "da9fad4a",
   "metadata": {},
   "outputs": [
    {
     "name": "stdout",
     "output_type": "stream",
     "text": [
      "Input n: 5\n",
      "Factorial of  5 is 120\n"
     ]
    }
   ],
   "source": [
    "n=int(input('Input n: '))\n",
    "factorial=1\n",
    "\n",
    "for i in range(2,n+1):\n",
    "    factorial=factorial*i\n",
    "print('Factorial of ', n, 'is', factorial)"
   ]
  },
  {
   "cell_type": "markdown",
   "id": "f1938db6",
   "metadata": {},
   "source": [
    "'''\n",
    "Bài 8: Viết chương trình nhập vào một số nguyên dương n và in ra số đảo ngược của n.\n",
    "Ví dụ:\n",
    "Input: 76542\n",
    "Output: 24567\n",
    "'''"
   ]
  },
  {
   "cell_type": "code",
   "execution_count": 12,
   "id": "bdc11ce4",
   "metadata": {},
   "outputs": [
    {
     "name": "stdout",
     "output_type": "stream",
     "text": [
      "Input n: 12345\n",
      "54321"
     ]
    }
   ],
   "source": [
    "n=int(input('Input n: '))\n",
    "\n",
    "while n>0:\n",
    "    print(n%10,end='')\n",
    "    n//=10"
   ]
  },
  {
   "cell_type": "markdown",
   "id": "da9c1842",
   "metadata": {},
   "source": [
    "'''\n",
    "Bài 9: Viết phần mềm nhập vào số n (từ 1 đến 9) và in ra tam giác có dạng như sau:\n",
    "1\n",
    "22\n",
    "333\n",
    "4444\n",
    "55555\n",
    "666666\n",
    "7777777\n",
    "88888888\n",
    "999999999\n",
    "'''"
   ]
  },
  {
   "cell_type": "code",
   "execution_count": 14,
   "id": "42f1e225",
   "metadata": {},
   "outputs": [
    {
     "name": "stdout",
     "output_type": "stream",
     "text": [
      "Input n: 9\n",
      "1\n",
      "22\n",
      "333\n",
      "4444\n",
      "55555\n",
      "666666\n",
      "7777777\n",
      "88888888\n",
      "999999999\n"
     ]
    }
   ],
   "source": [
    "#cach1\n",
    "\n",
    "n=int(input('Input n: '))\n",
    "\n",
    "for i in range(1,n+1):\n",
    "    for j in range(1,i+1):\n",
    "        print(i, end='')\n",
    "    print()"
   ]
  },
  {
   "cell_type": "code",
   "execution_count": 15,
   "id": "1f7360df",
   "metadata": {},
   "outputs": [
    {
     "name": "stdout",
     "output_type": "stream",
     "text": [
      "Input n: 9\n",
      "1\n",
      "22\n",
      "333\n",
      "4444\n",
      "55555\n",
      "666666\n",
      "7777777\n",
      "88888888\n",
      "999999999\n"
     ]
    }
   ],
   "source": [
    "#cach2\n",
    "\n",
    "n=int(input('Input n: '))\n",
    "\n",
    "for i in range(1,n+1):\n",
    "    print(str(i)*i)"
   ]
  },
  {
   "cell_type": "markdown",
   "id": "79bd81e0",
   "metadata": {},
   "source": [
    "'''\n",
    "Bài 10: Nhập vào một câu nói (mỗi từ cách nhau một khoảng trắng, không có dấu phẩy, chấm), hãy tách từng từ trong chuỗi ra rồi in lên màn hình. Mỗi từ in kèm với độ dài cửa từ đó\n",
    "\n",
    "Ví dụ:\n",
    "\n",
    "Nhập: Xin chào\n",
    "\n",
    "In:\n",
    "\n",
    "Xin 3\n",
    "\n",
    "Chào 4\n",
    "'''"
   ]
  },
  {
   "cell_type": "code",
   "execution_count": 22,
   "id": "f132aba3",
   "metadata": {},
   "outputs": [
    {
     "name": "stdout",
     "output_type": "stream",
     "text": [
      "Input string: Yeu anh\n",
      "Yeu 3\n",
      "anh 3\n"
     ]
    }
   ],
   "source": [
    "string=input('Input string: ')\n",
    "list_words=string.split(' ')\n",
    "\n",
    "for word in list_words:\n",
    "    print(word, len(word))"
   ]
  },
  {
   "cell_type": "markdown",
   "id": "c7ec6259",
   "metadata": {},
   "source": [
    "'''\n",
    "Bài 11: Nhập vào một chuỗi có 2 số nguyên, mỗi số cách nhau một dấu phẩy, hãy tính tổng của hai số đó\n",
    "\n",
    "Ví dụ:\n",
    "\n",
    "Nhập: 2,3 In: 5\n",
    "'''"
   ]
  },
  {
   "cell_type": "code",
   "execution_count": 23,
   "id": "c95a197f",
   "metadata": {},
   "outputs": [
    {
     "name": "stdout",
     "output_type": "stream",
     "text": [
      "Input string: 1,2,3\n",
      "6\n"
     ]
    }
   ],
   "source": [
    "string=input('Input string: ')\n",
    "list_numbers=string.split(',')\n",
    "total=0\n",
    "\n",
    "for number in list_numbers:\n",
    "    total+=int(number)\n",
    "print(total)"
   ]
  },
  {
   "cell_type": "markdown",
   "id": "dcb30364",
   "metadata": {},
   "source": [
    "'''\n",
    "Bài 12: Nhập vào một chuỗi, hãy cho biết trong chuỗi đó có bao nhiêu chữ số chẵn.\n",
    "'''"
   ]
  },
  {
   "cell_type": "code",
   "execution_count": 16,
   "id": "0c7c5b67",
   "metadata": {},
   "outputs": [
    {
     "name": "stdout",
     "output_type": "stream",
     "text": [
      "Input n: 4\n",
      "Cac so chan la: 4\n",
      "So chan trong chuoi la: 2\n",
      "Cac so chan la: 4\n",
      "So chan trong chuoi la: 3\n",
      "Cac so chan la: 4\n",
      "So chan trong chuoi la: 4\n",
      "Cac so chan la: 4\n",
      "So chan trong chuoi la: 5\n",
      "Cac so chan la: 4\n",
      "So chan trong chuoi la: 6\n"
     ]
    }
   ],
   "source": [
    "n=int(input('Input n: '))\n",
    "count=1\n",
    "\n",
    "for i in range(0,n):\n",
    "    if not n%2:\n",
    "        count+=1\n",
    "        print(f'Cac so chan la: {n}')\n",
    "    print(f'So chan trong chuoi la: {count}')"
   ]
  },
  {
   "cell_type": "markdown",
   "id": "e08be73a",
   "metadata": {},
   "source": [
    "'''\n",
    "Bài 13: Cần có tổng 200.000đ từ 3 loại giấy bạc 1000đ, 2000đ, và 5000đ. Lập \n",
    "chương tình để tìm tất cả các phương án có thể.\n",
    "'''"
   ]
  },
  {
   "cell_type": "code",
   "execution_count": null,
   "id": "a207fa89",
   "metadata": {},
   "outputs": [],
   "source": []
  },
  {
   "cell_type": "markdown",
   "id": "c42186b8",
   "metadata": {},
   "source": [
    "'''\n",
    "Bài 14: Nhập vào một chuỗi s chỉ chứa các ký tự '(', ')', '{', '}', '[' và ']', \n",
    "xác định xem chuỗi s có hợp lệ hay không.\n",
    "\n",
    "Chuỗi đầu vào hợp lệ nếu:\n",
    "\n",
    "- Các dấu ngoặc mở phải được đóng bằng cùng một loại dấu ngoặc.\n",
    "- Dấu ngoặc mở phải được đóng theo đúng thứ tự.\n",
    "- Mọi dấu ngoặc đóng đều có một dấu ngoặc mở tương ứng cùng loại.\n",
    "\n",
    "Ví dụ 1:\n",
    "Input: s = \"()\"\n",
    "Output: True\n",
    "\n",
    "Ví dụ 2:\n",
    "Input: s = \"() [] {}\"\n",
    "Output: True\n",
    "\n",
    "Ví dụ 3:\n",
    "Input: s = \"(]\"\n",
    "Output: False\n",
    "'''"
   ]
  },
  {
   "cell_type": "code",
   "execution_count": null,
   "id": "cfa3bb28",
   "metadata": {},
   "outputs": [],
   "source": []
  },
  {
   "cell_type": "markdown",
   "id": "da64840a",
   "metadata": {},
   "source": [
    "'''\n",
    "Bài 15: Roman to Integer\n",
    "Chữ số La Mã được thể hiện bằng bảy ký hiệu khác nhau: I, V, X, L, C, D và M.\n",
    "\n",
    "Symbol       Value\n",
    "I             1\n",
    "V             5\n",
    "X             10\n",
    "L             50\n",
    "C             100\n",
    "D             500\n",
    "M             1000\n",
    "\n",
    "Ví dụ: 2 được viết là II bằng số La Mã, chỉ là hai cái được cộng lại với nhau. \n",
    "12 được viết là XII, đơn giản là X + II. Con số 27 được viết là XXVII, là XX + V + II.\n",
    "\n",
    "Chữ số La mã thường được viết từ lớn nhất đến nhỏ nhất từ trái sang phải. \n",
    "Tuy nhiên, chữ số cho bốn không phải là IIII. Thay vào đó, số bốn được viết là IV. \n",
    "Bởi vì cái đứng trước năm, chúng ta trừ nó ra làm bốn. Nguyên tắc tương tự cũng áp dụng cho số chín, \n",
    "được viết là IX. Có sáu trường hợp phép trừ được sử dụng:\n",
    "\n",
    "I có thể được đặt trước V (5) và X (10) để tạo thành 4 và 9.\n",
    "X có thể được đặt trước L (50) và C (100) để tạo ra 40 và 90.\n",
    "C có thể được đặt trước D (500) và M (1000) để tạo thành 400 và 900.\n",
    "Nhập vào một chuỗi đại diện cho một số La Mã, hãy chuyển nó thành một số nguyên.\n",
    "\n",
    "Ví dụ 1:\n",
    "Input: s = \"III\"\n",
    "Output: 3\n",
    "Explanation: III = 3.\n",
    "\n",
    "Ví dụ 2:\n",
    "Input: s = \"LVIII\"\n",
    "Output: 58\n",
    "Explanation: L = 50, V= 5, III = 3.\n",
    "\n",
    "Ví dụ 3:\n",
    "Input: s = \"MCMXCIV\"\n",
    "Output: 1994\n",
    "Explanation: M = 1000, CM = 900, XC = 90 and IV = 4.\n",
    "'''"
   ]
  },
  {
   "cell_type": "code",
   "execution_count": null,
   "id": "63ba06c2",
   "metadata": {},
   "outputs": [],
   "source": []
  },
  {
   "cell_type": "markdown",
   "id": "58aae4c7",
   "metadata": {},
   "source": [
    "'''\n",
    "Bonus: Vẽ xe lửa\n",
    "What is the size of your train? 1\n",
    " ______________________>__\n",
    "|]||[]_[]_[]|||[]_[]_[]||[|\n",
    "\\==o-o======o-o======o-o==/\n",
    "\n",
    "What is the size of your train? 2\n",
    " _________________________   ______________________>__\n",
    "|]||[]_[]_[]|||[]_[]_[]||[| |]||[]_[]_[]|||[]_[]_[]||[|\n",
    "\\==o-o======o-o======o-o==/_\\==o-o======o-o======o-o==/\n",
    "'''"
   ]
  },
  {
   "cell_type": "code",
   "execution_count": null,
   "id": "474df533",
   "metadata": {},
   "outputs": [],
   "source": []
  },
  {
   "cell_type": "code",
   "execution_count": 1,
   "id": "2ad4a019",
   "metadata": {},
   "outputs": [
    {
     "name": "stdout",
     "output_type": "stream",
     "text": [
      "Trong hàm: Phạm vi dùng biến\n",
      "Ngoài hàm: Phạm vi dùng biến\n"
     ]
    }
   ],
   "source": [
    "x = \"Phạm vi dùng biến\"\n",
    " \n",
    "def foo():\n",
    "    print(\"Trong hàm:\", x)\n",
    "foo()\n",
    "print(\"Ngoài hàm:\", x)"
   ]
  }
 ],
 "metadata": {
  "kernelspec": {
   "display_name": "Python 3 (ipykernel)",
   "language": "python",
   "name": "python3"
  },
  "language_info": {
   "codemirror_mode": {
    "name": "ipython",
    "version": 3
   },
   "file_extension": ".py",
   "mimetype": "text/x-python",
   "name": "python",
   "nbconvert_exporter": "python",
   "pygments_lexer": "ipython3",
   "version": "3.10.7"
  }
 },
 "nbformat": 4,
 "nbformat_minor": 5
}
