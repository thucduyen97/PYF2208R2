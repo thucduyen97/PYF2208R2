{
 "cells": [
  {
   "cell_type": "markdown",
   "id": "00775e7a",
   "metadata": {},
   "source": [
    "# Kiểu dữ liệu LIST\n"
   ]
  },
  {
   "cell_type": "markdown",
   "id": "a9da912c",
   "metadata": {},
   "source": [
    "1/Kiểu dữ liệu List trong Python là một collection lưu trữ các phần tử theo tứ tự đã cho, có thể thay đổi. Cho phép chứa dữ liệu trùng lặp. List có cấu trúc dữ liệu mà có khả năng lưu giữ các kiểu dữ liệu khác nhau.\n",
    "\n",
    "List trong Python được viết với dấu ngoặc vuông [].\n",
    "\n",
    "Tương tự như chỉ mục của chuỗi, chỉ mục của List bắt đầu từ 0."
   ]
  },
  {
   "cell_type": "code",
   "execution_count": 5,
   "id": "89c3dd46",
   "metadata": {},
   "outputs": [],
   "source": [
    "#Ví dụ:\n",
    "list1 = ['java', 'python', 1997, 2000];\n",
    "list2 = [1, 2, 3, 4, 5 ];\n",
    "list3 = [\"a\", \"b\", \"c\", \"d\"];"
   ]
  },
  {
   "cell_type": "markdown",
   "id": "8adc24ec",
   "metadata": {},
   "source": [
    "-Truy cập các phần tử của List trong Python:"
   ]
  },
  {
   "cell_type": "code",
   "execution_count": 1,
   "id": "0f68660d",
   "metadata": {},
   "outputs": [
    {
     "name": "stdout",
     "output_type": "stream",
     "text": [
      "python\n"
     ]
    }
   ],
   "source": [
    "#Để truy cập các phần tử trong List, bạn sử dụng cú pháp sau:\n",
    "list1 = ['java', 'python', 'php', 'c++']\n",
    "print(list1[1])"
   ]
  },
  {
   "cell_type": "markdown",
   "id": "e813841a",
   "metadata": {},
   "source": [
    "-Chỉ mục âm\n",
    "Lập chỉ mục âm có nghĩa là bắt đầu từ cuối, -1 đề cập đến mục cuối cùng, -2 đề cập đến mục cuối cùng thứ hai, v.v."
   ]
  },
  {
   "cell_type": "code",
   "execution_count": 6,
   "id": "9ba1d144",
   "metadata": {},
   "outputs": [
    {
     "name": "stdout",
     "output_type": "stream",
     "text": [
      "c++\n"
     ]
    }
   ],
   "source": [
    "#Ví dụ:\n",
    "list1 = ['java', 'python', 'php', 'c++']\n",
    "print(list1[-1])"
   ]
  },
  {
   "cell_type": "markdown",
   "id": "468656a7",
   "metadata": {},
   "source": [
    "-Phạm vi chỉ mục\n",
    "\n",
    "Bạn có thể chỉ định một phạm vi chỉ mục bằng cách chỉ định nơi bắt đầu và nơi kết thúc phạm vi.\n",
    "\n",
    "Khi chỉ định một phạm vi, giá trị trả về sẽ là một List mới với các mục được chỉ định.\n",
    "\n"
   ]
  },
  {
   "cell_type": "code",
   "execution_count": 7,
   "id": "f2f969c2",
   "metadata": {},
   "outputs": [
    {
     "name": "stdout",
     "output_type": "stream",
     "text": [
      "['guava', 'orange', 'kiwi']\n"
     ]
    }
   ],
   "source": [
    "#Ví dụ : Trả lại mục thứ ba, thứ tư và thứ năm:\n",
    "fruits = [\"apple\", \"banana\", \"guava\", \"orange\", \"kiwi\", \"melon\", \"mango\"]\n",
    "print(fruits[2:5])"
   ]
  },
  {
   "cell_type": "markdown",
   "id": "82468bd4",
   "metadata": {},
   "source": [
    "-Phạm vi của các chỉ mục âm\n",
    "\n",
    "Chỉ định các chỉ mục âm nếu bạn muốn bắt đầu tìm kiếm từ cuối danh sách:"
   ]
  },
  {
   "cell_type": "code",
   "execution_count": 8,
   "id": "8172331b",
   "metadata": {},
   "outputs": [
    {
     "name": "stdout",
     "output_type": "stream",
     "text": [
      "['orange', 'kiwi', 'melon']\n"
     ]
    }
   ],
   "source": [
    "#Ví dụ : trả về các mục từ chỉ mục -4 (bao gồm) đến chỉ mục -1 (không bao gồm):\n",
    "fruits = [\"apple\", \"banana\", \"guava\", \"orange\", \"kiwi\", \"melon\", \"mango\"]\n",
    "print(fruits[-4:-1])"
   ]
  },
  {
   "cell_type": "markdown",
   "id": "2b6d1a8b",
   "metadata": {},
   "source": [
    "2/Các hoạt động cơ bản trên List trong Python\n",
    "\n",
    "Bạn có thể thực hiện các hoạt động nối 2 list với toán tử + hoặc hoạt động lặp với * như trong các chuỗi. Điểm khác biệt là ở đây nó tạo một List mới, không phải là một chuỗi."
   ]
  },
  {
   "cell_type": "markdown",
   "id": "09b4058b",
   "metadata": {},
   "source": [
    "-Thay đổi giá trị của item\n",
    "Để thay đổi giá trị của một item được chỉ định, ta dùng chỉ số và toán tử gán ="
   ]
  },
  {
   "cell_type": "code",
   "execution_count": 9,
   "id": "d54affef",
   "metadata": {},
   "outputs": [
    {
     "name": "stdout",
     "output_type": "stream",
     "text": [
      "['apple', '*orange*', 'guava']\n"
     ]
    }
   ],
   "source": [
    "#ví dụ:\n",
    "fruits = [\"apple\", \"banana\", \"guava\"]\n",
    "fruits[1] = \"*orange*\" #gan gia tri o vi tri 1 = orange\n",
    "print(fruits)"
   ]
  },
  {
   "cell_type": "markdown",
   "id": "d16df379",
   "metadata": {},
   "source": [
    "-Duyệt các phần tử của một list\n",
    "\n",
    "Bạn có thể duyệt các phần tử của một list bằng cách sử dụng vòng lặp for "
   ]
  },
  {
   "cell_type": "code",
   "execution_count": 10,
   "id": "672f90b4",
   "metadata": {},
   "outputs": [
    {
     "name": "stdout",
     "output_type": "stream",
     "text": [
      "apple\n",
      "banana\n",
      "guava\n"
     ]
    }
   ],
   "source": [
    "#Ví dụ:\n",
    "fruits = [\"apple\", \"banana\", \"guava\"]\n",
    "for x in fruits:\n",
    "    print(x)"
   ]
  },
  {
   "cell_type": "markdown",
   "id": "b74ce974",
   "metadata": {},
   "source": [
    "-Kiểm tra sự tồn tại của một Item trong list\n",
    "\n",
    "Sử dụng từ khóa in để kiểm tra sử tồn tại của một item trong một list trong Python."
   ]
  },
  {
   "cell_type": "code",
   "execution_count": 11,
   "id": "6f392ab4",
   "metadata": {},
   "outputs": [
    {
     "name": "stdout",
     "output_type": "stream",
     "text": [
      "\"banana\" co ton tai trong list\n"
     ]
    }
   ],
   "source": [
    "#Ví dụ:\n",
    "fruits = [\"apple\", \"banana\", \"guava\"];\n",
    "x = \"banana\" in fruits;\n",
    "if (x == True):\n",
    "    print(\"\\\"banana\\\" co ton tai trong list\");\n",
    "else:\n",
    "    print(\"\\\"banana\\\" khong ton tai trong list\");"
   ]
  },
  {
   "cell_type": "markdown",
   "id": "e2b73854",
   "metadata": {},
   "source": [
    "-Độ dài của một list trong Python\n",
    "\n",
    "Để xác định danh sách có bao nhiêu item, bạn có thể sử dụng hàm len():"
   ]
  },
  {
   "cell_type": "code",
   "execution_count": 12,
   "id": "7eb4fd6c",
   "metadata": {},
   "outputs": [
    {
     "name": "stdout",
     "output_type": "stream",
     "text": [
      "So item cua list fruts la:  3\n"
     ]
    }
   ],
   "source": [
    "#ví dụ:\n",
    "fruits = [\"apple\", \"banana\", \"guava\"];\n",
    "print(\"So item cua list fruts la: \", len(fruits));\n"
   ]
  },
  {
   "cell_type": "markdown",
   "id": "061c3abf",
   "metadata": {},
   "source": [
    "-Thêm phần tử tới List trong Python\n",
    "\n",
    "Để thêm một item (phần tử) vào cuối danh sách, hãy sử dụng phương thức append():"
   ]
  },
  {
   "cell_type": "code",
   "execution_count": 13,
   "id": "25d61c14",
   "metadata": {},
   "outputs": [
    {
     "name": "stdout",
     "output_type": "stream",
     "text": [
      "['apple', 'banana', 'guava', 'kiwi']\n"
     ]
    }
   ],
   "source": [
    "#ví dụ\n",
    "fruits = [\"apple\", \"banana\", \"guava\"];\n",
    "fruits.append(\"kiwi\");\n",
    "print(fruits);"
   ]
  },
  {
   "cell_type": "markdown",
   "id": "e87c670e",
   "metadata": {},
   "source": [
    "Để thêm item tại chỉ mục đã chỉ định, hãy sử dụng phương thức insert():"
   ]
  },
  {
   "cell_type": "code",
   "execution_count": 14,
   "id": "d2e789d2",
   "metadata": {},
   "outputs": [
    {
     "name": "stdout",
     "output_type": "stream",
     "text": [
      "['apple', 'banana', 'kiwi', 'guava']\n"
     ]
    }
   ],
   "source": [
    "fruits = [\"apple\", \"banana\", \"guava\"];\n",
    "fruits.insert(2, \"kiwi\");\n",
    "print(fruits);"
   ]
  },
  {
   "cell_type": "markdown",
   "id": "72f34179",
   "metadata": {},
   "source": [
    "-Xóa phần tử khỏi list trong Python\n",
    "\n",
    "Có một số phương pháp để xóa các phần tử khỏi một list như sau:\n",
    "\n",
    "Xóa phần tử bằng phương thức remove()"
   ]
  },
  {
   "cell_type": "code",
   "execution_count": 15,
   "id": "bdc5dbe5",
   "metadata": {},
   "outputs": [
    {
     "name": "stdout",
     "output_type": "stream",
     "text": [
      "['apple', 'guava']\n"
     ]
    }
   ],
   "source": [
    "fruits = [\"apple\", \"banana\", \"guava\"];\n",
    "fruits.remove(\"banana\")\n",
    "print(fruits);"
   ]
  },
  {
   "cell_type": "markdown",
   "id": "3f15a288",
   "metadata": {},
   "source": [
    "Xóa phần tử bằng phương thức pop()\n",
    "Phương thức pop() xóa phần tử cuối cùng của list:"
   ]
  },
  {
   "cell_type": "code",
   "execution_count": 16,
   "id": "f099d574",
   "metadata": {},
   "outputs": [
    {
     "name": "stdout",
     "output_type": "stream",
     "text": [
      "['apple', 'banana']\n"
     ]
    }
   ],
   "source": [
    "fruits = [\"apple\", \"banana\", \"guava\"];\n",
    "fruits.pop();\n",
    "print(fruits);"
   ]
  },
  {
   "cell_type": "markdown",
   "id": "4e57b1be",
   "metadata": {},
   "source": [
    "Xóa phần tử bằng lệnh del\n",
    "Lệnh del được sử dụng để xóa phần tử có chỉ mục cụ thể:"
   ]
  },
  {
   "cell_type": "code",
   "execution_count": 17,
   "id": "37c36798",
   "metadata": {},
   "outputs": [
    {
     "name": "stdout",
     "output_type": "stream",
     "text": [
      "['banana', 'guava']\n"
     ]
    }
   ],
   "source": [
    "fruits = [\"apple\", \"banana\", \"guava\"];\n",
    "del fruits[0]\n",
    "print(fruits);"
   ]
  },
  {
   "cell_type": "markdown",
   "id": "371c464f",
   "metadata": {},
   "source": [
    "-Copy list trong Python\n",
    "Bạn không thể copy list chỉ bằng cách nhập list2 = list1, bởi vì: list2 sẽ chỉ là một tham chiếu đến list1 và những thay đổi trong list1 cũng sẽ tự động được thực hiện trong list2.\n",
    "\n",
    "Để copy list, python cung cấp phương thức copy()."
   ]
  },
  {
   "cell_type": "code",
   "execution_count": 18,
   "id": "1c1bf34f",
   "metadata": {},
   "outputs": [
    {
     "name": "stdout",
     "output_type": "stream",
     "text": [
      "Bi thay doi theo list ban dau:  ['apple', 'banana', 'guava', 'kiwi']\n",
      "Khong bi thay doi theo list ban dau: ['apple', 'banana', 'guava']\n"
     ]
    }
   ],
   "source": [
    "fruits = [\"apple\", \"banana\", \"guava\"];\n",
    "listCopy1 = fruits;\n",
    "listCopy2 = fruits.copy();\n",
    "fruits.append(\"kiwi\"); # thay doi list ban dau\n",
    "print(\"Bi thay doi theo list ban dau: \", listCopy1);\n",
    "print(\"Khong bi thay doi theo list ban dau:\", listCopy2);"
   ]
  },
  {
   "cell_type": "markdown",
   "id": "d02d47f4",
   "metadata": {},
   "source": [
    "-Nối 2 list trong Python\n",
    "Một trong những cách dễ nhất để nối 2 list là sử dụng toán tử +."
   ]
  },
  {
   "cell_type": "code",
   "execution_count": 19,
   "id": "d62e304d",
   "metadata": {},
   "outputs": [
    {
     "name": "stdout",
     "output_type": "stream",
     "text": [
      "['a', 'b', 'c', 1, 2, 3]\n"
     ]
    }
   ],
   "source": [
    "list1 = [\"a\", \"b\" , \"c\"]\n",
    "list2 = [1, 2, 3]\n",
    " \n",
    "list3 = list1 + list2\n",
    "print(list3)"
   ]
  },
  {
   "cell_type": "markdown",
   "id": "0430e73a",
   "metadata": {},
   "source": [
    "-Constructor List()\n",
    "\n",
    "Bạn có thể sử dụng constructor list() để tạo một danh sách mới."
   ]
  },
  {
   "cell_type": "code",
   "execution_count": 21,
   "id": "dde492f8",
   "metadata": {},
   "outputs": [
    {
     "name": "stdout",
     "output_type": "stream",
     "text": [
      "['apple', 'banana', 'guava']\n"
     ]
    }
   ],
   "source": [
    "fruits = list((\"apple\", \"banana\", \"guava\"));\n",
    "print(fruits)"
   ]
  },
  {
   "cell_type": "markdown",
   "id": "69052c7f",
   "metadata": {},
   "source": [
    "# Kiểu dữ liệu Tuple \n"
   ]
  },
  {
   "cell_type": "markdown",
   "id": "6585ccaa",
   "metadata": {},
   "source": [
    "Kiểu dữ liệu Tuple trong python là một collection có thứ tự, không thể thay đổi. Cho phép chứa dữ liệu trùng lặp.\n",
    "\n",
    "Tuple sử dụng các dấu ngoặc đơn, Không giống như List sử dụng các dấu ngoặc vuông. Các đối tượng trong tuple được phân biệt bởi dấu phảy và được bao quanh bởi dấu ngoặc đơn (). Giống như chỉ mục của chuỗi, chỉ mục của tuple bắt đầu từ 0.\n",
    "\n"
   ]
  },
  {
   "cell_type": "code",
   "execution_count": 23,
   "id": "e73b2927",
   "metadata": {},
   "outputs": [
    {
     "name": "stdout",
     "output_type": "stream",
     "text": [
      "('apple', 'banana', 'guava')\n"
     ]
    }
   ],
   "source": [
    "#Ví dụ:\n",
    "fruits = (\"apple\", \"banana\", \"guava\")\n",
    "print(fruits)\n",
    "#Ghi chú: Nếu các dấu ngoặc đơn không được cung cấp với một dãy, thì nó được coi như là tuple."
   ]
  },
  {
   "cell_type": "markdown",
   "id": "04c2843d",
   "metadata": {},
   "source": [
    "Một tuple trống không chứa phần tử nào,"
   ]
  },
  {
   "cell_type": "code",
   "execution_count": 24,
   "id": "25308013",
   "metadata": {},
   "outputs": [],
   "source": [
    "# ví dụ:\n",
    "tup1 = ();"
   ]
  },
  {
   "cell_type": "markdown",
   "id": "c7850a44",
   "metadata": {},
   "source": [
    "Các tuple cũng có thể được lồng vào nhau, "
   ]
  },
  {
   "cell_type": "code",
   "execution_count": 25,
   "id": "c8df1c6c",
   "metadata": {},
   "outputs": [
    {
     "name": "stdout",
     "output_type": "stream",
     "text": [
      "(('apple', 'banana', 'guava'), ('kiwi', 'cherry'))\n"
     ]
    }
   ],
   "source": [
    "#ví dụ:\n",
    "tupl1 = (\"apple\", \"banana\", \"guava\")\n",
    "tupl2 = (\"kiwi\", \"cherry\")\n",
    "fruits = (tupl1, tupl2)\n",
    "print (fruits)"
   ]
  },
  {
   "cell_type": "markdown",
   "id": "1e32f676",
   "metadata": {},
   "source": [
    "-Truy cập các giá trị trong tuple trong Python\n",
    "\n",
    "Bạn có thể truy cập các giá trị của tuple bằng cách tham bằng cách sử dụng chỉ mục, bên trong dấu ngoặc vuông"
   ]
  },
  {
   "cell_type": "code",
   "execution_count": 26,
   "id": "255392fa",
   "metadata": {},
   "outputs": [
    {
     "name": "stdout",
     "output_type": "stream",
     "text": [
      "banana\n"
     ]
    }
   ],
   "source": [
    "#Ví dụ:\n",
    "fruits = (\"apple\", \"banana\", \"guava\", \"kiwi\", \"cherry\")\n",
    "print (fruits[1])"
   ]
  },
  {
   "cell_type": "markdown",
   "id": "4589cf95",
   "metadata": {},
   "source": [
    "-Chỉ mục âm\n",
    "\n",
    "Lập chỉ mục âm có nghĩa là bắt đầu từ cuối, -1 đề cập đến mục cuối cùng, -2 đề cập đến mục cuối cùng thứ hai, v.v. "
   ]
  },
  {
   "cell_type": "code",
   "execution_count": 27,
   "id": "f5b22ac4",
   "metadata": {},
   "outputs": [
    {
     "name": "stdout",
     "output_type": "stream",
     "text": [
      "cherry\n"
     ]
    }
   ],
   "source": [
    "#Ví dụ:\n",
    "fruits = (\"apple\", \"banana\", \"guava\", \"kiwi\", \"cherry\")\n",
    "print (fruits[-1])"
   ]
  },
  {
   "cell_type": "markdown",
   "id": "bce76a84",
   "metadata": {},
   "source": [
    "-Phạm vi chỉ mục\n",
    "\n",
    "Bạn có thể chỉ định một phạm vi chỉ mục bằng cách chỉ định nơi bắt đầu và nơi kết thúc phạm vi.\n",
    "\n",
    "Khi chỉ định một phạm vi, giá trị trả về sẽ là một tuple mới với các mục được chỉ định."
   ]
  },
  {
   "cell_type": "code",
   "execution_count": 28,
   "id": "66450bb6",
   "metadata": {},
   "outputs": [
    {
     "name": "stdout",
     "output_type": "stream",
     "text": [
      "('guava', 'kiwi', 'cherry')\n"
     ]
    }
   ],
   "source": [
    "#Ví dụ: Trả lại giá trị thứ ba, thứ tư và thứ năm:\n",
    "fruits = (\"apple\", \"banana\", \"guava\", \"kiwi\", \"cherry\", \"orange\", \"lemon\")\n",
    "print (fruits[2:5])"
   ]
  },
  {
   "cell_type": "markdown",
   "id": "68a78cde",
   "metadata": {},
   "source": [
    "-Thay đổi giá trị Tuple\n",
    "\n",
    "Khi một tuple được tạo, bạn không thể thay đổi giá trị của nó. Tuple là không thể thay đổi hoặc bất biến.\n",
    "\n",
    "Có một cách giải quyết. Đó là bạn có thể chuyển đổi tuple thành một list, thay đổi list và chuyển đổi lại thành tuple."
   ]
  },
  {
   "cell_type": "code",
   "execution_count": 29,
   "id": "fc9c2037",
   "metadata": {},
   "outputs": [
    {
     "name": "stdout",
     "output_type": "stream",
     "text": [
      "('apple', 'kiwi', 'cherry')\n"
     ]
    }
   ],
   "source": [
    "x = (\"apple\", \"banana\", \"cherry\")\n",
    "y = list(x)\n",
    "y[1] = \"kiwi\"\n",
    "x = tuple(y)\n",
    " \n",
    "print(x)"
   ]
  },
  {
   "cell_type": "markdown",
   "id": "5e41e981",
   "metadata": {},
   "source": [
    "-Duyệt các giá trị của một Tuple\n",
    "\n",
    "Bạn có thể duyệt qua các giá trị của một tuple trong Python bằng cách sử dụng vòng lặp for ."
   ]
  },
  {
   "cell_type": "code",
   "execution_count": 30,
   "id": "ea294a36",
   "metadata": {},
   "outputs": [
    {
     "name": "stdout",
     "output_type": "stream",
     "text": [
      "apple\n",
      "banana\n",
      "cherry\n"
     ]
    }
   ],
   "source": [
    "fruits = (\"apple\", \"banana\", \"cherry\")\n",
    "for x in fruits:\n",
    "    print(x)"
   ]
  },
  {
   "cell_type": "markdown",
   "id": "a966b307",
   "metadata": {},
   "source": [
    "-Kiểm tra xem nếu giá trị tồn tại trong Tuple\n",
    "\n",
    "Sử dụng từ khóa in để kiểm tra xem giá trị đã cho có tồn tại trong Tuple hay không."
   ]
  },
  {
   "cell_type": "code",
   "execution_count": 31,
   "id": "e9510260",
   "metadata": {},
   "outputs": [
    {
     "name": "stdout",
     "output_type": "stream",
     "text": [
      "True\n"
     ]
    }
   ],
   "source": [
    "fruits = (\"apple\", \"banana\", \"cherry\")\n",
    "x = \"banana\" in fruits\n",
    "print(x)"
   ]
  },
  {
   "cell_type": "markdown",
   "id": "7d72b9d9",
   "metadata": {},
   "source": [
    "-Chiều dài tuple trong Python\n",
    "\n",
    "Để xác định có bao nhiêu giá trị trong một tuple, sử dụng hàm len()."
   ]
  },
  {
   "cell_type": "code",
   "execution_count": 32,
   "id": "7f1d14d0",
   "metadata": {},
   "outputs": [
    {
     "name": "stdout",
     "output_type": "stream",
     "text": [
      "3\n"
     ]
    }
   ],
   "source": [
    "fruits = (\"apple\", \"banana\", \"cherry\")\n",
    "print(len(fruits))"
   ]
  },
  {
   "cell_type": "markdown",
   "id": "1158111e",
   "metadata": {},
   "source": [
    "-Thêm các phần tử vào tuple trong Python\n",
    "\n",
    "Khi một tuple được tạo, bạn không thể thêm các mục vào nó. Tuples là không thể thay đổi ."
   ]
  },
  {
   "cell_type": "code",
   "execution_count": 33,
   "id": "13136dbf",
   "metadata": {},
   "outputs": [
    {
     "ename": "TypeError",
     "evalue": "'tuple' object does not support item assignment",
     "output_type": "error",
     "traceback": [
      "\u001b[1;31m---------------------------------------------------------------------------\u001b[0m",
      "\u001b[1;31mTypeError\u001b[0m                                 Traceback (most recent call last)",
      "Cell \u001b[1;32mIn [33], line 3\u001b[0m\n\u001b[0;32m      1\u001b[0m \u001b[38;5;66;03m#Ví dụ sau sẽ tạo ra một lỗi:\u001b[39;00m\n\u001b[0;32m      2\u001b[0m fruits \u001b[38;5;241m=\u001b[39m (\u001b[38;5;124m\"\u001b[39m\u001b[38;5;124mapple\u001b[39m\u001b[38;5;124m\"\u001b[39m, \u001b[38;5;124m\"\u001b[39m\u001b[38;5;124mbanana\u001b[39m\u001b[38;5;124m\"\u001b[39m, \u001b[38;5;124m\"\u001b[39m\u001b[38;5;124mcherry\u001b[39m\u001b[38;5;124m\"\u001b[39m)\n\u001b[1;32m----> 3\u001b[0m fruits[\u001b[38;5;241m3\u001b[39m] \u001b[38;5;241m=\u001b[39m \u001b[38;5;124m\"\u001b[39m\u001b[38;5;124mkiwi\u001b[39m\u001b[38;5;124m\"\u001b[39m\n\u001b[0;32m      4\u001b[0m \u001b[38;5;28mprint\u001b[39m(\u001b[38;5;28mlen\u001b[39m(fruits))\n",
      "\u001b[1;31mTypeError\u001b[0m: 'tuple' object does not support item assignment"
     ]
    }
   ],
   "source": [
    "#Ví dụ sau sẽ tạo ra một lỗi:\n",
    "fruits = (\"apple\", \"banana\", \"cherry\")\n",
    "fruits[3] = \"kiwi\"\n",
    "print(len(fruits))"
   ]
  },
  {
   "cell_type": "markdown",
   "id": "7cd7eb46",
   "metadata": {},
   "source": [
    "-Tạo tuple với một phần tử duy nhất\n",
    "\n",
    "Với một tuple chỉ có duy nhất một giá trị, thì phải có một dấu phảy ở cuối"
   ]
  },
  {
   "cell_type": "code",
   "execution_count": 34,
   "id": "adf9fbab",
   "metadata": {},
   "outputs": [
    {
     "name": "stdout",
     "output_type": "stream",
     "text": [
      "<class 'tuple'>\n",
      "<class 'str'>\n"
     ]
    }
   ],
   "source": [
    "#ví dụ:\n",
    "tuple1 = (\"apple\",)\n",
    "print(type(tuple1))\n",
    " \n",
    "#khong phai la mot tuple\n",
    "tuple2 = (\"apple\")\n",
    "print(type(tuple2))"
   ]
  },
  {
   "cell_type": "markdown",
   "id": "e30c8ef3",
   "metadata": {},
   "source": [
    "-Xóa các phần tử của Tuple trong Python\n"
   ]
  },
  {
   "cell_type": "markdown",
   "id": "b3062f06",
   "metadata": {},
   "source": [
    "Tuple là không thể thay đổi, vì vậy bạn không thể xóa các mục khỏi nó, nhưng bạn có thể xóa hoàn toàn một tuple bằng cách sử dụng từ khóa del.\n",
    "\n",
    "Lưu ý: Bạn không thể xóa các phần tử trong một tuple."
   ]
  },
  {
   "cell_type": "code",
   "execution_count": 35,
   "id": "1162fd27",
   "metadata": {},
   "outputs": [
    {
     "ename": "NameError",
     "evalue": "name 'fruits' is not defined",
     "output_type": "error",
     "traceback": [
      "\u001b[1;31m---------------------------------------------------------------------------\u001b[0m",
      "\u001b[1;31mNameError\u001b[0m                                 Traceback (most recent call last)",
      "Cell \u001b[1;32mIn [35], line 3\u001b[0m\n\u001b[0;32m      1\u001b[0m fruits \u001b[38;5;241m=\u001b[39m (\u001b[38;5;124m\"\u001b[39m\u001b[38;5;124mapple\u001b[39m\u001b[38;5;124m\"\u001b[39m, \u001b[38;5;124m\"\u001b[39m\u001b[38;5;124mbanana\u001b[39m\u001b[38;5;124m\"\u001b[39m, \u001b[38;5;124m\"\u001b[39m\u001b[38;5;124mcherry\u001b[39m\u001b[38;5;124m\"\u001b[39m)\n\u001b[0;32m      2\u001b[0m \u001b[38;5;28;01mdel\u001b[39;00m fruits\n\u001b[1;32m----> 3\u001b[0m \u001b[38;5;28mprint\u001b[39m(fruits)\n",
      "\u001b[1;31mNameError\u001b[0m: name 'fruits' is not defined"
     ]
    }
   ],
   "source": [
    "fruits = (\"apple\", \"banana\", \"cherry\")\n",
    "del fruits\n",
    "print(fruits)"
   ]
  },
  {
   "cell_type": "markdown",
   "id": "838529b3",
   "metadata": {},
   "source": [
    "-Nối 2 Tuple trong Python\n",
    "\n",
    "Bạn có thể sử dụng toán tử cộng để nối nhiều tuple trong Python:"
   ]
  },
  {
   "cell_type": "code",
   "execution_count": 36,
   "id": "bfce4503",
   "metadata": {},
   "outputs": [
    {
     "name": "stdout",
     "output_type": "stream",
     "text": [
      "('a', 'b', 'c', 1, 2, 3)\n"
     ]
    }
   ],
   "source": [
    "tuple1 = (\"a\", \"b\" , \"c\")\n",
    "tuple2 = (1, 2, 3)\n",
    " \n",
    "tuple3 = tuple1 + tuple2\n",
    "print(tuple3)"
   ]
  },
  {
   "cell_type": "markdown",
   "id": "cf756cb8",
   "metadata": {},
   "source": [
    "-Constructor tuple()\n",
    "\n",
    "Cũng có thể sử dụng constructor tuple() để tạo một tuple"
   ]
  },
  {
   "cell_type": "code",
   "execution_count": 37,
   "id": "4b0b0f97",
   "metadata": {},
   "outputs": [
    {
     "name": "stdout",
     "output_type": "stream",
     "text": [
      "('apple', 'banana', 'cherry')\n"
     ]
    }
   ],
   "source": [
    "fruits = tuple((\"apple\", \"banana\", \"cherry\"))\n",
    "print(fruits)"
   ]
  },
  {
   "cell_type": "code",
   "execution_count": null,
   "id": "611c1ece",
   "metadata": {},
   "outputs": [],
   "source": []
  }
 ],
 "metadata": {
  "kernelspec": {
   "display_name": "Python 3 (ipykernel)",
   "language": "python",
   "name": "python3"
  },
  "language_info": {
   "codemirror_mode": {
    "name": "ipython",
    "version": 3
   },
   "file_extension": ".py",
   "mimetype": "text/x-python",
   "name": "python",
   "nbconvert_exporter": "python",
   "pygments_lexer": "ipython3",
   "version": "3.10.7"
  }
 },
 "nbformat": 4,
 "nbformat_minor": 5
}
