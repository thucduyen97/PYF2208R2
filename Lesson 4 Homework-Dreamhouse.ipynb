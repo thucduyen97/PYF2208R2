{
 "cells": [
  {
   "cell_type": "code",
   "execution_count": null,
   "id": "9531b61a",
   "metadata": {},
   "outputs": [],
   "source": [
    "import turtle\n",
    "t=turtle.Turtle()\n",
    "t.pensize(2) #define pen size\n",
    "t.speed(15)\n",
    "\n",
    "#variables (mo ta bien so)\n",
    "sun=50\n",
    "\n",
    "\n",
    "#1 house\n",
    "t.pencolor(\"Black\") #define pen color\n",
    "t.fillcolor('orange')\n",
    "t.lt(120)\n",
    "t.fd(100)\n",
    "t.lt(90)\n",
    "t.fd(100)\n",
    "t.lt(90)\n",
    "t.fd(100)\n",
    "t.lt(90)\n",
    "t.fd(100)\n",
    "t.end_fill()\n",
    "\n",
    "t.lt(90)\n",
    "t.fd(200)\n",
    "\n",
    "\n",
    "#3 ve mat troi\n",
    "t.penup()\n",
    "t.goto(100,100)\n",
    "t.pendown()\n",
    "t.circle(sun)\n",
    "\n",
    "\n",
    "#4 ve cai cay\n",
    "t.penup()\n",
    "t.goto(100,50)\n",
    "t.pendown()\n",
    "\n",
    "turtle.done()"
   ]
  }
 ],
 "metadata": {
  "kernelspec": {
   "display_name": "Python 3 (ipykernel)",
   "language": "python",
   "name": "python3"
  },
  "language_info": {
   "codemirror_mode": {
    "name": "ipython",
    "version": 3
   },
   "file_extension": ".py",
   "mimetype": "text/x-python",
   "name": "python",
   "nbconvert_exporter": "python",
   "pygments_lexer": "ipython3",
   "version": "3.10.7"
  }
 },
 "nbformat": 4,
 "nbformat_minor": 5
}
